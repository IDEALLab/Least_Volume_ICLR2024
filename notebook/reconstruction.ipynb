{
 "cells": [
  {
   "cell_type": "code",
   "execution_count": 1,
   "metadata": {},
   "outputs": [
    {
     "name": "stderr",
     "output_type": "stream",
     "text": [
      "/usr/local/lib/python3.8/dist-packages/tqdm/auto.py:22: TqdmWarning: IProgress not found. Please update jupyter and ipywidgets. See https://ipywidgets.readthedocs.io/en/stable/user_install.html\n",
      "  from .autonotebook import tqdm as notebook_tqdm\n"
     ]
    }
   ],
   "source": [
    "import torch\n",
    "import numpy as np\n",
    "import sys; sys.path.append('../src/'); sys.path.append('..')\n",
    "import matplotlib.pyplot as plt"
   ]
  },
  {
   "cell_type": "code",
   "execution_count": 8,
   "metadata": {},
   "outputs": [],
   "source": [
    "from src.model.utils.metrics import l2_loss, explained_reconstruction, mean_correlation, importance_correlation, main_exprec\n",
    "from src.toy_experiment import MLP, Adam, generate_configs, read_dataset, DataLoader, VolumeAE\n",
    "from itertools import product\n",
    "from torch.nn.functional import mse_loss"
   ]
  },
  {
   "cell_type": "code",
   "execution_count": 9,
   "metadata": {},
   "outputs": [],
   "source": [
    "ll = [1, 2, 4, 8, 16, 32][:4]\n",
    "dd = [2, 4, 8, 16, 32]\n",
    "ii = range(5)\n",
    "ww = [[32]*4, [48]*4, [64]*4, [96]*4, [128]*4, [256]*4][:4]\n",
    "\n",
    "recs = torch.zeros(len(ll), len(dd), len(ii))\n",
    "mses = torch.zeros(len(ll), len(dd), len(ii))\n",
    "\n",
    "for o, (l, width) in enumerate(zip(ll, ww)):\n",
    "    for p, d in enumerate(dd):\n",
    "        rec = []; mse = []\n",
    "        for i in ii:\n",
    "            dataset = read_dataset(l, d*l, i)[:]\n",
    "            configs = generate_configs(d*l, width, 'vol')\n",
    "\n",
    "            ae = VolumeAE(configs, MLP, MLP, Adam)\n",
    "            ae.load('../saves/toy-no-SN/{}-man/{}-amb/#{}/0e+00/non20000.tar'.format(l, l*d, i))\n",
    "            ae.eval()\n",
    "            \n",
    "            _rec = l2_loss(ae.decode(ae.encode(dataset)), dataset)\n",
    "            _mse = mse_loss(ae.decode(ae.encode(dataset)), dataset)\n",
    "            rec.append(_rec); mse.append(_mse)\n",
    "        \n",
    "        recs[o,p] = torch.as_tensor(rec)\n",
    "        mses[o,p] = torch.as_tensor(mse)"
   ]
  },
  {
   "cell_type": "code",
   "execution_count": 20,
   "metadata": {},
   "outputs": [
    {
     "data": {
      "image/png": "[encoded data removed]",
      "text/plain": [
       "<Figure size 640x480 with 1 Axes>"
      ]
     },
     "metadata": {},
     "output_type": "display_data"
    }
   ],
   "source": [
    "for l, rec in zip(ll, recs):\n",
    "    plt.hist(rec.flatten().detach().numpy(), alpha=0.4, bins=30, label=l)\n",
    "plt.xscale('log')\n",
    "plt.legend()\n",
    "plt.show()"
   ]
  },
  {
   "cell_type": "code",
   "execution_count": 19,
   "metadata": {},
   "outputs": [
    {
     "data": {
      "image/png": "[encoded data removed]",
      "text/plain": [
       "<Figure size 640x480 with 1 Axes>"
      ]
     },
     "metadata": {},
     "output_type": "display_data"
    }
   ],
   "source": [
    "for l, mse in zip(ll, mses):\n",
    "    plt.hist(mse.flatten().detach().numpy(), alpha=0.4, bins=30, label=l)\n",
    "plt.xscale('log')\n",
    "plt.legend()\n",
    "plt.show()"
   ]
  }
 ],
 "metadata": {
  "kernelspec": {
   "display_name": "Python 3",
   "language": "python",
   "name": "python3"
  },
  "language_info": {
   "codemirror_mode": {
    "name": "ipython",
    "version": 3
   },
   "file_extension": ".py",
   "mimetype": "text/x-python",
   "name": "python",
   "nbconvert_exporter": "python",
   "pygments_lexer": "ipython3",
   "version": "3.8.10"
  },
  "orig_nbformat": 4
 },
 "nbformat": 4,
 "nbformat_minor": 2
}
