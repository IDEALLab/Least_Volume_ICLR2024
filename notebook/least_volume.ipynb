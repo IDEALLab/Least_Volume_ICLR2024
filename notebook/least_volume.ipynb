{
 "cells": [
  {
   "cell_type": "code",
   "execution_count": 1,
   "metadata": {},
   "outputs": [],
   "source": [
    "import torch\n",
    "import torch.nn as nn\n",
    "import torch.nn.functional as F\n",
    "import numpy as np\n",
    "import matplotlib.pyplot as plt\n",
    "import sys; sys.path.append('../src')"
   ]
  },
  {
   "cell_type": "code",
   "execution_count": 2,
   "metadata": {},
   "outputs": [],
   "source": [
    "from models.layers import NestedDropout\n",
    "from models.cmpnts import MLP, SNMLP\n",
    "from models.layers import SNLinearCombo\n",
    "from torch.linalg import svd"
   ]
  },
  {
   "cell_type": "code",
   "execution_count": 3,
   "metadata": {},
   "outputs": [],
   "source": [
    "class PCA(nn.Module):\n",
    "    def __init__(self) -> None:\n",
    "        super().__init__()\n",
    "        \n",
    "    def forward(self, input):\n",
    "        with torch.no_grad():\n",
    "            C = input.T.cov()\n",
    "            L, Q = torch.linalg.eigh(C)\n",
    "        return F.linear(input, Q.T)"
   ]
  },
  {
   "cell_type": "markdown",
   "metadata": {},
   "source": [
    "# 2D\n",
    "## 1D Manifold"
   ]
  },
  {
   "cell_type": "code",
   "execution_count": 4,
   "metadata": {},
   "outputs": [
    {
     "data": {
      "image/png": "[encoded data removed]",
      "text/plain": [
       "<Figure size 432x288 with 1 Axes>"
      ]
     },
     "metadata": {
      "needs_background": "light"
     },
     "output_type": "display_data"
    }
   ],
   "source": [
    "encoder = nn.Sequential(MLP(2, 2, [32, 32, 32]), PCA()) # MLP(2, 2, [32, 32, 32])\n",
    "decoder = SNMLP(2, 2, [32, 32, 32])\n",
    "encoder.train()\n",
    "decoder.train()\n",
    "\n",
    "X, _ = torch.sort(torch.rand(50))\n",
    "X = X - 0.5\n",
    "Y = X + 5 * X ** 3 \n",
    "\n",
    "plt.scatter(X.numpy(), Y.numpy())\n",
    "plt.show()"
   ]
  },
  {
   "cell_type": "code",
   "execution_count": 5,
   "metadata": {},
   "outputs": [
    {
     "name": "stdout",
     "output_type": "stream",
     "text": [
      "Epoch 0: rec = 0.12144500762224197, lasso = 0.017061147838830948\n",
      "Epoch 100: rec = 0.0006362306303344667, lasso = 0.1102885752916336\n",
      "Epoch 200: rec = 0.00011671870743157342, lasso = 0.10493575781583786\n",
      "Epoch 300: rec = 3.3869237086037174e-05, lasso = 0.102052703499794\n",
      "Epoch 400: rec = 2.473456333973445e-05, lasso = 0.09914886206388474\n",
      "Epoch 500: rec = 1.6823001715238206e-05, lasso = 0.096257783472538\n",
      "Epoch 600: rec = 1.1127147445222363e-05, lasso = 0.09271616488695145\n",
      "Epoch 700: rec = 1.2142078048782423e-05, lasso = 0.09072114527225494\n",
      "Epoch 800: rec = 3.773787830141373e-05, lasso = 0.08849548548460007\n",
      "Epoch 900: rec = 1.1847761015815195e-05, lasso = 0.08722830563783646\n",
      "Epoch 1000: rec = 7.033466772554675e-06, lasso = 0.08621085435152054\n",
      "Epoch 1100: rec = 5.700454494217411e-06, lasso = 0.08469237387180328\n",
      "Epoch 1200: rec = 4.794122105522547e-06, lasso = 0.08307433873414993\n",
      "Epoch 1300: rec = 3.9180927160487045e-06, lasso = 0.08255589753389359\n",
      "Epoch 1400: rec = 2.3953785785124637e-05, lasso = 0.08147316426038742\n",
      "Epoch 1500: rec = 3.959068635595031e-06, lasso = 0.08094387501478195\n",
      "Epoch 1600: rec = 4.1204493754776195e-06, lasso = 0.0808180570602417\n",
      "Epoch 1700: rec = 5.032438821217511e-06, lasso = 0.07900634407997131\n",
      "Epoch 1800: rec = 3.7497097764571663e-06, lasso = 0.0795404314994812\n",
      "Epoch 1900: rec = 4.339949100540252e-06, lasso = 0.07942046225070953\n",
      "Epoch 2000: rec = 3.125259581793216e-06, lasso = 0.07983236014842987\n",
      "Epoch 2100: rec = 3.261750862293411e-06, lasso = 0.07830920815467834\n",
      "Epoch 2200: rec = 6.82162499288097e-05, lasso = 0.0774514451622963\n",
      "Epoch 2300: rec = 3.065019654968637e-06, lasso = 0.07779189199209213\n",
      "Epoch 2400: rec = 5.298638825479429e-06, lasso = 0.07795222848653793\n",
      "Epoch 2500: rec = 2.38792540585564e-06, lasso = 0.07745586335659027\n",
      "Epoch 2600: rec = 1.0704022315621842e-05, lasso = 0.07720313221216202\n",
      "Epoch 2700: rec = 3.61543652616092e-06, lasso = 0.07755904644727707\n",
      "Epoch 2800: rec = 5.6730586948106065e-06, lasso = 0.07720138132572174\n",
      "Epoch 2900: rec = 3.2447633202536963e-06, lasso = 0.07576581090688705\n",
      "Epoch 3000: rec = 3.860026026814012e-06, lasso = 0.07658275216817856\n",
      "Epoch 3100: rec = 3.027138291145093e-06, lasso = 0.07591459900140762\n",
      "Epoch 3200: rec = 2.9844682103430387e-06, lasso = 0.07655146718025208\n",
      "Epoch 3300: rec = 3.3009418984875083e-06, lasso = 0.07566303759813309\n",
      "Epoch 3400: rec = 2.1584071873803623e-05, lasso = 0.07613546401262283\n",
      "Epoch 3500: rec = 5.615751888399245e-06, lasso = 0.07588289678096771\n",
      "Epoch 3600: rec = 3.7272977806424024e-06, lasso = 0.07647737860679626\n",
      "Epoch 3700: rec = 6.449576176237315e-05, lasso = 0.07663190364837646\n",
      "Epoch 3800: rec = 2.8984575237700483e-06, lasso = 0.07474622875452042\n",
      "Epoch 3900: rec = 1.997292201849632e-05, lasso = 0.07524580508470535\n",
      "Epoch 4000: rec = 3.093279701715801e-06, lasso = 0.07537563890218735\n",
      "Epoch 4100: rec = 2.5661524887254927e-06, lasso = 0.07479187846183777\n",
      "Epoch 4200: rec = 3.251673660997767e-06, lasso = 0.0748886838555336\n",
      "Epoch 4300: rec = 2.324460410818574e-06, lasso = 0.07553515583276749\n",
      "Epoch 4400: rec = 3.0935000268073054e-06, lasso = 0.07462961226701736\n",
      "Epoch 4500: rec = 3.2403377190348692e-06, lasso = 0.07519343495368958\n",
      "Epoch 4600: rec = 3.0423489079112187e-06, lasso = 0.07453156262636185\n",
      "Epoch 4700: rec = 2.5704598556330893e-06, lasso = 0.0748327299952507\n",
      "Epoch 4800: rec = 7.5563516475085635e-06, lasso = 0.07485520839691162\n",
      "Epoch 4900: rec = 8.178983989637345e-06, lasso = 0.07366134971380234\n",
      "Epoch 5000: rec = 6.9276925387384836e-06, lasso = 0.0743194967508316\n",
      "Epoch 5100: rec = 3.5019675124203786e-06, lasso = 0.07514635473489761\n",
      "Epoch 5200: rec = 3.293155486971955e-06, lasso = 0.07415036857128143\n",
      "Epoch 5300: rec = 6.572219717781991e-05, lasso = 0.0747542455792427\n",
      "Epoch 5400: rec = 2.956979187729303e-06, lasso = 0.07454495877027512\n",
      "Epoch 5500: rec = 3.504648020680179e-06, lasso = 0.07381709665060043\n",
      "Epoch 5600: rec = 2.237480430267169e-06, lasso = 0.0748976618051529\n",
      "Epoch 5700: rec = 2.4913490506150993e-06, lasso = 0.07425907999277115\n",
      "Epoch 5800: rec = 4.433925823832396e-06, lasso = 0.07449636608362198\n",
      "Epoch 5900: rec = 3.0917256026441464e-06, lasso = 0.07412145286798477\n",
      "Epoch 6000: rec = 3.097814624197781e-05, lasso = 0.07481886446475983\n",
      "Epoch 6100: rec = 2.825297769959434e-06, lasso = 0.07459980994462967\n",
      "Epoch 6200: rec = 2.7305836738378275e-06, lasso = 0.07502961903810501\n",
      "Epoch 6300: rec = 3.3375490602338687e-06, lasso = 0.07471871376037598\n",
      "Epoch 6400: rec = 3.8165499063325115e-06, lasso = 0.07445962727069855\n",
      "Epoch 6500: rec = 2.2315873593470315e-06, lasso = 0.07426156103610992\n",
      "Epoch 6600: rec = 5.202144166105427e-06, lasso = 0.07404608279466629\n",
      "Epoch 6700: rec = 2.4136859337886563e-06, lasso = 0.07402634620666504\n",
      "Epoch 6800: rec = 1.916139808599837e-06, lasso = 0.07409809529781342\n",
      "Epoch 6900: rec = 3.8193215914361645e-06, lasso = 0.07405418902635574\n",
      "Epoch 7000: rec = 2.145763801308931e-06, lasso = 0.07429363578557968\n",
      "Epoch 7100: rec = 3.97623261960689e-06, lasso = 0.07388805598020554\n",
      "Epoch 7200: rec = 2.8983749871258624e-06, lasso = 0.07410957664251328\n",
      "Epoch 7300: rec = 0.0007893387228250504, lasso = 0.07444985210895538\n",
      "Epoch 7400: rec = 2.863863983293413e-06, lasso = 0.07468555122613907\n",
      "Epoch 7500: rec = 3.4644572224351577e-06, lasso = 0.07353615015745163\n",
      "Epoch 7600: rec = 4.322262611822225e-06, lasso = 0.07408051937818527\n",
      "Epoch 7700: rec = 3.25011819768406e-06, lasso = 0.07418327778577805\n",
      "Epoch 7800: rec = 0.0001201903069159016, lasso = 0.07400264590978622\n",
      "Epoch 7900: rec = 3.6605579225579277e-06, lasso = 0.07450228184461594\n",
      "Epoch 8000: rec = 8.690110007592011e-06, lasso = 0.07170725613832474\n",
      "Epoch 8100: rec = 3.2732421004766366e-06, lasso = 0.07477554678916931\n",
      "Epoch 8200: rec = 2.519060217309743e-06, lasso = 0.07475201785564423\n",
      "Epoch 8300: rec = 3.807769871855271e-06, lasso = 0.0740598738193512\n",
      "Epoch 8400: rec = 2.39146766034537e-06, lasso = 0.07358033955097198\n",
      "Epoch 8500: rec = 3.441658009251114e-06, lasso = 0.07415701448917389\n",
      "Epoch 8600: rec = 2.2246399566938635e-06, lasso = 0.07413049787282944\n",
      "Epoch 8700: rec = 1.2597745808307081e-05, lasso = 0.07449853420257568\n",
      "Epoch 8800: rec = 2.7465448511065915e-06, lasso = 0.07376443594694138\n",
      "Epoch 8900: rec = 2.6313821308576735e-06, lasso = 0.07389959692955017\n",
      "Epoch 9000: rec = 2.96262828669569e-06, lasso = 0.07448215782642365\n",
      "Epoch 9100: rec = 2.1781697796541266e-06, lasso = 0.07393745332956314\n",
      "Epoch 9200: rec = 4.226783403282752e-06, lasso = 0.0738353505730629\n",
      "Epoch 9300: rec = 4.598005034495145e-05, lasso = 0.07438331842422485\n",
      "Epoch 9400: rec = 4.152322162553901e-06, lasso = 0.07416649162769318\n",
      "Epoch 9500: rec = 3.1142608349910006e-06, lasso = 0.07519011944532394\n",
      "Epoch 9600: rec = 3.1494180348090595e-06, lasso = 0.07380683720111847\n",
      "Epoch 9700: rec = 2.681346131794271e-06, lasso = 0.07408095896244049\n",
      "Epoch 9800: rec = 4.697541953646578e-06, lasso = 0.0732334777712822\n",
      "Epoch 9900: rec = 2.4950420538516482e-06, lasso = 0.07457368820905685\n"
     ]
    }
   ],
   "source": [
    "data = torch.stack([X, Y], dim=-1)\n",
    "opt = torch.optim.Adam(list(encoder.parameters()) + list(decoder.parameters()), lr=1e-3)\n",
    "\n",
    "for i in range(10000):\n",
    "    opt.zero_grad()\n",
    "    z = encoder(data)\n",
    "    rec_loss = F.mse_loss(decoder(z), data) \n",
    "    lasso_loss = torch.exp(torch.log(z.std(0)+1e-2).mean()) # torch.norm(z.std(0), p=1)\n",
    "    # F.mse_loss(z.T.cov().tril(diagonal=-1), torch.zeros_like(z.T.cov()))\n",
    "    loss = rec_loss + 0.01 * lasso_loss\n",
    "    loss.backward()\n",
    "    opt.step()\n",
    "\n",
    "    if i % 100 == 0:\n",
    "        print('Epoch {}: rec = {}, lasso = {}'.format(i, rec_loss, lasso_loss))"
   ]
  },
  {
   "cell_type": "code",
   "execution_count": 6,
   "metadata": {},
   "outputs": [
    {
     "data": {
      "image/png": "[encoded data removed]",
      "text/plain": [
       "<Figure size 432x288 with 1 Axes>"
      ]
     },
     "metadata": {
      "needs_background": "light"
     },
     "output_type": "display_data"
    }
   ],
   "source": [
    "encoder.eval()\n",
    "decoder.eval()\n",
    "\n",
    "z = encoder(data)\n",
    "plt.scatter(z[:,0].detach().numpy(), z[:,1].detach().numpy())\n",
    "plt.gca().set_aspect('equal')\n",
    "plt.show()"
   ]
  },
  {
   "cell_type": "code",
   "execution_count": 7,
   "metadata": {},
   "outputs": [
    {
     "data": {
      "text/plain": [
       "tensor([7.6222e-04, 2.4481e+00], grad_fn=<SubBackward0>)"
      ]
     },
     "execution_count": 7,
     "metadata": {},
     "output_type": "execute_result"
    }
   ],
   "source": [
    "z.max(0)[0] - z.min(0)[0]"
   ]
  },
  {
   "cell_type": "code",
   "execution_count": 8,
   "metadata": {},
   "outputs": [
    {
     "data": {
      "text/plain": [
       "tensor([[2.7257e-08, 1.3776e-08],\n",
       "        [1.3776e-08, 2.8131e-01]], grad_fn=<SqueezeBackward0>)"
      ]
     },
     "execution_count": 8,
     "metadata": {},
     "output_type": "execute_result"
    }
   ],
   "source": [
    "z.T.cov()"
   ]
  },
  {
   "cell_type": "code",
   "execution_count": 9,
   "metadata": {},
   "outputs": [
    {
     "data": {
      "text/plain": [
       "<matplotlib.collections.PathCollection at 0x7f42b20ab700>"
      ]
     },
     "execution_count": 9,
     "metadata": {},
     "output_type": "execute_result"
    },
    {
     "data": {
      "image/png": "[encoded data removed]",
      "text/plain": [
       "<Figure size 432x288 with 1 Axes>"
      ]
     },
     "metadata": {
      "needs_background": "light"
     },
     "output_type": "display_data"
    }
   ],
   "source": [
    "rec = decoder(z).detach().numpy()\n",
    "plt.scatter(X.numpy(), Y.numpy())\n",
    "plt.scatter(rec[:, 0], rec[:, 1])"
   ]
  },
  {
   "cell_type": "code",
   "execution_count": 10,
   "metadata": {},
   "outputs": [
    {
     "data": {
      "image/png": "[encoded data removed]",
      "text/plain": [
       "<Figure size 432x288 with 1 Axes>"
      ]
     },
     "metadata": {
      "needs_background": "light"
     },
     "output_type": "display_data"
    }
   ],
   "source": [
    "def f(x):\n",
    "    return encoder(x).sum(0)\n",
    "\n",
    "jcb = torch.autograd.functional.jacobian(f, data).transpose(1,0)\n",
    "eig_list = torch.stack([svd(j[[1]])[1] for j in jcb])\n",
    "plt.hist(eig_list.numpy(), bins=30)\n",
    "plt.title('Distribution of Singular Values')\n",
    "plt.show()"
   ]
  },
  {
   "cell_type": "markdown",
   "metadata": {},
   "source": [
    "## 2D Manifold"
   ]
  },
  {
   "cell_type": "code",
   "execution_count": 111,
   "metadata": {},
   "outputs": [
    {
     "data": {
      "image/png": "[encoded data removed]",
      "text/plain": [
       "<Figure size 432x288 with 1 Axes>"
      ]
     },
     "metadata": {
      "needs_background": "light"
     },
     "output_type": "display_data"
    }
   ],
   "source": [
    "encoder = MLP(2, 2, [32, 32, 32]) # MLP(2, 2, [32, 32, 32]) \n",
    "decoder = SNMLP(2, 2, [32, 32, 32])\n",
    "encoder.train()\n",
    "decoder.train()\n",
    "\n",
    "data = torch.rand(50, 2)\n",
    "plt.scatter(data[:,0].numpy(), data[:,1].numpy())\n",
    "plt.show()"
   ]
  },
  {
   "cell_type": "code",
   "execution_count": 112,
   "metadata": {},
   "outputs": [
    {
     "name": "stdout",
     "output_type": "stream",
     "text": [
      "Epoch 0: rec = 0.39088982343673706, lasso = 1.0132862329483032\n",
      "Epoch 100: rec = 0.03197900950908661, lasso = 2.0319619178771973\n",
      "Epoch 200: rec = 0.0003386929747648537, lasso = 2.5143654346466064\n",
      "Epoch 300: rec = 8.28164629638195e-05, lasso = 2.276721239089966\n",
      "Epoch 400: rec = 4.678449113271199e-05, lasso = 2.0503079891204834\n",
      "Epoch 500: rec = 2.392421265540179e-05, lasso = 1.8729113340377808\n",
      "Epoch 600: rec = 1.7578378901816905e-05, lasso = 1.7537468671798706\n",
      "Epoch 700: rec = 9.71913141256664e-06, lasso = 1.6674038171768188\n",
      "Epoch 800: rec = 6.786528501834255e-06, lasso = 1.615555763244629\n",
      "Epoch 900: rec = 7.86332839197712e-06, lasso = 1.569583773612976\n",
      "Epoch 1000: rec = 5.305160357238492e-06, lasso = 1.5462055206298828\n",
      "Epoch 1100: rec = 7.006539817666635e-06, lasso = 1.5095205307006836\n",
      "Epoch 1200: rec = 5.68052973903832e-06, lasso = 1.4688830375671387\n",
      "Epoch 1300: rec = 6.1036307670292445e-06, lasso = 1.4611228704452515\n",
      "Epoch 1400: rec = 6.189353825902799e-06, lasso = 1.4343312978744507\n",
      "Epoch 1500: rec = 5.76063303014962e-06, lasso = 1.4161386489868164\n",
      "Epoch 1600: rec = 4.609858024196001e-06, lasso = 1.40964937210083\n",
      "Epoch 1700: rec = 3.1047288757690694e-06, lasso = 1.3914599418640137\n",
      "Epoch 1800: rec = 4.875489685218781e-05, lasso = 1.3759247064590454\n",
      "Epoch 1900: rec = 1.952467755472753e-06, lasso = 1.3757706880569458\n",
      "Epoch 2000: rec = 3.849359472951619e-06, lasso = 1.3531910181045532\n",
      "Epoch 2100: rec = 1.7336143400825677e-06, lasso = 1.3578088283538818\n",
      "Epoch 2200: rec = 1.909949560285895e-06, lasso = 1.3466850519180298\n",
      "Epoch 2300: rec = 6.047780061635422e-06, lasso = 1.3416099548339844\n",
      "Epoch 2400: rec = 1.2048159987898543e-05, lasso = 1.3360761404037476\n",
      "Epoch 2500: rec = 1.7449386859880178e-06, lasso = 1.326570987701416\n",
      "Epoch 2600: rec = 6.559660687344149e-05, lasso = 1.327904224395752\n",
      "Epoch 2700: rec = 1.5671714663767489e-06, lasso = 1.3240355253219604\n",
      "Epoch 2800: rec = 1.2060746485076379e-05, lasso = 1.3184821605682373\n",
      "Epoch 2900: rec = 1.577328248458798e-06, lasso = 1.319532036781311\n",
      "Epoch 3000: rec = 1.7104777043641661e-06, lasso = 1.3070967197418213\n",
      "Epoch 3100: rec = 1.3354273278309847e-06, lasso = 1.3183646202087402\n",
      "Epoch 3200: rec = 1.7215299976669485e-06, lasso = 1.3072577714920044\n",
      "Epoch 3300: rec = 1.2220796179462923e-06, lasso = 1.3086506128311157\n",
      "Epoch 3400: rec = 2.3217515263240784e-05, lasso = 1.3100289106369019\n",
      "Epoch 3500: rec = 1.4468453173321905e-06, lasso = 1.299634337425232\n",
      "Epoch 3600: rec = 4.436698418430751e-06, lasso = 1.3100171089172363\n",
      "Epoch 3700: rec = 1.8176820049120579e-06, lasso = 1.2937506437301636\n",
      "Epoch 3800: rec = 9.457465921514085e-07, lasso = 1.3017499446868896\n",
      "Epoch 3900: rec = 1.1032262818844174e-06, lasso = 1.2995638847351074\n",
      "Epoch 4000: rec = 1.2942110743097146e-06, lasso = 1.3021745681762695\n",
      "Epoch 4100: rec = 2.2755382360628573e-06, lasso = 1.2919974327087402\n",
      "Epoch 4200: rec = 8.435615654889261e-07, lasso = 1.302757978439331\n",
      "Epoch 4300: rec = 8.597040732638561e-07, lasso = 1.2970657348632812\n",
      "Epoch 4400: rec = 6.387809321495297e-07, lasso = 1.292507529258728\n",
      "Epoch 4500: rec = 4.7341853814941715e-07, lasso = 1.2990137338638306\n",
      "Epoch 4600: rec = 9.715834039525362e-07, lasso = 1.307291865348816\n",
      "Epoch 4700: rec = 9.503507385488774e-07, lasso = 1.3001242876052856\n",
      "Epoch 4800: rec = 6.774612870685814e-07, lasso = 1.296955943107605\n",
      "Epoch 4900: rec = 2.7512156520970166e-05, lasso = 1.2945530414581299\n",
      "Epoch 5000: rec = 5.505033300323703e-07, lasso = 1.296280860900879\n",
      "Epoch 5100: rec = 8.790595165919513e-05, lasso = 1.2966597080230713\n",
      "Epoch 5200: rec = 5.036046673012606e-07, lasso = 1.2948548793792725\n",
      "Epoch 5300: rec = 8.005716267689422e-07, lasso = 1.2984840869903564\n",
      "Epoch 5400: rec = 5.551718800234084e-07, lasso = 1.2905967235565186\n",
      "Epoch 5500: rec = 5.15929059474729e-07, lasso = 1.3008838891983032\n",
      "Epoch 5600: rec = 1.03002776086214e-06, lasso = 1.2873212099075317\n",
      "Epoch 5700: rec = 4.105228867956612e-07, lasso = 1.296947956085205\n",
      "Epoch 5800: rec = 4.7603026587239583e-07, lasso = 1.3006118535995483\n",
      "Epoch 5900: rec = 1.4530698535963893e-05, lasso = 1.2917743921279907\n",
      "Epoch 6000: rec = 4.132910191856354e-07, lasso = 1.2981892824172974\n",
      "Epoch 6100: rec = 6.010789093124913e-07, lasso = 1.2935431003570557\n",
      "Epoch 6200: rec = 7.321895623135788e-07, lasso = 1.2933439016342163\n",
      "Epoch 6300: rec = 3.858242507703835e-07, lasso = 1.2929679155349731\n",
      "Epoch 6400: rec = 1.3646614434037474e-06, lasso = 1.2967443466186523\n",
      "Epoch 6500: rec = 8.559005436836742e-06, lasso = 1.2975687980651855\n",
      "Epoch 6600: rec = 1.062075853042188e-06, lasso = 1.2950674295425415\n",
      "Epoch 6700: rec = 4.56086269196021e-07, lasso = 1.2929706573486328\n",
      "Epoch 6800: rec = 4.22909977260133e-07, lasso = 1.2962279319763184\n",
      "Epoch 6900: rec = 8.030907565625967e-07, lasso = 1.2903097867965698\n",
      "Epoch 7000: rec = 4.788985279446933e-07, lasso = 1.2900245189666748\n",
      "Epoch 7100: rec = 7.032080588942335e-07, lasso = 1.2917460203170776\n",
      "Epoch 7200: rec = 3.646853770078451e-07, lasso = 1.291603922843933\n",
      "Epoch 7300: rec = 4.2914794562420866e-07, lasso = 1.3022841215133667\n",
      "Epoch 7400: rec = 8.775558058005117e-07, lasso = 1.2918857336044312\n",
      "Epoch 7500: rec = 5.818763384013437e-06, lasso = 1.2946804761886597\n",
      "Epoch 7600: rec = 5.516149599316122e-07, lasso = 1.2952700853347778\n",
      "Epoch 7700: rec = 3.870690079565975e-07, lasso = 1.294109582901001\n",
      "Epoch 7800: rec = 7.494215424230788e-06, lasso = 1.2908319234848022\n",
      "Epoch 7900: rec = 6.84549320340011e-07, lasso = 1.3055391311645508\n",
      "Epoch 8000: rec = 3.805176334026328e-07, lasso = 1.2926275730133057\n",
      "Epoch 8100: rec = 8.479149187223811e-07, lasso = 1.295817494392395\n",
      "Epoch 8200: rec = 0.000614306831266731, lasso = 1.2878018617630005\n",
      "Epoch 8300: rec = 4.392217647364305e-07, lasso = 1.2919560670852661\n",
      "Epoch 8400: rec = 3.33140206976168e-07, lasso = 1.2943564653396606\n",
      "Epoch 8500: rec = 0.00013748163473792374, lasso = 1.2961663007736206\n",
      "Epoch 8600: rec = 4.847431682719616e-07, lasso = 1.288047432899475\n",
      "Epoch 8700: rec = 5.954670996288769e-07, lasso = 1.297313928604126\n",
      "Epoch 8800: rec = 4.553961616693414e-07, lasso = 1.294508695602417\n",
      "Epoch 8900: rec = 2.118686779795098e-06, lasso = 1.2970799207687378\n",
      "Epoch 9000: rec = 4.415318812789337e-07, lasso = 1.290361762046814\n",
      "Epoch 9100: rec = 6.046177531970898e-07, lasso = 1.304773211479187\n",
      "Epoch 9200: rec = 3.263867938585463e-06, lasso = 1.292801022529602\n",
      "Epoch 9300: rec = 4.3302858898641716e-07, lasso = 1.2893414497375488\n",
      "Epoch 9400: rec = 1.3139052725819056e-06, lasso = 1.3001115322113037\n",
      "Epoch 9500: rec = 5.02409989167063e-07, lasso = 1.289568543434143\n",
      "Epoch 9600: rec = 4.028042610570992e-07, lasso = 1.2963963747024536\n",
      "Epoch 9700: rec = 0.00023582158610224724, lasso = 1.288908839225769\n",
      "Epoch 9800: rec = 3.6009697623740067e-07, lasso = 1.2968674898147583\n",
      "Epoch 9900: rec = 4.097195471786108e-07, lasso = 1.2924898862838745\n"
     ]
    }
   ],
   "source": [
    "opt = torch.optim.Adam(list(encoder.parameters()) + list(decoder.parameters()), lr=1e-3)\n",
    "\n",
    "for i in range(10000):\n",
    "    opt.zero_grad()\n",
    "    z = encoder(data)\n",
    "    rec_loss = F.mse_loss(decoder(z), data) \n",
    "    lasso_loss = torch.exp(torch.log(z.std(0)+1).mean()) # torch.norm(z.std(0), p=1)\n",
    "    # F.mse_loss(z.T.cov().tril(diagonal=-1), torch.zeros_like(z.T.cov()))\n",
    "    loss = rec_loss + 0.001 * lasso_loss\n",
    "    loss.backward()\n",
    "    opt.step()\n",
    "\n",
    "    if i % 100 == 0:\n",
    "        print('Epoch {}: rec = {}, lasso = {}'.format(i, rec_loss, lasso_loss))"
   ]
  },
  {
   "cell_type": "code",
   "execution_count": 113,
   "metadata": {},
   "outputs": [
    {
     "data": {
      "image/png": "[encoded data removed]",
      "text/plain": [
       "<Figure size 432x288 with 1 Axes>"
      ]
     },
     "metadata": {
      "needs_background": "light"
     },
     "output_type": "display_data"
    }
   ],
   "source": [
    "encoder.eval()\n",
    "decoder.eval()\n",
    "\n",
    "z = encoder(data)\n",
    "plt.scatter(z[:,0].detach().numpy(), z[:,1].detach().numpy())\n",
    "plt.gca().set_aspect('equal')\n",
    "plt.show()"
   ]
  },
  {
   "cell_type": "code",
   "execution_count": 114,
   "metadata": {},
   "outputs": [
    {
     "data": {
      "text/plain": [
       "tensor([1.0939, 1.2879], grad_fn=<SubBackward0>)"
      ]
     },
     "execution_count": 114,
     "metadata": {},
     "output_type": "execute_result"
    }
   ],
   "source": [
    "z.max(0)[0] - z.min(0)[0]"
   ]
  },
  {
   "cell_type": "code",
   "execution_count": 115,
   "metadata": {},
   "outputs": [
    {
     "data": {
      "text/plain": [
       "tensor([[0.0691, 0.0066],\n",
       "        [0.0066, 0.1097]], grad_fn=<SqueezeBackward0>)"
      ]
     },
     "execution_count": 115,
     "metadata": {},
     "output_type": "execute_result"
    }
   ],
   "source": [
    "z.T.cov()"
   ]
  },
  {
   "cell_type": "code",
   "execution_count": 116,
   "metadata": {},
   "outputs": [
    {
     "data": {
      "text/plain": [
       "<matplotlib.collections.PathCollection at 0x7f42b18c9ee0>"
      ]
     },
     "execution_count": 116,
     "metadata": {},
     "output_type": "execute_result"
    },
    {
     "data": {
      "image/png": "[encoded data removed]",
      "text/plain": [
       "<Figure size 432x288 with 1 Axes>"
      ]
     },
     "metadata": {
      "needs_background": "light"
     },
     "output_type": "display_data"
    }
   ],
   "source": [
    "rec = decoder(z).detach().numpy()\n",
    "plt.scatter(data[:,0].numpy(), data[:,1].numpy())\n",
    "plt.scatter(rec[:, 0], rec[:, 1])"
   ]
  },
  {
   "cell_type": "code",
   "execution_count": 117,
   "metadata": {},
   "outputs": [
    {
     "data": {
      "image/png": "[encoded data removed]",
      "text/plain": [
       "<Figure size 432x288 with 1 Axes>"
      ]
     },
     "metadata": {
      "needs_background": "light"
     },
     "output_type": "display_data"
    }
   ],
   "source": [
    "def f(x):\n",
    "    return encoder(x).sum(0)\n",
    "\n",
    "jcb = torch.autograd.functional.jacobian(f, data).transpose(1,0)\n",
    "eig_list = torch.stack([svd(j[[0, 1]])[1] for j in jcb])\n",
    "plt.hist(eig_list.numpy(), bins=30)\n",
    "plt.title('Distribution of Singular Values')\n",
    "plt.show()"
   ]
  },
  {
   "cell_type": "markdown",
   "metadata": {},
   "source": [
    "## Swiss Roll"
   ]
  },
  {
   "cell_type": "code",
   "execution_count": 18,
   "metadata": {},
   "outputs": [
    {
     "data": {
      "image/png": "[encoded data removed]",
      "text/plain": [
       "<Figure size 432x288 with 1 Axes>"
      ]
     },
     "metadata": {
      "needs_background": "light"
     },
     "output_type": "display_data"
    }
   ],
   "source": [
    "encoder =  MLP(2, 2, [32, 32, 32, 32]) \n",
    "decoder = SNMLP(2, 2, [32, 32, 32, 32])\n",
    "encoder.train()\n",
    "decoder.train()\n",
    "\n",
    "X, _ = torch.sort(torch.rand(200)*10)\n",
    "data = torch.stack([X * torch.cos(X), X * torch.sin(X)], dim=-1)\n",
    "plt.scatter(data[:, 0], data[:, 1])\n",
    "plt.show()"
   ]
  },
  {
   "cell_type": "code",
   "execution_count": 55,
   "metadata": {},
   "outputs": [
    {
     "name": "stdout",
     "output_type": "stream",
     "text": [
      "Epoch 0: rec = 16.89276695251465, lasso = 0.02861848659813404\n",
      "Epoch 100: rec = 16.380664825439453, lasso = 0.0017511197365820408\n",
      "Epoch 200: rec = 16.380678176879883, lasso = 0.00036878586979582906\n",
      "Epoch 300: rec = 16.380718231201172, lasso = 0.00180992076639086\n",
      "Epoch 400: rec = 16.380706787109375, lasso = 0.000705557584296912\n",
      "Epoch 500: rec = 16.380687713623047, lasso = 0.0007417819579131901\n",
      "Epoch 600: rec = 16.380687713623047, lasso = 0.00021276094776112586\n",
      "Epoch 700: rec = 16.380678176879883, lasso = 0.000530098332092166\n",
      "Epoch 800: rec = 16.380687713623047, lasso = 0.000248874188400805\n",
      "Epoch 900: rec = 16.380666732788086, lasso = 0.0003455124387983233\n",
      "Epoch 1000: rec = 16.380687713623047, lasso = 0.0006027947529219091\n",
      "Epoch 1100: rec = 16.38068199157715, lasso = 0.00016561071970500052\n",
      "Epoch 1200: rec = 16.380691528320312, lasso = 0.00018427013128530234\n",
      "Epoch 1300: rec = 16.38066864013672, lasso = 0.00024079975264612585\n",
      "Epoch 1400: rec = 16.380661010742188, lasso = 0.00047543045366182923\n",
      "Epoch 1500: rec = 16.38070297241211, lasso = 0.00022326370526570827\n",
      "Epoch 1600: rec = 16.380691528320312, lasso = 9.87946186796762e-05\n",
      "Epoch 1700: rec = 16.38068199157715, lasso = 9.471258090343326e-05\n",
      "Epoch 1800: rec = 16.380691528320312, lasso = 0.00011962794087594375\n",
      "Epoch 1900: rec = 16.380708694458008, lasso = 0.0001717041159281507\n",
      "Epoch 2000: rec = 16.380678176879883, lasso = 0.00010690826456993818\n",
      "Epoch 2100: rec = 16.380680084228516, lasso = 7.795809506205842e-05\n",
      "Epoch 2200: rec = 16.38070297241211, lasso = 0.00028449497767724097\n",
      "Epoch 2300: rec = 16.380714416503906, lasso = 0.00019319799321237952\n",
      "Epoch 2400: rec = 16.38068199157715, lasso = 7.128455035854131e-05\n",
      "Epoch 2500: rec = 16.380693435668945, lasso = 0.0001089549987227656\n",
      "Epoch 2600: rec = 16.38067626953125, lasso = 9.201472857967019e-05\n",
      "Epoch 2700: rec = 16.380701065063477, lasso = 0.00012837571557611227\n",
      "Epoch 2800: rec = 16.380657196044922, lasso = 0.00010124169057235122\n",
      "Epoch 2900: rec = 16.380643844604492, lasso = 0.00021316511265467852\n",
      "Epoch 3000: rec = 16.380691528320312, lasso = 7.883793296059594e-05\n",
      "Epoch 3100: rec = 16.380708694458008, lasso = 9.065557969734073e-05\n",
      "Epoch 3200: rec = 16.38068389892578, lasso = 6.0942034906474873e-05\n",
      "Epoch 3300: rec = 16.380701065063477, lasso = 0.00023755714937578887\n",
      "Epoch 3400: rec = 16.380693435668945, lasso = 5.149866046849638e-05\n",
      "Epoch 3500: rec = 16.380674362182617, lasso = 6.789899634895846e-05\n",
      "Epoch 3600: rec = 16.380680084228516, lasso = 0.0001502607046859339\n",
      "Epoch 3700: rec = 16.38067054748535, lasso = 3.930055754608475e-05\n",
      "Epoch 3800: rec = 16.380712509155273, lasso = 3.876002665492706e-05\n",
      "Epoch 3900: rec = 16.380664825439453, lasso = 6.076839054003358e-05\n",
      "Epoch 4000: rec = 16.380691528320312, lasso = 4.9137132009491324e-05\n",
      "Epoch 4100: rec = 16.3806095123291, lasso = 0.00015362173144239932\n",
      "Epoch 4200: rec = 16.380638122558594, lasso = 9.886729094432667e-05\n",
      "Epoch 4300: rec = 16.380704879760742, lasso = 5.7408899010624737e-05\n",
      "Epoch 4400: rec = 16.380695343017578, lasso = 9.256252087652683e-05\n",
      "Epoch 4500: rec = 16.380695343017578, lasso = 3.356179877300747e-05\n",
      "Epoch 4600: rec = 16.380659103393555, lasso = 6.32168521406129e-05\n",
      "Epoch 4700: rec = 16.380680084228516, lasso = 6.571331323357299e-05\n",
      "Epoch 4800: rec = 16.380615234375, lasso = 0.00016023521311581135\n",
      "Epoch 4900: rec = 16.38065528869629, lasso = 5.451442484627478e-05\n",
      "Epoch 5000: rec = 16.380647659301758, lasso = 3.804453808697872e-05\n",
      "Epoch 5100: rec = 16.380678176879883, lasso = 3.888750507030636e-05\n",
      "Epoch 5200: rec = 16.380638122558594, lasso = 4.9299960664939135e-05\n",
      "Epoch 5300: rec = 16.38067054748535, lasso = 3.3865631849039346e-05\n",
      "Epoch 5400: rec = 16.380685806274414, lasso = 3.0066015824559145e-05\n",
      "Epoch 5500: rec = 16.380640029907227, lasso = 3.969721001340076e-05\n",
      "Epoch 5600: rec = 16.380718231201172, lasso = 5.7538418332114816e-05\n",
      "Epoch 5700: rec = 16.38066864013672, lasso = 2.9421089493553154e-05\n",
      "Epoch 5800: rec = 16.380638122558594, lasso = 3.470631054369733e-05\n",
      "Epoch 5900: rec = 16.38066864013672, lasso = 3.936304710805416e-05\n",
      "Epoch 6000: rec = 16.380626678466797, lasso = 4.440969496499747e-05\n",
      "Epoch 6100: rec = 16.38058853149414, lasso = 5.2832456276519224e-05\n",
      "Epoch 6200: rec = 16.38068389892578, lasso = 1.883082586573437e-05\n",
      "Epoch 6300: rec = 16.38068389892578, lasso = 2.7688973204931244e-05\n",
      "Epoch 6400: rec = 16.380626678466797, lasso = 3.2447474950458854e-05\n",
      "Epoch 6500: rec = 16.380615234375, lasso = 4.7952064051060006e-05\n",
      "Epoch 6600: rec = 16.379688262939453, lasso = 0.00012806597806047648\n",
      "Epoch 6700: rec = 8.807199478149414, lasso = 0.08886396139860153\n",
      "Epoch 6800: rec = 7.760012626647949, lasso = 0.17216533422470093\n",
      "Epoch 6900: rec = 6.747736930847168, lasso = 0.12399329990148544\n",
      "Epoch 7000: rec = 6.623945236206055, lasso = 0.09290892630815506\n",
      "Epoch 7100: rec = 6.633525371551514, lasso = 0.1540823131799698\n",
      "Epoch 7200: rec = 6.596073150634766, lasso = 0.07562529295682907\n",
      "Epoch 7300: rec = 6.7223944664001465, lasso = 0.10818982869386673\n",
      "Epoch 7400: rec = 6.559247970581055, lasso = 0.08367040008306503\n",
      "Epoch 7500: rec = 6.688690662384033, lasso = 0.18285542726516724\n",
      "Epoch 7600: rec = 6.531269550323486, lasso = 0.10361514985561371\n",
      "Epoch 7700: rec = 6.538938045501709, lasso = 0.09932048618793488\n",
      "Epoch 7800: rec = 6.5324602127075195, lasso = 0.1465016007423401\n",
      "Epoch 7900: rec = 6.52580451965332, lasso = 0.03137004375457764\n",
      "Epoch 8000: rec = 6.490583896636963, lasso = 0.11254549771547318\n",
      "Epoch 8100: rec = 6.466451644897461, lasso = 0.03016401082277298\n",
      "Epoch 8200: rec = 6.466230392456055, lasso = 0.08413984626531601\n",
      "Epoch 8300: rec = 6.472353935241699, lasso = 0.15430258214473724\n",
      "Epoch 8400: rec = 6.462299823760986, lasso = 0.10491867363452911\n",
      "Epoch 8500: rec = 6.5075531005859375, lasso = 0.10898088663816452\n",
      "Epoch 8600: rec = 6.404211044311523, lasso = 0.06497468799352646\n",
      "Epoch 8700: rec = 6.421774387359619, lasso = 0.11352798342704773\n",
      "Epoch 8800: rec = 6.466749668121338, lasso = 0.0751936212182045\n",
      "Epoch 8900: rec = 6.330174446105957, lasso = 0.03431347385048866\n",
      "Epoch 9000: rec = 6.316675186157227, lasso = 0.09608756005764008\n",
      "Epoch 9100: rec = 6.302908897399902, lasso = 0.046366285532712936\n",
      "Epoch 9200: rec = 6.389214515686035, lasso = 0.14636150002479553\n",
      "Epoch 9300: rec = 6.261843681335449, lasso = 0.05757521465420723\n",
      "Epoch 9400: rec = 6.306410312652588, lasso = 0.12426794320344925\n",
      "Epoch 9500: rec = 6.30396842956543, lasso = 0.09830452501773834\n",
      "Epoch 9600: rec = 6.237494468688965, lasso = 0.027763010933995247\n",
      "Epoch 9700: rec = 6.145786285400391, lasso = 0.05904101952910423\n",
      "Epoch 9800: rec = 6.2455949783325195, lasso = 0.15322449803352356\n",
      "Epoch 9900: rec = 6.134972095489502, lasso = 0.07658930867910385\n",
      "Epoch 10000: rec = 6.036792755126953, lasso = 0.06733901798725128\n",
      "Epoch 10100: rec = 6.1373162269592285, lasso = 0.10245463997125626\n",
      "Epoch 10200: rec = 6.072860240936279, lasso = 0.10912986844778061\n",
      "Epoch 10300: rec = 6.095341682434082, lasso = 0.15694831311702728\n",
      "Epoch 10400: rec = 6.042489051818848, lasso = 0.12544769048690796\n",
      "Epoch 10500: rec = 6.023984432220459, lasso = 0.019815800711512566\n",
      "Epoch 10600: rec = 6.013690948486328, lasso = 0.18202415108680725\n",
      "Epoch 10700: rec = 5.986949443817139, lasso = 0.11954481154680252\n",
      "Epoch 10800: rec = 5.95119571685791, lasso = 0.04762015491724014\n",
      "Epoch 10900: rec = 5.898688793182373, lasso = 0.08120550215244293\n",
      "Epoch 11000: rec = 5.848596572875977, lasso = 0.07881768047809601\n",
      "Epoch 11100: rec = 5.837812900543213, lasso = 0.12716728448867798\n",
      "Epoch 11200: rec = 5.685786724090576, lasso = 0.1318829208612442\n",
      "Epoch 11300: rec = 5.686617851257324, lasso = 0.04821784794330597\n",
      "Epoch 11400: rec = 5.835994243621826, lasso = 0.08654571324586868\n",
      "Epoch 11500: rec = 5.724035739898682, lasso = 0.04914025217294693\n",
      "Epoch 11600: rec = 5.924108982086182, lasso = 0.16098104417324066\n",
      "Epoch 11700: rec = 5.5693793296813965, lasso = 0.09428258240222931\n",
      "Epoch 11800: rec = 5.278472423553467, lasso = 0.09940415620803833\n",
      "Epoch 11900: rec = 5.188539505004883, lasso = 0.11672985553741455\n",
      "Epoch 12000: rec = 4.625558376312256, lasso = 0.12502336502075195\n",
      "Epoch 12100: rec = 4.690994739532471, lasso = 0.26878178119659424\n",
      "Epoch 12200: rec = 4.067183971405029, lasso = 0.2663338780403137\n",
      "Epoch 12300: rec = 3.9715607166290283, lasso = 0.4120994508266449\n",
      "Epoch 12400: rec = 3.533324956893921, lasso = 0.0999641939997673\n",
      "Epoch 12500: rec = 3.364445209503174, lasso = 0.05372796207666397\n",
      "Epoch 12600: rec = 3.2676916122436523, lasso = 0.19384978711605072\n",
      "Epoch 12700: rec = 3.27132511138916, lasso = 0.20296752452850342\n",
      "Epoch 12800: rec = 3.0902626514434814, lasso = 0.14227066934108734\n",
      "Epoch 12900: rec = 2.779214859008789, lasso = 0.2749718725681305\n",
      "Epoch 13000: rec = 2.529482841491699, lasso = 0.10993136465549469\n",
      "Epoch 13100: rec = 2.8127291202545166, lasso = 0.3840407729148865\n",
      "Epoch 13200: rec = 2.8223354816436768, lasso = 0.1619441956281662\n",
      "Epoch 13300: rec = 2.5876331329345703, lasso = 0.11292976140975952\n",
      "Epoch 13400: rec = 2.5581514835357666, lasso = 0.34981968998908997\n",
      "Epoch 13500: rec = 2.346360206604004, lasso = 0.13657473027706146\n",
      "Epoch 13600: rec = 2.1575379371643066, lasso = 0.18811887502670288\n",
      "Epoch 13700: rec = 2.3300766944885254, lasso = 0.3260987401008606\n",
      "Epoch 13800: rec = 2.289900779724121, lasso = 0.233806312084198\n",
      "Epoch 13900: rec = 2.45080828666687, lasso = 0.21788807213306427\n",
      "Epoch 14000: rec = 2.2917397022247314, lasso = 0.3004695475101471\n",
      "Epoch 14100: rec = 2.0538997650146484, lasso = 0.07142987847328186\n",
      "Epoch 14200: rec = 1.7956733703613281, lasso = 0.2407820075750351\n",
      "Epoch 14300: rec = 1.9493052959442139, lasso = 0.2579364478588104\n",
      "Epoch 14400: rec = 2.014129161834717, lasso = 0.1423635631799698\n",
      "Epoch 14500: rec = 1.6184002161026, lasso = 0.1348121017217636\n",
      "Epoch 14600: rec = 1.830826759338379, lasso = 0.30315467715263367\n",
      "Epoch 14700: rec = 1.9537560939788818, lasso = 0.18958339095115662\n",
      "Epoch 14800: rec = 1.8237998485565186, lasso = 0.1233452782034874\n",
      "Epoch 14900: rec = 1.8581451177597046, lasso = 0.15849855542182922\n",
      "Epoch 15000: rec = 1.6723092794418335, lasso = 0.3095594644546509\n",
      "Epoch 15100: rec = 1.5820814371109009, lasso = 0.28044039011001587\n",
      "Epoch 15200: rec = 1.684792160987854, lasso = 0.23222917318344116\n",
      "Epoch 15300: rec = 1.7170981168746948, lasso = 0.1468871831893921\n",
      "Epoch 15400: rec = 1.5641276836395264, lasso = 0.19607950747013092\n",
      "Epoch 15500: rec = 1.542852759361267, lasso = 0.20426294207572937\n",
      "Epoch 15600: rec = 1.6011844873428345, lasso = 0.1265304684638977\n",
      "Epoch 15700: rec = 1.4555249214172363, lasso = 0.1368153989315033\n",
      "Epoch 15800: rec = 1.5581097602844238, lasso = 0.20100271701812744\n",
      "Epoch 15900: rec = 1.3698413372039795, lasso = 0.26107144355773926\n",
      "Epoch 16000: rec = 1.477294921875, lasso = 0.18206161260604858\n",
      "Epoch 16100: rec = 1.499280571937561, lasso = 0.19532568752765656\n",
      "Epoch 16200: rec = 1.6713567972183228, lasso = 0.1844383031129837\n",
      "Epoch 16300: rec = 1.3143566846847534, lasso = 0.19029447436332703\n",
      "Epoch 16400: rec = 1.5668293237686157, lasso = 0.37196022272109985\n",
      "Epoch 16500: rec = 1.4790713787078857, lasso = 0.2064308226108551\n",
      "Epoch 16600: rec = 1.4722111225128174, lasso = 0.2532704174518585\n",
      "Epoch 16700: rec = 1.411527395248413, lasso = 0.1498909592628479\n",
      "Epoch 16800: rec = 1.3792335987091064, lasso = 0.30816593766212463\n",
      "Epoch 16900: rec = 1.403651237487793, lasso = 0.13544751703739166\n",
      "Epoch 17000: rec = 1.5008944272994995, lasso = 0.24999085068702698\n",
      "Epoch 17100: rec = 1.3634288311004639, lasso = 0.08426957577466965\n",
      "Epoch 17200: rec = 1.2167327404022217, lasso = 0.2476184070110321\n",
      "Epoch 17300: rec = 1.2541190385818481, lasso = 0.24431437253952026\n",
      "Epoch 17400: rec = 1.286954402923584, lasso = 0.22305497527122498\n",
      "Epoch 17500: rec = 1.2933131456375122, lasso = 0.14434242248535156\n",
      "Epoch 17600: rec = 1.4415911436080933, lasso = 0.1736445426940918\n",
      "Epoch 17700: rec = 1.311608076095581, lasso = 0.12868909537792206\n",
      "Epoch 17800: rec = 1.2992258071899414, lasso = 0.3003547191619873\n",
      "Epoch 17900: rec = 1.1274323463439941, lasso = 0.08370024710893631\n",
      "Epoch 18000: rec = 1.2976757287979126, lasso = 0.23747295141220093\n",
      "Epoch 18100: rec = 1.0658419132232666, lasso = 0.07487061619758606\n",
      "Epoch 18200: rec = 1.0796573162078857, lasso = 0.1533089578151703\n",
      "Epoch 18300: rec = 0.9889862537384033, lasso = 0.10035821795463562\n",
      "Epoch 18400: rec = 1.2130398750305176, lasso = 0.20887458324432373\n",
      "Epoch 18500: rec = 1.3154847621917725, lasso = 0.1353507786989212\n",
      "Epoch 18600: rec = 1.2141106128692627, lasso = 0.33267396688461304\n",
      "Epoch 18700: rec = 1.1396400928497314, lasso = 0.06187373399734497\n",
      "Epoch 18800: rec = 1.1168787479400635, lasso = 0.2653956115245819\n",
      "Epoch 18900: rec = 0.8677551746368408, lasso = 0.18124014139175415\n",
      "Epoch 19000: rec = 0.956047534942627, lasso = 0.16957278549671173\n",
      "Epoch 19100: rec = 0.9929239153862, lasso = 0.24829168617725372\n",
      "Epoch 19200: rec = 1.0437660217285156, lasso = 0.04230775684118271\n",
      "Epoch 19300: rec = 0.9021226763725281, lasso = 0.1568792164325714\n",
      "Epoch 19400: rec = 1.0186368227005005, lasso = 0.08932145684957504\n",
      "Epoch 19500: rec = 0.8815878033638, lasso = 0.12001035362482071\n",
      "Epoch 19600: rec = 1.035935640335083, lasso = 0.3312293291091919\n",
      "Epoch 19700: rec = 0.8419789671897888, lasso = 0.31695446372032166\n",
      "Epoch 19800: rec = 0.8677136301994324, lasso = 0.23066776990890503\n",
      "Epoch 19900: rec = 0.9805352091789246, lasso = 0.1070646345615387\n",
      "Epoch 20000: rec = 0.9242694973945618, lasso = 0.20053008198738098\n",
      "Epoch 20100: rec = 0.8319593071937561, lasso = 0.04835498332977295\n",
      "Epoch 20200: rec = 0.8167827129364014, lasso = 0.3157939612865448\n",
      "Epoch 20300: rec = 0.9185382723808289, lasso = 0.15153805911540985\n",
      "Epoch 20400: rec = 0.9368800520896912, lasso = 0.13314609229564667\n",
      "Epoch 20500: rec = 0.7078633904457092, lasso = 0.1588437706232071\n",
      "Epoch 20600: rec = 0.9786953926086426, lasso = 0.14872457087039948\n",
      "Epoch 20700: rec = 0.803943932056427, lasso = 0.2849433720111847\n",
      "Epoch 20800: rec = 0.7726445198059082, lasso = 0.19145965576171875\n",
      "Epoch 20900: rec = 0.6521571278572083, lasso = 0.0911363884806633\n",
      "Epoch 21000: rec = 0.9230232834815979, lasso = 0.04865274950861931\n",
      "Epoch 21100: rec = 0.7725622653961182, lasso = 0.10171347856521606\n",
      "Epoch 21200: rec = 0.772368311882019, lasso = 0.25430408120155334\n",
      "Epoch 21300: rec = 0.7286701202392578, lasso = 0.27832937240600586\n",
      "Epoch 21400: rec = 0.7536333203315735, lasso = 0.0720505341887474\n",
      "Epoch 21500: rec = 0.7835368514060974, lasso = 0.10837819427251816\n",
      "Epoch 21600: rec = 0.7112972140312195, lasso = 0.10450273007154465\n",
      "Epoch 21700: rec = 0.5948897004127502, lasso = 0.12000726163387299\n",
      "Epoch 21800: rec = 0.9138173460960388, lasso = 0.16742737591266632\n",
      "Epoch 21900: rec = 0.6560747623443604, lasso = 0.23620900511741638\n",
      "Epoch 22000: rec = 0.8539560437202454, lasso = 0.14148551225662231\n",
      "Epoch 22100: rec = 0.718329668045044, lasso = 0.1060938835144043\n",
      "Epoch 22200: rec = 0.6561886072158813, lasso = 0.1502791941165924\n",
      "Epoch 22300: rec = 0.6594597697257996, lasso = 0.129496768116951\n",
      "Epoch 22400: rec = 0.6333797574043274, lasso = 0.17056918144226074\n",
      "Epoch 22500: rec = 0.5651825070381165, lasso = 0.1816488802433014\n",
      "Epoch 22600: rec = 0.6918278336524963, lasso = 0.1263081431388855\n",
      "Epoch 22700: rec = 0.5895677804946899, lasso = 0.13810811936855316\n",
      "Epoch 22800: rec = 0.691916286945343, lasso = 0.036991048604249954\n",
      "Epoch 22900: rec = 0.5391172170639038, lasso = 0.24811546504497528\n",
      "Epoch 23000: rec = 0.5976632833480835, lasso = 0.18201829493045807\n",
      "Epoch 23100: rec = 0.5772350430488586, lasso = 0.06572162359952927\n",
      "Epoch 23200: rec = 0.5590886473655701, lasso = 0.03854045644402504\n",
      "Epoch 23300: rec = 0.5761083364486694, lasso = 0.29302021861076355\n",
      "Epoch 23400: rec = 0.5074127912521362, lasso = 0.10909219831228256\n",
      "Epoch 23500: rec = 0.4899803102016449, lasso = 0.09482475370168686\n",
      "Epoch 23600: rec = 0.5642240047454834, lasso = 0.2514490485191345\n",
      "Epoch 23700: rec = 0.5514405369758606, lasso = 0.1260569989681244\n",
      "Epoch 23800: rec = 0.4847826361656189, lasso = 0.0396893210709095\n",
      "Epoch 23900: rec = 0.45319804549217224, lasso = 0.036249615252017975\n",
      "Epoch 24000: rec = 1.074102759361267, lasso = 0.18156789243221283\n",
      "Epoch 24100: rec = 0.502479612827301, lasso = 0.21370182931423187\n",
      "Epoch 24200: rec = 0.5535088181495667, lasso = 0.10193250328302383\n",
      "Epoch 24300: rec = 0.5028757452964783, lasso = 0.08039812743663788\n",
      "Epoch 24400: rec = 0.7157983183860779, lasso = 0.11886385828256607\n",
      "Epoch 24500: rec = 0.54154372215271, lasso = 0.277932345867157\n",
      "Epoch 24600: rec = 0.5428033471107483, lasso = 0.06419522315263748\n",
      "Epoch 24700: rec = 0.5625635385513306, lasso = 0.26221421360969543\n",
      "Epoch 24800: rec = 0.4766048491001129, lasso = 0.11254152655601501\n",
      "Epoch 24900: rec = 0.47294509410858154, lasso = 0.16827714443206787\n",
      "Epoch 25000: rec = 0.46879592537879944, lasso = 0.16888536512851715\n",
      "Epoch 25100: rec = 0.5926477909088135, lasso = 0.20063650608062744\n",
      "Epoch 25200: rec = 0.5830013751983643, lasso = 0.25968945026397705\n",
      "Epoch 25300: rec = 0.601535975933075, lasso = 0.14237816631793976\n",
      "Epoch 25400: rec = 0.7717846035957336, lasso = 0.11877131462097168\n",
      "Epoch 25500: rec = 0.48370540142059326, lasso = 0.03679924085736275\n",
      "Epoch 25600: rec = 0.44817838072776794, lasso = 0.17536062002182007\n",
      "Epoch 25700: rec = 0.5101914405822754, lasso = 0.13994544744491577\n",
      "Epoch 25800: rec = 0.4041610658168793, lasso = 0.1591050922870636\n",
      "Epoch 25900: rec = 0.6407852172851562, lasso = 0.2704286575317383\n",
      "Epoch 26000: rec = 0.41775116324424744, lasso = 0.20678065717220306\n",
      "Epoch 26100: rec = 0.3369152843952179, lasso = 0.102342389523983\n",
      "Epoch 26200: rec = 0.42965736985206604, lasso = 0.2568959891796112\n",
      "Epoch 26300: rec = 0.45488497614860535, lasso = 0.039272088557481766\n",
      "Epoch 26400: rec = 0.5108208656311035, lasso = 0.14186668395996094\n",
      "Epoch 26500: rec = 0.4750135838985443, lasso = 0.10406342893838882\n",
      "Epoch 26600: rec = 0.37709370255470276, lasso = 0.20063593983650208\n",
      "Epoch 26700: rec = 0.8689374327659607, lasso = 0.37896740436553955\n",
      "Epoch 26800: rec = 0.5054582357406616, lasso = 0.2779386639595032\n",
      "Epoch 26900: rec = 0.410069078207016, lasso = 0.09069013595581055\n",
      "Epoch 27000: rec = 0.4900093376636505, lasso = 0.2907067537307739\n",
      "Epoch 27100: rec = 0.4173935651779175, lasso = 0.11924438178539276\n",
      "Epoch 27200: rec = 0.3553740382194519, lasso = 0.09927725791931152\n",
      "Epoch 27300: rec = 0.4252896010875702, lasso = 0.16611136496067047\n",
      "Epoch 27400: rec = 0.39884838461875916, lasso = 0.06933528929948807\n",
      "Epoch 27500: rec = 0.37578505277633667, lasso = 0.0914762020111084\n",
      "Epoch 27600: rec = 0.4245261251926422, lasso = 0.22273768484592438\n",
      "Epoch 27700: rec = 0.36580443382263184, lasso = 0.20085367560386658\n",
      "Epoch 27800: rec = 0.554908812046051, lasso = 0.11597133427858353\n",
      "Epoch 27900: rec = 0.505330502986908, lasso = 0.10361149162054062\n",
      "Epoch 28000: rec = 0.39138171076774597, lasso = 0.26752394437789917\n",
      "Epoch 28100: rec = 0.40641579031944275, lasso = 0.09741468727588654\n",
      "Epoch 28200: rec = 0.3596174716949463, lasso = 0.01735522598028183\n",
      "Epoch 28300: rec = 0.4203522205352783, lasso = 0.18723130226135254\n",
      "Epoch 28400: rec = 0.42885613441467285, lasso = 0.1509821116924286\n",
      "Epoch 28500: rec = 0.4734131097793579, lasso = 0.32067757844924927\n",
      "Epoch 28600: rec = 0.4504443109035492, lasso = 0.08735009282827377\n",
      "Epoch 28700: rec = 0.4193810522556305, lasso = 0.026508033275604248\n",
      "Epoch 28800: rec = 0.34612810611724854, lasso = 0.15940581262111664\n",
      "Epoch 28900: rec = 0.33135658502578735, lasso = 0.14195476472377777\n",
      "Epoch 29000: rec = 0.3552630543708801, lasso = 0.1728646457195282\n",
      "Epoch 29100: rec = 0.38955697417259216, lasso = 0.16422176361083984\n",
      "Epoch 29200: rec = 0.41010695695877075, lasso = 0.19393736124038696\n",
      "Epoch 29300: rec = 0.3230479061603546, lasso = 0.08851201087236404\n",
      "Epoch 29400: rec = 0.4424985647201538, lasso = 0.05967850983142853\n",
      "Epoch 29500: rec = 0.348832368850708, lasso = 0.13203877210617065\n",
      "Epoch 29600: rec = 0.4283561706542969, lasso = 0.23429559171199799\n",
      "Epoch 29700: rec = 0.4670373201370239, lasso = 0.17660385370254517\n",
      "Epoch 29800: rec = 0.31843891739845276, lasso = 0.13806729018688202\n",
      "Epoch 29900: rec = 0.403098464012146, lasso = 0.025567742064595222\n",
      "Epoch 30000: rec = 0.3650647699832916, lasso = 0.15899571776390076\n",
      "Epoch 30100: rec = 0.42198342084884644, lasso = 0.06086215004324913\n",
      "Epoch 30200: rec = 0.5026625990867615, lasso = 0.07057364284992218\n",
      "Epoch 30300: rec = 0.3654657304286957, lasso = 0.22262506186962128\n",
      "Epoch 30400: rec = 0.42360711097717285, lasso = 0.050865545868873596\n",
      "Epoch 30500: rec = 0.33247071504592896, lasso = 0.10913785547018051\n",
      "Epoch 30600: rec = 0.35804253816604614, lasso = 0.31219297647476196\n",
      "Epoch 30700: rec = 0.4121629297733307, lasso = 0.059942491352558136\n",
      "Epoch 30800: rec = 0.38197022676467896, lasso = 0.11098571866750717\n",
      "Epoch 30900: rec = 0.43965575098991394, lasso = 0.16980788111686707\n",
      "Epoch 31000: rec = 0.34466037154197693, lasso = 0.13205942511558533\n",
      "Epoch 31100: rec = 0.4881385564804077, lasso = 0.09465191513299942\n",
      "Epoch 31200: rec = 0.32264673709869385, lasso = 0.03441420570015907\n",
      "Epoch 31300: rec = 0.409494012594223, lasso = 0.17001575231552124\n",
      "Epoch 31400: rec = 0.35949450731277466, lasso = 0.20120742917060852\n",
      "Epoch 31500: rec = 0.33223628997802734, lasso = 0.272897869348526\n",
      "Epoch 31600: rec = 0.4106401205062866, lasso = 0.1533184051513672\n",
      "Epoch 31700: rec = 0.34729644656181335, lasso = 0.11241042613983154\n",
      "Epoch 31800: rec = 0.32519394159317017, lasso = 0.11627160757780075\n",
      "Epoch 31900: rec = 0.31874462962150574, lasso = 0.12255971878767014\n",
      "Epoch 32000: rec = 0.34120601415634155, lasso = 0.15480084717273712\n",
      "Epoch 32100: rec = 0.3598562180995941, lasso = 0.04308145493268967\n",
      "Epoch 32200: rec = 0.3161141574382782, lasso = 0.11410260945558548\n",
      "Epoch 32300: rec = 0.9354988932609558, lasso = 0.22826561331748962\n",
      "Epoch 32400: rec = 0.38396087288856506, lasso = 0.0756983533501625\n",
      "Epoch 32500: rec = 0.4098711311817169, lasso = 0.07108394801616669\n",
      "Epoch 32600: rec = 0.32827892899513245, lasso = 0.0905628651380539\n",
      "Epoch 32700: rec = 0.3127463161945343, lasso = 0.07401431351900101\n",
      "Epoch 32800: rec = 0.3181838095188141, lasso = 0.1075604259967804\n",
      "Epoch 32900: rec = 0.324136883020401, lasso = 0.02137681283056736\n",
      "Epoch 33000: rec = 0.3145432770252228, lasso = 0.07729871571063995\n",
      "Epoch 33100: rec = 0.29390186071395874, lasso = 0.08071611076593399\n",
      "Epoch 33200: rec = 0.2963424026966095, lasso = 0.10750438272953033\n",
      "Epoch 33300: rec = 0.333291232585907, lasso = 0.07569378614425659\n",
      "Epoch 33400: rec = 0.35930460691452026, lasso = 0.08684489130973816\n",
      "Epoch 33500: rec = 0.3842020034790039, lasso = 0.14883999526500702\n",
      "Epoch 33600: rec = 0.3346823751926422, lasso = 0.15724006295204163\n",
      "Epoch 33700: rec = 0.2831007242202759, lasso = 0.152865469455719\n",
      "Epoch 33800: rec = 0.3686344623565674, lasso = 0.152615025639534\n",
      "Epoch 33900: rec = 0.4091202914714813, lasso = 0.24800324440002441\n",
      "Epoch 34000: rec = 0.3212992548942566, lasso = 0.03890343755483627\n",
      "Epoch 34100: rec = 0.3463985323905945, lasso = 0.2117355614900589\n",
      "Epoch 34200: rec = 0.3518511950969696, lasso = 0.10907204449176788\n",
      "Epoch 34300: rec = 0.3127598464488983, lasso = 0.15649503469467163\n",
      "Epoch 34400: rec = 0.30562499165534973, lasso = 0.08127721399068832\n",
      "Epoch 34500: rec = 0.30807560682296753, lasso = 0.09754437208175659\n",
      "Epoch 34600: rec = 0.32062315940856934, lasso = 0.151400625705719\n",
      "Epoch 34700: rec = 0.3802201449871063, lasso = 0.1284385472536087\n",
      "Epoch 34800: rec = 0.42783504724502563, lasso = 0.10106761753559113\n",
      "Epoch 34900: rec = 0.3846158981323242, lasso = 0.12561406195163727\n",
      "Epoch 35000: rec = 0.3774491846561432, lasso = 0.07605890184640884\n",
      "Epoch 35100: rec = 0.28144124150276184, lasso = 0.17382441461086273\n",
      "Epoch 35200: rec = 0.2925077974796295, lasso = 0.10766446590423584\n",
      "Epoch 35300: rec = 0.3098107576370239, lasso = 0.12195710092782974\n",
      "Epoch 35400: rec = 0.5385467410087585, lasso = 0.08150846511125565\n",
      "Epoch 35500: rec = 0.35414114594459534, lasso = 0.05912541225552559\n",
      "Epoch 35600: rec = 0.28841808438301086, lasso = 0.08928532898426056\n",
      "Epoch 35700: rec = 0.33413857221603394, lasso = 0.15933586657047272\n",
      "Epoch 35800: rec = 0.3011391758918762, lasso = 0.01528709102421999\n",
      "Epoch 35900: rec = 0.2883584499359131, lasso = 0.04378901794552803\n",
      "Epoch 36000: rec = 0.29421308636665344, lasso = 0.11429423093795776\n",
      "Epoch 36100: rec = 0.5655509829521179, lasso = 0.23391428589820862\n",
      "Epoch 36200: rec = 0.3371320962905884, lasso = 0.12178011983633041\n",
      "Epoch 36300: rec = 0.3074392080307007, lasso = 0.13132265210151672\n",
      "Epoch 36400: rec = 0.302404522895813, lasso = 0.13075928390026093\n",
      "Epoch 36500: rec = 0.31801390647888184, lasso = 0.1169855073094368\n",
      "Epoch 36600: rec = 0.39803817868232727, lasso = 0.07215432822704315\n",
      "Epoch 36700: rec = 0.29609575867652893, lasso = 0.1366296410560608\n",
      "Epoch 36800: rec = 0.40206608176231384, lasso = 0.07477784901857376\n",
      "Epoch 36900: rec = 0.3220359683036804, lasso = 0.1311488151550293\n",
      "Epoch 37000: rec = 0.28900831937789917, lasso = 0.1524231880903244\n",
      "Epoch 37100: rec = 0.40920695662498474, lasso = 0.20603415369987488\n",
      "Epoch 37200: rec = 0.33685916662216187, lasso = 0.02463918924331665\n",
      "Epoch 37300: rec = 0.2887112498283386, lasso = 0.06255500763654709\n",
      "Epoch 37400: rec = 0.2777808904647827, lasso = 0.11018946021795273\n",
      "Epoch 37500: rec = 0.2904965281486511, lasso = 0.09318786859512329\n",
      "Epoch 37600: rec = 0.2596389949321747, lasso = 0.08015548437833786\n",
      "Epoch 37700: rec = 0.28797224164009094, lasso = 0.03626067936420441\n",
      "Epoch 37800: rec = 0.34586402773857117, lasso = 0.14287574589252472\n",
      "Epoch 37900: rec = 0.3658337891101837, lasso = 0.10339275747537613\n",
      "Epoch 38000: rec = 0.5557217597961426, lasso = 0.20307691395282745\n",
      "Epoch 38100: rec = 0.309021532535553, lasso = 0.256353497505188\n",
      "Epoch 38200: rec = 0.26504072546958923, lasso = 0.05891963467001915\n",
      "Epoch 38300: rec = 0.3408600687980652, lasso = 0.03394974395632744\n",
      "Epoch 38400: rec = 0.3055141866207123, lasso = 0.11264364421367645\n",
      "Epoch 38500: rec = 0.290646493434906, lasso = 0.11671338230371475\n",
      "Epoch 38600: rec = 0.2859558165073395, lasso = 0.02421298623085022\n",
      "Epoch 38700: rec = 0.27509990334510803, lasso = 0.16210179030895233\n",
      "Epoch 38800: rec = 0.327617883682251, lasso = 0.13087855279445648\n",
      "Epoch 38900: rec = 0.31733885407447815, lasso = 0.16959910094738007\n",
      "Epoch 39000: rec = 0.2702072262763977, lasso = 0.15837566554546356\n",
      "Epoch 39100: rec = 0.31004875898361206, lasso = 0.10198676586151123\n",
      "Epoch 39200: rec = 0.3060666620731354, lasso = 0.12700927257537842\n",
      "Epoch 39300: rec = 0.30939409136772156, lasso = 0.07302922010421753\n",
      "Epoch 39400: rec = 0.3533770740032196, lasso = 0.15184354782104492\n",
      "Epoch 39500: rec = 0.2802099287509918, lasso = 0.13441643118858337\n",
      "Epoch 39600: rec = 0.29001131653785706, lasso = 0.2951815128326416\n",
      "Epoch 39700: rec = 0.4018189609050751, lasso = 0.11579100042581558\n",
      "Epoch 39800: rec = 0.34460052847862244, lasso = 0.12817180156707764\n",
      "Epoch 39900: rec = 0.27155473828315735, lasso = 0.1361861228942871\n",
      "Epoch 40000: rec = 0.40904614329338074, lasso = 0.17118170857429504\n",
      "Epoch 40100: rec = 0.2938884496688843, lasso = 0.09926315397024155\n",
      "Epoch 40200: rec = 0.3056061267852783, lasso = 0.12122170627117157\n",
      "Epoch 40300: rec = 0.38819339871406555, lasso = 0.15498478710651398\n",
      "Epoch 40400: rec = 0.3376362919807434, lasso = 0.044946085661649704\n",
      "Epoch 40500: rec = 0.2889728248119354, lasso = 0.1671745330095291\n",
      "Epoch 40600: rec = 0.3891531825065613, lasso = 0.10270275175571442\n",
      "Epoch 40700: rec = 0.2811698615550995, lasso = 0.101587675511837\n",
      "Epoch 40800: rec = 0.35970064997673035, lasso = 0.07601847499608994\n",
      "Epoch 40900: rec = 0.2809615135192871, lasso = 0.044492170214653015\n",
      "Epoch 41000: rec = 0.31815865635871887, lasso = 0.03811057657003403\n",
      "Epoch 41100: rec = 0.3558095097541809, lasso = 0.07467982172966003\n",
      "Epoch 41200: rec = 0.30958008766174316, lasso = 0.09768589586019516\n",
      "Epoch 41300: rec = 0.3841213881969452, lasso = 0.09281498193740845\n",
      "Epoch 41400: rec = 0.33124762773513794, lasso = 0.0248836949467659\n",
      "Epoch 41500: rec = 0.28126147389411926, lasso = 0.10868627578020096\n",
      "Epoch 41600: rec = 0.28303757309913635, lasso = 0.17425256967544556\n",
      "Epoch 41700: rec = 0.26813045144081116, lasso = 0.08710986375808716\n",
      "Epoch 41800: rec = 0.3562397360801697, lasso = 0.1557631939649582\n",
      "Epoch 41900: rec = 0.3232366144657135, lasso = 0.0981655940413475\n",
      "Epoch 42000: rec = 0.28898733854293823, lasso = 0.04712555930018425\n",
      "Epoch 42100: rec = 0.31182822585105896, lasso = 0.04747161269187927\n",
      "Epoch 42200: rec = 0.2759171724319458, lasso = 0.07925451546907425\n",
      "Epoch 42300: rec = 0.278639554977417, lasso = 0.13134576380252838\n",
      "Epoch 42400: rec = 0.2631387710571289, lasso = 0.09166360646486282\n",
      "Epoch 42500: rec = 0.2985897362232208, lasso = 0.08515926450490952\n",
      "Epoch 42600: rec = 0.3136233985424042, lasso = 0.09336210787296295\n",
      "Epoch 42700: rec = 0.2710179090499878, lasso = 0.20489631593227386\n",
      "Epoch 42800: rec = 0.22393392026424408, lasso = 0.07010985165834427\n",
      "Epoch 42900: rec = 0.24558435380458832, lasso = 0.09043886512517929\n",
      "Epoch 43000: rec = 0.2780033349990845, lasso = 0.05466272309422493\n",
      "Epoch 43100: rec = 0.2802466154098511, lasso = 0.13354985415935516\n",
      "Epoch 43200: rec = 0.4187484383583069, lasso = 0.08027089387178421\n",
      "Epoch 43300: rec = 0.25131654739379883, lasso = 0.17995485663414001\n",
      "Epoch 43400: rec = 0.27068591117858887, lasso = 0.053976647555828094\n",
      "Epoch 43500: rec = 0.45694756507873535, lasso = 0.1327439844608307\n",
      "Epoch 43600: rec = 0.3248527944087982, lasso = 0.11339662224054337\n",
      "Epoch 43700: rec = 0.27591097354888916, lasso = 0.14755181968212128\n",
      "Epoch 43800: rec = 0.23887695372104645, lasso = 0.047053124755620956\n",
      "Epoch 43900: rec = 0.2585476040840149, lasso = 0.10213056951761246\n",
      "Epoch 44000: rec = 0.283768892288208, lasso = 0.11664817482233047\n",
      "Epoch 44100: rec = 0.24423836171627045, lasso = 0.10084468871355057\n",
      "Epoch 44200: rec = 0.2711116075515747, lasso = 0.04458421468734741\n",
      "Epoch 44300: rec = 0.3005411922931671, lasso = 0.08653729408979416\n",
      "Epoch 44400: rec = 0.32037436962127686, lasso = 0.11918063461780548\n",
      "Epoch 44500: rec = 0.3022376596927643, lasso = 0.24270473420619965\n",
      "Epoch 44600: rec = 0.28035202622413635, lasso = 0.19173012673854828\n",
      "Epoch 44700: rec = 0.290702223777771, lasso = 0.1006755605340004\n",
      "Epoch 44800: rec = 0.2554529011249542, lasso = 0.16265876591205597\n",
      "Epoch 44900: rec = 0.2853149175643921, lasso = 0.13927434384822845\n",
      "Epoch 45000: rec = 0.29091179370880127, lasso = 0.12807722389698029\n",
      "Epoch 45100: rec = 0.29752781987190247, lasso = 0.17143836617469788\n",
      "Epoch 45200: rec = 0.28120172023773193, lasso = 0.05351455509662628\n",
      "Epoch 45300: rec = 0.36515867710113525, lasso = 0.09700682014226913\n",
      "Epoch 45400: rec = 0.25711244344711304, lasso = 0.1376459002494812\n",
      "Epoch 45500: rec = 0.3175010681152344, lasso = 0.07072968035936356\n",
      "Epoch 45600: rec = 0.2946743667125702, lasso = 0.16972295939922333\n",
      "Epoch 45700: rec = 0.31943365931510925, lasso = 0.19025328755378723\n",
      "Epoch 45800: rec = 0.27234724164009094, lasso = 0.14651404321193695\n",
      "Epoch 45900: rec = 0.262403666973114, lasso = 0.13324135541915894\n",
      "Epoch 46000: rec = 0.305835485458374, lasso = 0.1246619001030922\n",
      "Epoch 46100: rec = 0.26311826705932617, lasso = 0.06926843523979187\n",
      "Epoch 46200: rec = 0.24081024527549744, lasso = 0.06311559677124023\n",
      "Epoch 46300: rec = 0.2957976460456848, lasso = 0.12990346550941467\n",
      "Epoch 46400: rec = 0.2540881037712097, lasso = 0.1338655799627304\n",
      "Epoch 46500: rec = 0.26296937465667725, lasso = 0.06310058385133743\n",
      "Epoch 46600: rec = 0.3281998336315155, lasso = 0.13182997703552246\n",
      "Epoch 46700: rec = 0.24799242615699768, lasso = 0.07420600950717926\n",
      "Epoch 46800: rec = 0.2421630620956421, lasso = 0.09253666549921036\n",
      "Epoch 46900: rec = 0.232798770070076, lasso = 0.04787334054708481\n",
      "Epoch 47000: rec = 0.35919204354286194, lasso = 0.22101350128650665\n",
      "Epoch 47100: rec = 0.2988497018814087, lasso = 0.15801264345645905\n",
      "Epoch 47200: rec = 0.2728576958179474, lasso = 0.09309369325637817\n",
      "Epoch 47300: rec = 0.2975687086582184, lasso = 0.10534179210662842\n",
      "Epoch 47400: rec = 0.2893623113632202, lasso = 0.04634002596139908\n",
      "Epoch 47500: rec = 0.327321320772171, lasso = 0.1061544343829155\n",
      "Epoch 47600: rec = 0.24931307137012482, lasso = 0.15111777186393738\n",
      "Epoch 47700: rec = 0.3124849796295166, lasso = 0.1635461002588272\n",
      "Epoch 47800: rec = 0.3442659378051758, lasso = 0.15506398677825928\n",
      "Epoch 47900: rec = 0.28486278653144836, lasso = 0.07785671949386597\n",
      "Epoch 48000: rec = 0.29756563901901245, lasso = 0.12033583223819733\n",
      "Epoch 48100: rec = 0.28615593910217285, lasso = 0.17798814177513123\n",
      "Epoch 48200: rec = 0.22564467787742615, lasso = 0.035367436707019806\n",
      "Epoch 48300: rec = 0.23968173563480377, lasso = 0.08102186024188995\n",
      "Epoch 48400: rec = 0.25984734296798706, lasso = 0.11009608209133148\n",
      "Epoch 48500: rec = 0.2572175860404968, lasso = 0.015942607074975967\n",
      "Epoch 48600: rec = 0.29539254307746887, lasso = 0.15662704408168793\n",
      "Epoch 48700: rec = 0.255945086479187, lasso = 0.017833523452281952\n",
      "Epoch 48800: rec = 0.30110833048820496, lasso = 0.10856807231903076\n",
      "Epoch 48900: rec = 0.2378675639629364, lasso = 0.12486399710178375\n",
      "Epoch 49000: rec = 0.31276935338974, lasso = 0.2681887745857239\n",
      "Epoch 49100: rec = 0.23515982925891876, lasso = 0.11338835209608078\n",
      "Epoch 49200: rec = 0.2502524256706238, lasso = 0.051452986896038055\n",
      "Epoch 49300: rec = 0.2527986764907837, lasso = 0.029905447736382484\n",
      "Epoch 49400: rec = 0.27711427211761475, lasso = 0.02652617171406746\n",
      "Epoch 49500: rec = 0.2915017604827881, lasso = 0.09970783442258835\n",
      "Epoch 49600: rec = 0.2581382691860199, lasso = 0.03685314953327179\n",
      "Epoch 49700: rec = 0.2577390968799591, lasso = 0.09101109951734543\n",
      "Epoch 49800: rec = 0.2791200578212738, lasso = 0.1833188831806183\n",
      "Epoch 49900: rec = 0.28030839562416077, lasso = 0.2293318808078766\n"
     ]
    }
   ],
   "source": [
    "opt = torch.optim.Adam(list(encoder.parameters()) + list(decoder.parameters()), lr=1e-3)\n",
    "\n",
    "for i in range(50000):\n",
    "    opt.zero_grad()\n",
    "    z = encoder(data)\n",
    "    rec_loss = F.mse_loss(decoder(z), data) \n",
    "    lasso_loss = torch.exp(torch.log(z.std(0)).mean()) # torch.norm(z.std(0), p=1)\n",
    "    # F.mse_loss(z.T.cov().tril(diagonal=-1), torch.zeros_like(z.T.cov()))\n",
    "    loss = rec_loss + 10 * lasso_loss\n",
    "    loss.backward()\n",
    "    opt.step()\n",
    "\n",
    "    if i % 100 == 0:\n",
    "        print('Epoch {}: rec = {}, lasso = {}'.format(i, rec_loss, lasso_loss))"
   ]
  },
  {
   "cell_type": "code",
   "execution_count": 56,
   "metadata": {},
   "outputs": [
    {
     "data": {
      "image/png": "[encoded data removed]",
      "text/plain": [
       "<Figure size 432x288 with 1 Axes>"
      ]
     },
     "metadata": {
      "needs_background": "light"
     },
     "output_type": "display_data"
    }
   ],
   "source": [
    "encoder.eval()\n",
    "decoder.eval()\n",
    "\n",
    "z = encoder(data)\n",
    "plt.scatter(z[:,0].detach().numpy(), z[:,1].detach().numpy())\n",
    "plt.gca().set_aspect('equal')\n",
    "plt.show()"
   ]
  },
  {
   "cell_type": "code",
   "execution_count": 57,
   "metadata": {},
   "outputs": [
    {
     "data": {
      "text/plain": [
       "<matplotlib.collections.PathCollection at 0x7fa7640c91c0>"
      ]
     },
     "execution_count": 57,
     "metadata": {},
     "output_type": "execute_result"
    },
    {
     "data": {
      "image/png": "[encoded data removed]",
      "text/plain": [
       "<Figure size 432x288 with 1 Axes>"
      ]
     },
     "metadata": {
      "needs_background": "light"
     },
     "output_type": "display_data"
    }
   ],
   "source": [
    "rec = decoder(z).detach().numpy()\n",
    "plt.scatter(data[:,0].numpy(), data[:,1].numpy())\n",
    "plt.scatter(rec[:, 0], rec[:, 1])"
   ]
  },
  {
   "cell_type": "markdown",
   "metadata": {},
   "source": [
    "# 3D\n",
    "## 1D Manifold"
   ]
  },
  {
   "cell_type": "code",
   "execution_count": 21,
   "metadata": {},
   "outputs": [
    {
     "data": {
      "image/png": "[encoded data removed]",
      "text/plain": [
       "<Figure size 432x288 with 1 Axes>"
      ]
     },
     "metadata": {
      "needs_background": "light"
     },
     "output_type": "display_data"
    }
   ],
   "source": [
    "encoder = MLP(3, 3, [32, 32, 32, 32])\n",
    "decoder = SNMLP(3, 3, [32, 32, 32, 32])\n",
    "encoder.train()\n",
    "decoder.train()\n",
    "\n",
    "X, _ = torch.sort(torch.rand(50))\n",
    "X = X - 0.5\n",
    "Y = X + 5 * X ** 3\n",
    "Z = X ** 2\n",
    "data = torch.stack([X, Y, Z], dim=-1)\n",
    "\n",
    "fig = plt.figure()\n",
    "ax = fig.add_subplot(projection='3d')\n",
    "ax.scatter(X.numpy(), Y.numpy(), Z.numpy())\n",
    "fig.show()"
   ]
  },
  {
   "cell_type": "code",
   "execution_count": 22,
   "metadata": {},
   "outputs": [
    {
     "name": "stdout",
     "output_type": "stream",
     "text": [
      "Epoch 0: rec = 0.12063144892454147, lasso = 0.007588486652821302\n",
      "Epoch 100: rec = 0.004212757106870413, lasso = 0.2741580009460449\n",
      "Epoch 200: rec = 0.0002306433452758938, lasso = 0.1126759797334671\n",
      "Epoch 300: rec = 5.8131758123636246e-05, lasso = 0.019404727965593338\n",
      "Epoch 400: rec = 2.1065086912130937e-05, lasso = 0.026671046391129494\n",
      "Epoch 500: rec = 1.3822070286551025e-05, lasso = 0.04522714018821716\n",
      "Epoch 600: rec = 7.220643055916298e-06, lasso = 0.030869804322719574\n",
      "Epoch 700: rec = 4.931194325763499e-06, lasso = 0.01834511198103428\n",
      "Epoch 800: rec = 2.9761947644146858e-06, lasso = 0.01972748525440693\n",
      "Epoch 900: rec = 3.409141527299653e-06, lasso = 0.025973966345191002\n",
      "Epoch 1000: rec = 2.3391733066091547e-06, lasso = 0.030300520360469818\n",
      "Epoch 1100: rec = 1.9050513628826593e-06, lasso = 0.020610926672816277\n",
      "Epoch 1200: rec = 3.609025588957593e-05, lasso = 0.018306618556380272\n",
      "Epoch 1300: rec = 1.5909646435829927e-06, lasso = 0.023285705596208572\n",
      "Epoch 1400: rec = 1.6466145780213992e-06, lasso = 0.03629021346569061\n",
      "Epoch 1500: rec = 1.1772992820624495e-06, lasso = 0.022165026515722275\n",
      "Epoch 1600: rec = 1.404177396580053e-06, lasso = 0.020479923114180565\n",
      "Epoch 1700: rec = 2.767724936347804e-06, lasso = 0.019107652828097343\n",
      "Epoch 1800: rec = 9.920350976244663e-07, lasso = 0.019879290834069252\n",
      "Epoch 1900: rec = 1.3276318213684135e-06, lasso = 0.017678262665867805\n",
      "Epoch 2000: rec = 8.736116114960168e-07, lasso = 0.023095428943634033\n",
      "Epoch 2100: rec = 1.0896455933107063e-06, lasso = 0.015549329109489918\n",
      "Epoch 2200: rec = 8.701376827957574e-07, lasso = 0.022700313478708267\n",
      "Epoch 2300: rec = 8.581124575357535e-07, lasso = 0.021531742066144943\n",
      "Epoch 2400: rec = 9.170942576020025e-06, lasso = 0.0207027867436409\n",
      "Epoch 2500: rec = 1.5722764601378003e-06, lasso = 0.01761873997747898\n",
      "Epoch 2600: rec = 1.9904906366718933e-05, lasso = 0.014239171519875526\n",
      "Epoch 2700: rec = 5.909059268560668e-07, lasso = 0.017626959830522537\n",
      "Epoch 2800: rec = 2.771684194158297e-05, lasso = 0.010973004624247551\n",
      "Epoch 2900: rec = 1.397740902575606e-06, lasso = 0.013265286572277546\n",
      "Epoch 3000: rec = 6.895227215863997e-07, lasso = 0.011641728691756725\n",
      "Epoch 3100: rec = 1.2384122101138928e-06, lasso = 0.026700515300035477\n",
      "Epoch 3200: rec = 1.2611940292117652e-06, lasso = 0.016651898622512817\n",
      "Epoch 3300: rec = 7.949312816890597e-07, lasso = 0.016990063712000847\n",
      "Epoch 3400: rec = 5.920177272855653e-07, lasso = 0.014333130791783333\n",
      "Epoch 3500: rec = 9.577095624990761e-06, lasso = 0.016094699501991272\n",
      "Epoch 3600: rec = 8.239781550400949e-07, lasso = 0.015480549074709415\n",
      "Epoch 3700: rec = 2.500604750821367e-05, lasso = 0.013626307249069214\n",
      "Epoch 3800: rec = 1.088919248104503e-06, lasso = 0.019469842314720154\n",
      "Epoch 3900: rec = 6.071870757295983e-07, lasso = 0.016176609322428703\n",
      "Epoch 4000: rec = 7.434715030285588e-07, lasso = 0.011338915675878525\n",
      "Epoch 4100: rec = 6.561340910593572e-07, lasso = 0.013063202612102032\n",
      "Epoch 4200: rec = 6.253985134208051e-07, lasso = 0.013201125897467136\n",
      "Epoch 4300: rec = 9.430115710529208e-07, lasso = 0.02394014596939087\n",
      "Epoch 4400: rec = 1.095724087463168e-06, lasso = 0.014948061667382717\n",
      "Epoch 4500: rec = 1.7849437426775694e-05, lasso = 0.012549551203846931\n",
      "Epoch 4600: rec = 6.670063612546073e-07, lasso = 0.014121430926024914\n",
      "Epoch 4700: rec = 7.260935035446892e-07, lasso = 0.020321588963270187\n",
      "Epoch 4800: rec = 1.5449153579538688e-05, lasso = 0.019468504935503006\n",
      "Epoch 4900: rec = 9.851983486441895e-05, lasso = 0.017762523144483566\n",
      "Epoch 5000: rec = 5.365898232412292e-07, lasso = 0.012741666287183762\n",
      "Epoch 5100: rec = 5.442730071081314e-07, lasso = 0.016605766490101814\n",
      "Epoch 5200: rec = 5.682440473719907e-07, lasso = 0.015761926770210266\n",
      "Epoch 5300: rec = 1.630480369385623e-06, lasso = 0.016792355105280876\n",
      "Epoch 5400: rec = 7.109358648449415e-06, lasso = 0.012556902132928371\n",
      "Epoch 5500: rec = 4.466711231998488e-07, lasso = 0.013782499358057976\n",
      "Epoch 5600: rec = 1.2821199106838321e-06, lasso = 0.013248775154352188\n",
      "Epoch 5700: rec = 1.422154355168459e-06, lasso = 0.014439500868320465\n",
      "Epoch 5800: rec = 5.977336172691139e-07, lasso = 0.012137486599385738\n",
      "Epoch 5900: rec = 6.363093234540429e-07, lasso = 0.0183030404150486\n",
      "Epoch 6000: rec = 3.920337803720031e-06, lasso = 0.011957439593970776\n",
      "Epoch 6100: rec = 9.496726534052868e-07, lasso = 0.013142814859747887\n",
      "Epoch 6200: rec = 7.664153827136033e-07, lasso = 0.015858197584748268\n",
      "Epoch 6300: rec = 4.830365014640847e-06, lasso = 0.017329003661870956\n",
      "Epoch 6400: rec = 1.5279573517545941e-06, lasso = 0.016516782343387604\n",
      "Epoch 6500: rec = 3.975422714574961e-06, lasso = 0.016827141866087914\n",
      "Epoch 6600: rec = 6.792869839955529e-07, lasso = 0.010993754491209984\n",
      "Epoch 6700: rec = 0.00011826953414129093, lasso = 0.02060122787952423\n",
      "Epoch 6800: rec = 5.003601017961046e-07, lasso = 0.012568775564432144\n",
      "Epoch 6900: rec = 1.0196620223723585e-06, lasso = 0.015484380535781384\n",
      "Epoch 7000: rec = 8.441459158348152e-07, lasso = 0.01082331221550703\n",
      "Epoch 7100: rec = 4.169605745119043e-06, lasso = 0.015576460398733616\n",
      "Epoch 7200: rec = 5.869641768185829e-07, lasso = 0.012517266906797886\n",
      "Epoch 7300: rec = 6.227356834642706e-07, lasso = 0.012968276627361774\n",
      "Epoch 7400: rec = 5.505183366949495e-07, lasso = 0.010237157344818115\n",
      "Epoch 7500: rec = 4.995766289539461e-07, lasso = 0.010742362588644028\n",
      "Epoch 7600: rec = 4.5563891148958646e-07, lasso = 0.011244094930589199\n",
      "Epoch 7700: rec = 4.11120572607615e-06, lasso = 0.021229296922683716\n",
      "Epoch 7800: rec = 6.326396942313295e-06, lasso = 0.012492259033024311\n",
      "Epoch 7900: rec = 4.6867668856975797e-07, lasso = 0.015107247047126293\n",
      "Epoch 8000: rec = 2.4302437395817833e-06, lasso = 0.0101524842903018\n",
      "Epoch 8100: rec = 9.716534805193078e-06, lasso = 0.015954257920384407\n",
      "Epoch 8200: rec = 1.1001823168044211e-06, lasso = 0.014383048750460148\n",
      "Epoch 8300: rec = 7.054595698718913e-07, lasso = 0.017714353278279305\n",
      "Epoch 8400: rec = 4.872817953582853e-06, lasso = 0.014753833413124084\n",
      "Epoch 8500: rec = 8.045307140491786e-07, lasso = 0.010090360417962074\n",
      "Epoch 8600: rec = 4.7354575372082763e-07, lasso = 0.01248011365532875\n",
      "Epoch 8700: rec = 8.321239874931052e-07, lasso = 0.013174261897802353\n",
      "Epoch 8800: rec = 5.4118359003041405e-06, lasso = 0.009925330057740211\n",
      "Epoch 8900: rec = 4.1631170688560815e-07, lasso = 0.011947158724069595\n",
      "Epoch 9000: rec = 4.253010774846189e-05, lasso = 0.014647167176008224\n",
      "Epoch 9100: rec = 4.718870911801787e-07, lasso = 0.016261938959360123\n",
      "Epoch 9200: rec = 1.4274506611400284e-05, lasso = 0.01306289155036211\n",
      "Epoch 9300: rec = 3.59915429726243e-06, lasso = 0.017102811485528946\n",
      "Epoch 9400: rec = 5.025396490054845e-07, lasso = 0.010672170668840408\n",
      "Epoch 9500: rec = 6.519412636407651e-07, lasso = 0.017606008797883987\n",
      "Epoch 9600: rec = 9.240191138815135e-05, lasso = 0.015463056974112988\n",
      "Epoch 9700: rec = 7.128481911422568e-07, lasso = 0.015531330369412899\n",
      "Epoch 9800: rec = 4.1724220523065014e-07, lasso = 0.012870332226157188\n",
      "Epoch 9900: rec = 3.370608965269639e-07, lasso = 0.010626032948493958\n"
     ]
    }
   ],
   "source": [
    "opt = torch.optim.Adam(list(encoder.parameters()) + list(decoder.parameters()), lr=1e-3)\n",
    "\n",
    "for i in range(10000):\n",
    "    opt.zero_grad()\n",
    "    z = encoder(data)\n",
    "    rec_loss = F.mse_loss(decoder(z), data) \n",
    "    lasso_loss = torch.exp(torch.log(z.std(0)+1e-3).mean()) # torch.norm(z.std(0), p=1)\n",
    "    # F.mse_loss(z.T.cov().tril(diagonal=-1), torch.zeros_like(z.T.cov())) \n",
    "    loss = rec_loss + 0.01 * lasso_loss\n",
    "    loss.backward()\n",
    "    opt.step()\n",
    "\n",
    "    if i % 100 == 0:\n",
    "        print('Epoch {}: rec = {}, lasso = {}'.format(i, rec_loss, lasso_loss))"
   ]
  },
  {
   "cell_type": "code",
   "execution_count": 23,
   "metadata": {},
   "outputs": [
    {
     "data": {
      "image/png": "[encoded data removed]",
      "text/plain": [
       "<Figure size 432x288 with 1 Axes>"
      ]
     },
     "metadata": {
      "needs_background": "light"
     },
     "output_type": "display_data"
    },
    {
     "data": {
      "image/png": "[encoded data removed]",
      "text/plain": [
       "<Figure size 432x288 with 1 Axes>"
      ]
     },
     "metadata": {
      "needs_background": "light"
     },
     "output_type": "display_data"
    },
    {
     "data": {
      "image/png": "[encoded data removed]",
      "text/plain": [
       "<Figure size 432x288 with 1 Axes>"
      ]
     },
     "metadata": {
      "needs_background": "light"
     },
     "output_type": "display_data"
    }
   ],
   "source": [
    "encoder.eval()\n",
    "decoder.eval()\n",
    "\n",
    "z = encoder(data)\n",
    "\n",
    "plt.scatter(z[:,0].detach().numpy(), z[:,1].detach().numpy())\n",
    "plt.gca().set_aspect('equal')\n",
    "plt.show()\n",
    "\n",
    "plt.scatter(z[:,0].detach().numpy(), z[:,2].detach().numpy())\n",
    "plt.gca().set_aspect('equal')\n",
    "plt.show()\n",
    "\n",
    "plt.scatter(z[:,1].detach().numpy(), z[:,2].detach().numpy())\n",
    "plt.gca().set_aspect('equal')\n",
    "plt.show()"
   ]
  },
  {
   "cell_type": "code",
   "execution_count": 24,
   "metadata": {},
   "outputs": [
    {
     "data": {
      "text/plain": [
       "tensor([0.0043, 3.2049, 0.0063], grad_fn=<SubBackward0>)"
      ]
     },
     "execution_count": 24,
     "metadata": {},
     "output_type": "execute_result"
    }
   ],
   "source": [
    "z.max(0)[0] - z.min(0)[0]"
   ]
  },
  {
   "cell_type": "code",
   "execution_count": 25,
   "metadata": {},
   "outputs": [
    {
     "data": {
      "text/plain": [
       "tensor([[ 9.5232e-07, -6.9268e-04,  1.3312e-06],\n",
       "        [-6.9268e-04,  5.0613e-01, -9.7333e-04],\n",
       "        [ 1.3312e-06, -9.7333e-04,  1.8864e-06]], grad_fn=<SqueezeBackward0>)"
      ]
     },
     "execution_count": 25,
     "metadata": {},
     "output_type": "execute_result"
    }
   ],
   "source": [
    "z.T.cov()"
   ]
  },
  {
   "cell_type": "code",
   "execution_count": 26,
   "metadata": {},
   "outputs": [
    {
     "data": {
      "image/png": "[encoded data removed]",
      "text/plain": [
       "<Figure size 432x288 with 1 Axes>"
      ]
     },
     "metadata": {
      "needs_background": "light"
     },
     "output_type": "display_data"
    }
   ],
   "source": [
    "rec = decoder(z).detach().numpy()\n",
    "\n",
    "fig = plt.figure()\n",
    "ax = fig.add_subplot(projection='3d')\n",
    "ax.scatter(X.numpy(), Y.numpy(), Z.numpy())\n",
    "ax.scatter(rec[:, 0], rec[:, 1], rec[:, 2])\n",
    "fig.show()"
   ]
  },
  {
   "cell_type": "code",
   "execution_count": 27,
   "metadata": {},
   "outputs": [
    {
     "data": {
      "image/png": "[encoded data removed]",
      "text/plain": [
       "<Figure size 432x288 with 1 Axes>"
      ]
     },
     "metadata": {
      "needs_background": "light"
     },
     "output_type": "display_data"
    }
   ],
   "source": [
    "def f(x):\n",
    "    return encoder(x).sum(0)\n",
    "\n",
    "jcb = torch.autograd.functional.jacobian(f, data).transpose(1,0)\n",
    "eig_list = torch.stack([svd(j[[1]])[1] for j in jcb])\n",
    "plt.hist(eig_list.numpy(), bins=30)\n",
    "plt.title('Distribution of Singular Values')\n",
    "plt.show()"
   ]
  },
  {
   "cell_type": "markdown",
   "metadata": {},
   "source": [
    "## 2D"
   ]
  },
  {
   "cell_type": "code",
   "execution_count": 37,
   "metadata": {},
   "outputs": [
    {
     "data": {
      "image/png": "[encoded data removed]",
      "text/plain": [
       "<Figure size 432x288 with 1 Axes>"
      ]
     },
     "metadata": {
      "needs_background": "light"
     },
     "output_type": "display_data"
    }
   ],
   "source": [
    "encoder = MLP(3, 3, [32, 32, 32, 32])\n",
    "decoder = SNMLP(3, 3, [32, 32, 32, 32])\n",
    "encoder.train()\n",
    "decoder.train()\n",
    "\n",
    "XY = torch.rand(100, 2)\n",
    "X = XY[:, 0] - 0.5\n",
    "Z = 10 * (X-0.3) * X * (X+0.3) \n",
    "data = torch.stack([XY[:,0], XY[:,1], Z], dim=-1)\n",
    "\n",
    "fig = plt.figure()\n",
    "ax = fig.add_subplot(projection='3d')\n",
    "ax.scatter(XY[:,0].numpy(), XY[:,1].numpy(), Z.numpy())\n",
    "fig.show()"
   ]
  },
  {
   "cell_type": "code",
   "execution_count": 38,
   "metadata": {},
   "outputs": [
    {
     "name": "stdout",
     "output_type": "stream",
     "text": [
      "Epoch 0: rec = 0.23900863528251648, lasso = 0.01431570015847683\n",
      "Epoch 100: rec = 0.16350695490837097, lasso = 0.017052648589015007\n",
      "Epoch 200: rec = 0.08778583258390427, lasso = 0.04378630593419075\n",
      "Epoch 300: rec = 0.07472283393144608, lasso = 0.13477157056331635\n",
      "Epoch 400: rec = 0.06969687342643738, lasso = 0.2746453583240509\n",
      "Epoch 500: rec = 0.05767935886979103, lasso = 0.6177809238433838\n",
      "Epoch 600: rec = 0.04564044997096062, lasso = 1.0793380737304688\n",
      "Epoch 700: rec = 0.043539900332689285, lasso = 1.0358906984329224\n",
      "Epoch 800: rec = 0.04162408784031868, lasso = 0.9961824417114258\n",
      "Epoch 900: rec = 0.03971177712082863, lasso = 1.0117310285568237\n",
      "Epoch 1000: rec = 0.03756696358323097, lasso = 1.0097092390060425\n",
      "Epoch 1100: rec = 0.035086795687675476, lasso = 1.0386266708374023\n",
      "Epoch 1200: rec = 0.03144031763076782, lasso = 1.056612491607666\n",
      "Epoch 1300: rec = 0.023694267496466637, lasso = 1.0827832221984863\n",
      "Epoch 1400: rec = 0.010482433252036572, lasso = 1.3439363241195679\n",
      "Epoch 1500: rec = 0.00807863473892212, lasso = 1.3621526956558228\n",
      "Epoch 1600: rec = 0.006804952397942543, lasso = 1.3256418704986572\n",
      "Epoch 1700: rec = 0.00589847844094038, lasso = 1.3278193473815918\n",
      "Epoch 1800: rec = 0.004829195328056812, lasso = 1.3259718418121338\n",
      "Epoch 1900: rec = 0.003522610990330577, lasso = 1.339237093925476\n",
      "Epoch 2000: rec = 0.0024607290979474783, lasso = 1.3999006748199463\n",
      "Epoch 2100: rec = 0.001724911737255752, lasso = 1.4638653993606567\n",
      "Epoch 2200: rec = 0.000993958325125277, lasso = 1.500367522239685\n",
      "Epoch 2300: rec = 0.0004468375991564244, lasso = 1.4967530965805054\n",
      "Epoch 2400: rec = 0.0002740970521699637, lasso = 1.4705321788787842\n",
      "Epoch 2500: rec = 0.00018465406901668757, lasso = 1.3988503217697144\n",
      "Epoch 2600: rec = 0.00015496597916353494, lasso = 1.3334577083587646\n",
      "Epoch 2700: rec = 0.00015093669935595244, lasso = 1.2976363897323608\n",
      "Epoch 2800: rec = 0.00011145667667733505, lasso = 1.2200936079025269\n",
      "Epoch 2900: rec = 9.621877688914537e-05, lasso = 1.1425944566726685\n",
      "Epoch 3000: rec = 9.496977145317942e-05, lasso = 1.1120675802230835\n",
      "Epoch 3100: rec = 0.0001086342308553867, lasso = 1.0425987243652344\n",
      "Epoch 3200: rec = 7.894456939538941e-05, lasso = 0.9667266011238098\n",
      "Epoch 3300: rec = 9.254138421965763e-05, lasso = 0.8953915238380432\n",
      "Epoch 3400: rec = 7.953226304380223e-05, lasso = 0.7978482842445374\n",
      "Epoch 3500: rec = 0.00010495330934645608, lasso = 0.6007885336875916\n",
      "Epoch 3600: rec = 6.777524686185643e-05, lasso = 0.48882371187210083\n",
      "Epoch 3700: rec = 5.143201633472927e-05, lasso = 0.36807554960250854\n",
      "Epoch 3800: rec = 3.815942181972787e-05, lasso = 0.3387915790081024\n",
      "Epoch 3900: rec = 3.15001088893041e-05, lasso = 0.3251737356185913\n",
      "Epoch 4000: rec = 2.6159739718423225e-05, lasso = 0.30739277601242065\n",
      "Epoch 4100: rec = 2.2783991880714893e-05, lasso = 0.29850074648857117\n",
      "Epoch 4200: rec = 2.1338591977837496e-05, lasso = 0.29179856181144714\n",
      "Epoch 4300: rec = 1.8546299543231726e-05, lasso = 0.28391000628471375\n",
      "Epoch 4400: rec = 1.6743717424105853e-05, lasso = 0.27730298042297363\n",
      "Epoch 4500: rec = 1.605495526746381e-05, lasso = 0.27367764711380005\n",
      "Epoch 4600: rec = 1.4710554751218297e-05, lasso = 0.26897916197776794\n",
      "Epoch 4700: rec = 1.391420119034592e-05, lasso = 0.2667463421821594\n",
      "Epoch 4800: rec = 1.2973337106814142e-05, lasso = 0.26520270109176636\n",
      "Epoch 4900: rec = 1.2730322850984521e-05, lasso = 0.2606326937675476\n",
      "Epoch 5000: rec = 1.164173136203317e-05, lasso = 0.256462961435318\n",
      "Epoch 5100: rec = 1.159564453701023e-05, lasso = 0.2522282004356384\n",
      "Epoch 5200: rec = 1.1236096725042444e-05, lasso = 0.2518487870693207\n",
      "Epoch 5300: rec = 1.0319071407138836e-05, lasso = 0.24859292805194855\n",
      "Epoch 5400: rec = 1.017865815811092e-05, lasso = 0.24564430117607117\n",
      "Epoch 5500: rec = 9.788081115402747e-06, lasso = 0.24454841017723083\n",
      "Epoch 5600: rec = 8.895567589206621e-06, lasso = 0.24147473275661469\n",
      "Epoch 5700: rec = 8.886232535587624e-06, lasso = 0.23845578730106354\n",
      "Epoch 5800: rec = 9.659001989348326e-06, lasso = 0.23643948137760162\n",
      "Epoch 5900: rec = 9.26114989852067e-06, lasso = 0.2364647388458252\n",
      "Epoch 6000: rec = 8.024162525543943e-06, lasso = 0.23381228744983673\n",
      "Epoch 6100: rec = 7.647266102139838e-06, lasso = 0.2311387062072754\n",
      "Epoch 6200: rec = 7.850544534449e-06, lasso = 0.22867771983146667\n",
      "Epoch 6300: rec = 7.586565516248811e-06, lasso = 0.2270229309797287\n",
      "Epoch 6400: rec = 7.61972978580161e-06, lasso = 0.22645176947116852\n",
      "Epoch 6500: rec = 6.924859917489812e-06, lasso = 0.22424101829528809\n",
      "Epoch 6600: rec = 6.5955277932516765e-06, lasso = 0.22248505055904388\n",
      "Epoch 6700: rec = 6.405120529962005e-06, lasso = 0.21825674176216125\n",
      "Epoch 6800: rec = 6.903912890265929e-06, lasso = 0.21949724853038788\n",
      "Epoch 6900: rec = 7.154340892157052e-06, lasso = 0.21890123188495636\n",
      "Epoch 7000: rec = 7.229037692013662e-06, lasso = 0.21641048789024353\n",
      "Epoch 7100: rec = 6.825778655183967e-06, lasso = 0.21542870998382568\n",
      "Epoch 7200: rec = 6.681849754386349e-06, lasso = 0.2132420688867569\n",
      "Epoch 7300: rec = 6.0613106143136974e-06, lasso = 0.21106672286987305\n",
      "Epoch 7400: rec = 6.148624834168004e-06, lasso = 0.2089345008134842\n",
      "Epoch 7500: rec = 5.779361345048528e-06, lasso = 0.2102729231119156\n",
      "Epoch 7600: rec = 5.685485575668281e-06, lasso = 0.20792891085147858\n",
      "Epoch 7700: rec = 5.321725438989233e-06, lasso = 0.2053993195295334\n",
      "Epoch 7800: rec = 5.809498816233827e-06, lasso = 0.20479248464107513\n",
      "Epoch 7900: rec = 5.064530341769569e-06, lasso = 0.20477429032325745\n",
      "Epoch 8000: rec = 4.8582446652289946e-06, lasso = 0.2024090588092804\n",
      "Epoch 8100: rec = 4.692467882705387e-06, lasso = 0.20162302255630493\n",
      "Epoch 8200: rec = 4.765004177897936e-06, lasso = 0.198782816529274\n",
      "Epoch 8300: rec = 4.568637450574897e-06, lasso = 0.20046250522136688\n",
      "Epoch 8400: rec = 4.152233486820478e-06, lasso = 0.19621992111206055\n",
      "Epoch 8500: rec = 4.142459147260524e-06, lasso = 0.1977735161781311\n",
      "Epoch 8600: rec = 4.549717687041266e-06, lasso = 0.19678333401679993\n",
      "Epoch 8700: rec = 4.396068561618449e-06, lasso = 0.19449807703495026\n",
      "Epoch 8800: rec = 3.914938588422956e-06, lasso = 0.19416813552379608\n",
      "Epoch 8900: rec = 3.90797958971234e-06, lasso = 0.19175095856189728\n",
      "Epoch 9000: rec = 4.512450686888769e-06, lasso = 0.19257523119449615\n",
      "Epoch 9100: rec = 4.4352432269079145e-06, lasso = 0.19318901002407074\n",
      "Epoch 9200: rec = 4.0921800064097624e-06, lasso = 0.19070996344089508\n",
      "Epoch 9300: rec = 5.916976078879088e-06, lasso = 0.18801480531692505\n",
      "Epoch 9400: rec = 4.069112492288696e-06, lasso = 0.18958783149719238\n",
      "Epoch 9500: rec = 3.6612195799534675e-06, lasso = 0.18759651482105255\n",
      "Epoch 9600: rec = 3.817391643679002e-06, lasso = 0.18629208207130432\n",
      "Epoch 9700: rec = 3.842180376523174e-06, lasso = 0.18686406314373016\n",
      "Epoch 9800: rec = 4.032267497677822e-06, lasso = 0.18657560646533966\n",
      "Epoch 9900: rec = 3.952447514166124e-06, lasso = 0.18647173047065735\n",
      "Epoch 10000: rec = 3.660624770418508e-06, lasso = 0.1845158338546753\n",
      "Epoch 10100: rec = 3.6136821108812e-06, lasso = 0.18328097462654114\n",
      "Epoch 10200: rec = 3.233610868846881e-06, lasso = 0.1819349080324173\n",
      "Epoch 10300: rec = 3.1091760774870636e-06, lasso = 0.18128706514835358\n",
      "Epoch 10400: rec = 3.341873252793448e-06, lasso = 0.18119950592517853\n",
      "Epoch 10500: rec = 3.692981181302457e-06, lasso = 0.18074005842208862\n",
      "Epoch 10600: rec = 3.4110128126485506e-06, lasso = 0.1821010261774063\n",
      "Epoch 10700: rec = 3.0711530598637182e-06, lasso = 0.18033522367477417\n",
      "Epoch 10800: rec = 3.6020855986862443e-06, lasso = 0.179670512676239\n",
      "Epoch 10900: rec = 3.3639259982010117e-06, lasso = 0.1788567751646042\n",
      "Epoch 11000: rec = 3.050894520129077e-06, lasso = 0.17725606262683868\n",
      "Epoch 11100: rec = 3.0457713364739902e-06, lasso = 0.1789100170135498\n",
      "Epoch 11200: rec = 3.110007355644484e-06, lasso = 0.17802996933460236\n",
      "Epoch 11300: rec = 3.0814596811978845e-06, lasso = 0.1777181774377823\n",
      "Epoch 11400: rec = 3.155011881972314e-06, lasso = 0.17613261938095093\n",
      "Epoch 11500: rec = 2.820808049364132e-06, lasso = 0.17747299373149872\n",
      "Epoch 11600: rec = 2.691768941076589e-06, lasso = 0.17557360231876373\n",
      "Epoch 11700: rec = 3.604686753533315e-06, lasso = 0.17583292722702026\n",
      "Epoch 11800: rec = 2.4982020931929583e-06, lasso = 0.1723482459783554\n",
      "Epoch 11900: rec = 4.8167976274271496e-06, lasso = 0.17411650717258453\n",
      "Epoch 12000: rec = 3.426292323638336e-06, lasso = 0.17639081180095673\n",
      "Epoch 12100: rec = 2.6111636088899104e-06, lasso = 0.1747700721025467\n",
      "Epoch 12200: rec = 2.721343889788841e-06, lasso = 0.1723170131444931\n",
      "Epoch 12300: rec = 2.929331685663783e-06, lasso = 0.1722419261932373\n",
      "Epoch 12400: rec = 2.921775376307778e-06, lasso = 0.1718413084745407\n",
      "Epoch 12500: rec = 2.7196185783395777e-06, lasso = 0.17212320864200592\n",
      "Epoch 12600: rec = 2.7420085189078236e-06, lasso = 0.17216183245182037\n",
      "Epoch 12700: rec = 2.4972018763946835e-06, lasso = 0.17117464542388916\n",
      "Epoch 12800: rec = 3.4042750485241413e-06, lasso = 0.17210346460342407\n",
      "Epoch 12900: rec = 2.855830416592653e-06, lasso = 0.16998286545276642\n",
      "Epoch 13000: rec = 3.0839116789138643e-06, lasso = 0.17052200436592102\n",
      "Epoch 13100: rec = 2.736642272793688e-06, lasso = 0.16833394765853882\n",
      "Epoch 13200: rec = 3.109789759037085e-06, lasso = 0.17246289551258087\n",
      "Epoch 13300: rec = 2.610434876260115e-06, lasso = 0.169391468167305\n",
      "Epoch 13400: rec = 2.5251547413063236e-06, lasso = 0.16788631677627563\n",
      "Epoch 13500: rec = 2.9934838039480383e-06, lasso = 0.16799160838127136\n",
      "Epoch 13600: rec = 2.904202347053797e-06, lasso = 0.16977502405643463\n",
      "Epoch 13700: rec = 2.702508481888799e-06, lasso = 0.1667802929878235\n",
      "Epoch 13800: rec = 2.7096075427834876e-06, lasso = 0.1678839772939682\n",
      "Epoch 13900: rec = 2.7840681013913127e-06, lasso = 0.16754494607448578\n",
      "Epoch 14000: rec = 2.7870162284671096e-06, lasso = 0.16757182776927948\n",
      "Epoch 14100: rec = 2.4951971226983005e-06, lasso = 0.16699449717998505\n",
      "Epoch 14200: rec = 2.325840341654839e-06, lasso = 0.16646969318389893\n",
      "Epoch 14300: rec = 2.5287426979048178e-06, lasso = 0.16624589264392853\n",
      "Epoch 14400: rec = 2.496995875844732e-06, lasso = 0.16475723683834076\n",
      "Epoch 14500: rec = 2.982166506626527e-06, lasso = 0.16776026785373688\n",
      "Epoch 14600: rec = 2.454542936902726e-06, lasso = 0.16582603752613068\n",
      "Epoch 14700: rec = 2.534564828238217e-06, lasso = 0.16356994211673737\n",
      "Epoch 14800: rec = 2.7182570647710236e-06, lasso = 0.16535678505897522\n",
      "Epoch 14900: rec = 2.732468146859901e-06, lasso = 0.16561244428157806\n",
      "Epoch 15000: rec = 2.5996357635449385e-06, lasso = 0.16586269438266754\n",
      "Epoch 15100: rec = 2.5984465992223704e-06, lasso = 0.16402696073055267\n",
      "Epoch 15200: rec = 2.4334901809197618e-06, lasso = 0.16429555416107178\n",
      "Epoch 15300: rec = 2.609869625302963e-06, lasso = 0.16410744190216064\n",
      "Epoch 15400: rec = 2.518029532438959e-06, lasso = 0.16432256996631622\n",
      "Epoch 15500: rec = 2.51423125519068e-06, lasso = 0.1636042296886444\n",
      "Epoch 15600: rec = 2.353328000026522e-06, lasso = 0.1635410189628601\n",
      "Epoch 15700: rec = 3.1905194646242307e-06, lasso = 0.16442808508872986\n",
      "Epoch 15800: rec = 2.436405566186295e-06, lasso = 0.1631474643945694\n",
      "Epoch 15900: rec = 2.501301423762925e-06, lasso = 0.16284474730491638\n",
      "Epoch 16000: rec = 2.4640498850203585e-06, lasso = 0.16192013025283813\n",
      "Epoch 16100: rec = 2.4525199933123076e-06, lasso = 0.16292482614517212\n",
      "Epoch 16200: rec = 2.895601028285455e-06, lasso = 0.16304516792297363\n",
      "Epoch 16300: rec = 2.3916347799968207e-06, lasso = 0.1608467847108841\n",
      "Epoch 16400: rec = 2.5955569071811624e-06, lasso = 0.16177591681480408\n",
      "Epoch 16500: rec = 2.6338059342378983e-06, lasso = 0.16328734159469604\n",
      "Epoch 16600: rec = 2.4965258944575908e-06, lasso = 0.1619175225496292\n",
      "Epoch 16700: rec = 2.500200025679078e-06, lasso = 0.16106906533241272\n",
      "Epoch 16800: rec = 2.334820692340145e-06, lasso = 0.16102269291877747\n",
      "Epoch 16900: rec = 3.3172607345477445e-06, lasso = 0.16144421696662903\n",
      "Epoch 17000: rec = 2.585894435469527e-06, lasso = 0.16086265444755554\n",
      "Epoch 17100: rec = 2.3115806015994167e-06, lasso = 0.16264304518699646\n",
      "Epoch 17200: rec = 2.2612837256019702e-06, lasso = 0.16037321090698242\n",
      "Epoch 17300: rec = 2.678619011931005e-06, lasso = 0.16007882356643677\n",
      "Epoch 17400: rec = 2.4292035050166305e-06, lasso = 0.16017210483551025\n",
      "Epoch 17500: rec = 2.695628836590913e-06, lasso = 0.1600738763809204\n",
      "Epoch 17600: rec = 2.2765268568036845e-06, lasso = 0.16055846214294434\n",
      "Epoch 17700: rec = 2.4770192794676404e-06, lasso = 0.1604071408510208\n",
      "Epoch 17800: rec = 2.788623532978818e-06, lasso = 0.16077212989330292\n",
      "Epoch 17900: rec = 2.412746425761725e-06, lasso = 0.16014333069324493\n",
      "Epoch 18000: rec = 2.4543671770516085e-06, lasso = 0.1600918024778366\n",
      "Epoch 18100: rec = 2.314098992428626e-06, lasso = 0.1593472808599472\n",
      "Epoch 18200: rec = 2.714672973525012e-06, lasso = 0.159833624958992\n",
      "Epoch 18300: rec = 2.9018049190199235e-06, lasso = 0.1598753184080124\n",
      "Epoch 18400: rec = 2.3658762984268833e-06, lasso = 0.15854236483573914\n",
      "Epoch 18500: rec = 2.3885884274932323e-06, lasso = 0.15948486328125\n",
      "Epoch 18600: rec = 5.720473382098135e-06, lasso = 0.15921269357204437\n",
      "Epoch 18700: rec = 2.099345465467195e-06, lasso = 0.15764912962913513\n",
      "Epoch 18800: rec = 2.695920102269156e-06, lasso = 0.158019557595253\n",
      "Epoch 18900: rec = 2.682600324988016e-06, lasso = 0.1602541208267212\n",
      "Epoch 19000: rec = 2.147743089153664e-06, lasso = 0.15902024507522583\n",
      "Epoch 19100: rec = 2.4002283680601977e-06, lasso = 0.15849041938781738\n",
      "Epoch 19200: rec = 2.318706719961483e-06, lasso = 0.1581631451845169\n",
      "Epoch 19300: rec = 2.392480382695794e-06, lasso = 0.15860101580619812\n",
      "Epoch 19400: rec = 2.3962829800439067e-06, lasso = 0.15869921445846558\n",
      "Epoch 19500: rec = 2.4036037302721525e-06, lasso = 0.1569570004940033\n",
      "Epoch 19600: rec = 2.219221414634376e-06, lasso = 0.1583106815814972\n",
      "Epoch 19700: rec = 2.8957961148989853e-06, lasso = 0.158178448677063\n",
      "Epoch 19800: rec = 2.188985263273935e-06, lasso = 0.1571982204914093\n",
      "Epoch 19900: rec = 2.500690470697009e-06, lasso = 0.15718956291675568\n",
      "Epoch 20000: rec = 2.762025133051793e-06, lasso = 0.15920893847942352\n",
      "Epoch 20100: rec = 2.2753090433980105e-06, lasso = 0.1573282927274704\n",
      "Epoch 20200: rec = 2.69048700829444e-06, lasso = 0.15611319243907928\n",
      "Epoch 20300: rec = 2.7214200599701144e-06, lasso = 0.1568685919046402\n",
      "Epoch 20400: rec = 2.11269593819452e-06, lasso = 0.1568354219198227\n",
      "Epoch 20500: rec = 2.0876609596598428e-06, lasso = 0.15670965611934662\n",
      "Epoch 20600: rec = 2.921561417679186e-06, lasso = 0.15806852281093597\n",
      "Epoch 20700: rec = 2.412116145933396e-06, lasso = 0.15782468020915985\n",
      "Epoch 20800: rec = 2.9359916879911907e-06, lasso = 0.15719953179359436\n",
      "Epoch 20900: rec = 2.0357199446152663e-06, lasso = 0.15576444566249847\n",
      "Epoch 21000: rec = 2.328966502318508e-06, lasso = 0.15716861188411713\n",
      "Epoch 21100: rec = 2.7648761715681758e-06, lasso = 0.15674608945846558\n",
      "Epoch 21200: rec = 2.1197304249653826e-06, lasso = 0.15645374357700348\n",
      "Epoch 21300: rec = 2.192738293160801e-06, lasso = 0.1561117023229599\n",
      "Epoch 21400: rec = 2.162817281714524e-06, lasso = 0.1559264063835144\n",
      "Epoch 21500: rec = 2.406813337074709e-06, lasso = 0.15519626438617706\n",
      "Epoch 21600: rec = 2.2780798190069618e-06, lasso = 0.15613573789596558\n",
      "Epoch 21700: rec = 2.2583224108529976e-06, lasso = 0.15735360980033875\n",
      "Epoch 21800: rec = 1.8910494645751896e-06, lasso = 0.15603329241275787\n",
      "Epoch 21900: rec = 2.327834408788476e-06, lasso = 0.1541520357131958\n",
      "Epoch 22000: rec = 1.9137269191560335e-06, lasso = 0.15525437891483307\n",
      "Epoch 22100: rec = 2.368243031014572e-06, lasso = 0.15724804997444153\n",
      "Epoch 22200: rec = 2.519087729524472e-06, lasso = 0.15452441573143005\n",
      "Epoch 22300: rec = 2.4177688828785904e-06, lasso = 0.15721051394939423\n",
      "Epoch 22400: rec = 3.1401241358253174e-06, lasso = 0.15610083937644958\n",
      "Epoch 22500: rec = 2.097151309499168e-06, lasso = 0.15534335374832153\n",
      "Epoch 22600: rec = 2.3900813630461926e-06, lasso = 0.15508978068828583\n",
      "Epoch 22700: rec = 1.9525746211002115e-06, lasso = 0.1552511751651764\n",
      "Epoch 22800: rec = 2.3003992737358203e-06, lasso = 0.15590770542621613\n",
      "Epoch 22900: rec = 2.121886836903286e-06, lasso = 0.1563793420791626\n",
      "Epoch 23000: rec = 1.887951725620951e-06, lasso = 0.15499907732009888\n",
      "Epoch 23100: rec = 1.998001607717015e-06, lasso = 0.15410229563713074\n",
      "Epoch 23200: rec = 2.03276181309775e-06, lasso = 0.1554548144340515\n",
      "Epoch 23300: rec = 2.2157830699143233e-06, lasso = 0.15570059418678284\n",
      "Epoch 23400: rec = 2.2684544092044234e-06, lasso = 0.15543842315673828\n",
      "Epoch 23500: rec = 1.8767791516438592e-06, lasso = 0.15324436128139496\n",
      "Epoch 23600: rec = 2.2122660539025674e-06, lasso = 0.15586718916893005\n",
      "Epoch 23700: rec = 2.0484628748818068e-06, lasso = 0.15514889359474182\n",
      "Epoch 23800: rec = 2.4583721369708655e-06, lasso = 0.1547195464372635\n",
      "Epoch 23900: rec = 1.960297367986641e-06, lasso = 0.15407687425613403\n",
      "Epoch 24000: rec = 1.9376275304239243e-06, lasso = 0.1548553854227066\n",
      "Epoch 24100: rec = 2.047439011221286e-06, lasso = 0.15480801463127136\n",
      "Epoch 24200: rec = 1.8905043361883145e-06, lasso = 0.15329742431640625\n",
      "Epoch 24300: rec = 2.0049369595653843e-06, lasso = 0.1534411460161209\n",
      "Epoch 24400: rec = 2.1019959604018368e-06, lasso = 0.15586675703525543\n",
      "Epoch 24500: rec = 1.6460489860037342e-06, lasso = 0.15356206893920898\n",
      "Epoch 24600: rec = 2.803132019835175e-06, lasso = 0.15472547709941864\n",
      "Epoch 24700: rec = 1.960619556484744e-06, lasso = 0.15325920283794403\n",
      "Epoch 24800: rec = 2.2037643248040695e-06, lasso = 0.15509498119354248\n",
      "Epoch 24900: rec = 2.271512130391784e-06, lasso = 0.15407414734363556\n",
      "Epoch 25000: rec = 1.8538557924330235e-06, lasso = 0.15312545001506805\n",
      "Epoch 25100: rec = 1.933588691827026e-06, lasso = 0.15453654527664185\n",
      "Epoch 25200: rec = 1.9912315565306926e-06, lasso = 0.15453144907951355\n",
      "Epoch 25300: rec = 1.7058664525393397e-06, lasso = 0.1532265543937683\n",
      "Epoch 25400: rec = 3.439951797190588e-06, lasso = 0.1530969738960266\n",
      "Epoch 25500: rec = 2.59525813817163e-06, lasso = 0.15373840928077698\n",
      "Epoch 25600: rec = 2.1560101686191047e-06, lasso = 0.15349753201007843\n",
      "Epoch 25700: rec = 1.7757188288669568e-06, lasso = 0.15431416034698486\n",
      "Epoch 25800: rec = 2.12027293855499e-06, lasso = 0.15254518389701843\n",
      "Epoch 25900: rec = 1.9011498579857289e-06, lasso = 0.1527949869632721\n",
      "Epoch 26000: rec = 2.04359116651176e-06, lasso = 0.15415827929973602\n",
      "Epoch 26100: rec = 1.8046602008325863e-06, lasso = 0.1533324271440506\n",
      "Epoch 26200: rec = 2.1128316802787594e-06, lasso = 0.15346959233283997\n",
      "Epoch 26300: rec = 1.9275175873190165e-06, lasso = 0.15229755640029907\n",
      "Epoch 26400: rec = 2.1398102489911253e-06, lasso = 0.15323063731193542\n",
      "Epoch 26500: rec = 2.1258560991554987e-06, lasso = 0.1541733741760254\n",
      "Epoch 26600: rec = 2.8615622795769013e-06, lasso = 0.15254859626293182\n",
      "Epoch 26700: rec = 2.0209135982440785e-06, lasso = 0.15287086367607117\n",
      "Epoch 26800: rec = 2.1789319362142123e-06, lasso = 0.15339162945747375\n",
      "Epoch 26900: rec = 1.8594881794342655e-06, lasso = 0.15411986410617828\n",
      "Epoch 27000: rec = 1.585947188686987e-06, lasso = 0.15287676453590393\n",
      "Epoch 27100: rec = 2.031590156548191e-06, lasso = 0.1521759033203125\n",
      "Epoch 27200: rec = 1.7351325141135021e-06, lasso = 0.1515703648328781\n",
      "Epoch 27300: rec = 1.785007384569326e-06, lasso = 0.15178073942661285\n",
      "Epoch 27400: rec = 1.7304964785580523e-06, lasso = 0.1528848558664322\n",
      "Epoch 27500: rec = 2.03761737793684e-06, lasso = 0.15400373935699463\n",
      "Epoch 27600: rec = 1.7531859839436947e-06, lasso = 0.15360549092292786\n",
      "Epoch 27700: rec = 2.0183645119686844e-06, lasso = 0.15165962278842926\n",
      "Epoch 27800: rec = 1.6971656577879912e-06, lasso = 0.15117745101451874\n",
      "Epoch 27900: rec = 2.025499043156742e-06, lasso = 0.1533651351928711\n",
      "Epoch 28000: rec = 2.149504098269972e-06, lasso = 0.15304821729660034\n",
      "Epoch 28100: rec = 1.693888862064341e-06, lasso = 0.15171851217746735\n",
      "Epoch 28200: rec = 1.6792470205473364e-06, lasso = 0.15223385393619537\n",
      "Epoch 28300: rec = 1.7977364450416644e-06, lasso = 0.15145152807235718\n",
      "Epoch 28400: rec = 1.8058602790915756e-06, lasso = 0.15276895463466644\n",
      "Epoch 28500: rec = 2.456104994053021e-06, lasso = 0.15224045515060425\n",
      "Epoch 28600: rec = 2.0616328129108297e-06, lasso = 0.1506965011358261\n",
      "Epoch 28700: rec = 1.7392064819432562e-06, lasso = 0.15211613476276398\n",
      "Epoch 28800: rec = 1.8408665027891402e-06, lasso = 0.15222038328647614\n",
      "Epoch 28900: rec = 1.8073733372148126e-06, lasso = 0.15258914232254028\n",
      "Epoch 29000: rec = 1.9375306692381855e-06, lasso = 0.15245100855827332\n",
      "Epoch 29100: rec = 1.5563124406980933e-06, lasso = 0.15087392926216125\n",
      "Epoch 29200: rec = 2.0493337160587544e-06, lasso = 0.150129497051239\n",
      "Epoch 29300: rec = 1.9811154743365478e-06, lasso = 0.15255115926265717\n",
      "Epoch 29400: rec = 1.9293340756121324e-06, lasso = 0.15278178453445435\n",
      "Epoch 29500: rec = 1.4882800769555615e-06, lasso = 0.15113170444965363\n",
      "Epoch 29600: rec = 1.7252410771106952e-06, lasso = 0.15171900391578674\n",
      "Epoch 29700: rec = 2.1793819087179145e-06, lasso = 0.15262611210346222\n",
      "Epoch 29800: rec = 1.6371476476706448e-06, lasso = 0.15176238119602203\n",
      "Epoch 29900: rec = 1.6462439589304267e-06, lasso = 0.15137232840061188\n",
      "Epoch 30000: rec = 2.1722016754210927e-06, lasso = 0.15097986161708832\n",
      "Epoch 30100: rec = 2.091054057018482e-06, lasso = 0.15236425399780273\n",
      "Epoch 30200: rec = 1.638853746044333e-06, lasso = 0.15130093693733215\n",
      "Epoch 30300: rec = 2.824958755809348e-06, lasso = 0.15109652280807495\n",
      "Epoch 30400: rec = 1.8597042981127743e-06, lasso = 0.15039324760437012\n",
      "Epoch 30500: rec = 1.8044959233520785e-06, lasso = 0.150818333029747\n",
      "Epoch 30600: rec = 2.1557448235398624e-06, lasso = 0.15117147564888\n",
      "Epoch 30700: rec = 2.6353675366408424e-06, lasso = 0.1516953408718109\n",
      "Epoch 30800: rec = 1.6767351098678773e-06, lasso = 0.15153682231903076\n",
      "Epoch 30900: rec = 1.6315993889293168e-06, lasso = 0.15054480731487274\n",
      "Epoch 31000: rec = 1.863529746515269e-06, lasso = 0.15231837332248688\n",
      "Epoch 31100: rec = 1.8581920357974013e-06, lasso = 0.1509024202823639\n",
      "Epoch 31200: rec = 1.7508546079625376e-06, lasso = 0.15192867815494537\n",
      "Epoch 31300: rec = 1.5387691973955953e-06, lasso = 0.14996859431266785\n",
      "Epoch 31400: rec = 2.218293502664892e-06, lasso = 0.15059857070446014\n",
      "Epoch 31500: rec = 2.0035599845869e-06, lasso = 0.15062737464904785\n",
      "Epoch 31600: rec = 1.5806676856300328e-06, lasso = 0.15098488330841064\n",
      "Epoch 31700: rec = 1.7623958683543606e-06, lasso = 0.15174101293087006\n",
      "Epoch 31800: rec = 2.6443362912687007e-06, lasso = 0.1498333066701889\n",
      "Epoch 31900: rec = 1.5769949186505983e-06, lasso = 0.14979857206344604\n",
      "Epoch 32000: rec = 1.81736504600849e-06, lasso = 0.151141956448555\n",
      "Epoch 32100: rec = 1.5934700741127017e-06, lasso = 0.15020741522312164\n",
      "Epoch 32200: rec = 1.540707444291911e-06, lasso = 0.15144912898540497\n",
      "Epoch 32300: rec = 1.50299956658273e-06, lasso = 0.14978885650634766\n",
      "Epoch 32400: rec = 1.6272122138616396e-06, lasso = 0.1491801142692566\n",
      "Epoch 32500: rec = 1.7883612599689513e-06, lasso = 0.14964710175991058\n",
      "Epoch 32600: rec = 1.6711687749193516e-06, lasso = 0.15102791786193848\n",
      "Epoch 32700: rec = 1.5212428934319178e-06, lasso = 0.1491047590970993\n",
      "Epoch 32800: rec = 1.6878157111932524e-06, lasso = 0.15047673881053925\n",
      "Epoch 32900: rec = 1.9593619526858674e-06, lasso = 0.15196579694747925\n",
      "Epoch 33000: rec = 1.3701981060876278e-06, lasso = 0.1496712565422058\n",
      "Epoch 33100: rec = 1.4392606999535928e-06, lasso = 0.14974674582481384\n",
      "Epoch 33200: rec = 1.654669176787138e-06, lasso = 0.14997616410255432\n",
      "Epoch 33300: rec = 1.7612437659408897e-06, lasso = 0.1507568508386612\n",
      "Epoch 33400: rec = 1.7841498447523918e-06, lasso = 0.15021291375160217\n",
      "Epoch 33500: rec = 1.3837271808370133e-06, lasso = 0.14944569766521454\n",
      "Epoch 33600: rec = 1.6214505649259081e-06, lasso = 0.1485496312379837\n",
      "Epoch 33700: rec = 1.7892205050884513e-06, lasso = 0.15163099765777588\n",
      "Epoch 33800: rec = 1.5126584003155585e-06, lasso = 0.14937643706798553\n",
      "Epoch 33900: rec = 2.5294259557995247e-06, lasso = 0.14949403703212738\n",
      "Epoch 34000: rec = 1.4704032764711883e-06, lasso = 0.1498953402042389\n",
      "Epoch 34100: rec = 1.576396357449994e-06, lasso = 0.14911983907222748\n",
      "Epoch 34200: rec = 1.9535000319592655e-06, lasso = 0.15092334151268005\n",
      "Epoch 34300: rec = 1.664420096858521e-06, lasso = 0.15036752820014954\n",
      "Epoch 34400: rec = 1.6399432070102193e-06, lasso = 0.14917747676372528\n",
      "Epoch 34500: rec = 1.6778459439592552e-06, lasso = 0.14862072467803955\n",
      "Epoch 34600: rec = 2.2089850517659215e-06, lasso = 0.14895883202552795\n",
      "Epoch 34700: rec = 1.8527910015109228e-06, lasso = 0.1503017097711563\n",
      "Epoch 34800: rec = 3.6280609947425546e-06, lasso = 0.1511491984128952\n",
      "Epoch 34900: rec = 1.5649500255676685e-06, lasso = 0.14958013594150543\n",
      "Epoch 35000: rec = 1.4378845207829727e-06, lasso = 0.14968647062778473\n",
      "Epoch 35100: rec = 1.3590424714493565e-06, lasso = 0.1481480896472931\n",
      "Epoch 35200: rec = 1.7328536614513723e-06, lasso = 0.14827649295330048\n",
      "Epoch 35300: rec = 1.746212319631013e-06, lasso = 0.15038739144802094\n",
      "Epoch 35400: rec = 1.4956730183257605e-06, lasso = 0.14980676770210266\n",
      "Epoch 35500: rec = 1.4827028280706145e-06, lasso = 0.1498764306306839\n",
      "Epoch 35600: rec = 1.437555624761444e-06, lasso = 0.1494639664888382\n",
      "Epoch 35700: rec = 1.497683683737705e-06, lasso = 0.14962036907672882\n",
      "Epoch 35800: rec = 1.4295927712737466e-06, lasso = 0.14948028326034546\n",
      "Epoch 35900: rec = 1.2967070688318927e-06, lasso = 0.14779487252235413\n",
      "Epoch 36000: rec = 1.733838416839717e-06, lasso = 0.14856238663196564\n",
      "Epoch 36100: rec = 1.7261278344449238e-06, lasso = 0.15106427669525146\n",
      "Epoch 36200: rec = 1.683934215179761e-06, lasso = 0.14908704161643982\n",
      "Epoch 36300: rec = 1.6496613852723385e-06, lasso = 0.14713183045387268\n",
      "Epoch 36400: rec = 1.8903061800301657e-06, lasso = 0.1504887193441391\n",
      "Epoch 36500: rec = 1.459621330468508e-06, lasso = 0.15015548467636108\n",
      "Epoch 36600: rec = 1.5671686242058058e-06, lasso = 0.14866113662719727\n",
      "Epoch 36700: rec = 1.3465688653013785e-06, lasso = 0.14914466440677643\n",
      "Epoch 36800: rec = 1.6175118844330427e-06, lasso = 0.14939598739147186\n",
      "Epoch 36900: rec = 1.290433374379063e-06, lasso = 0.14816172420978546\n",
      "Epoch 37000: rec = 2.691610461624805e-06, lasso = 0.1499020904302597\n",
      "Epoch 37100: rec = 1.5601608538418077e-06, lasso = 0.14884397387504578\n",
      "Epoch 37200: rec = 1.4516436976919067e-06, lasso = 0.14865311980247498\n",
      "Epoch 37300: rec = 1.258306838280987e-06, lasso = 0.1486234962940216\n",
      "Epoch 37400: rec = 1.4878567071718862e-06, lasso = 0.1493658870458603\n",
      "Epoch 37500: rec = 1.4230452052288456e-06, lasso = 0.14824235439300537\n",
      "Epoch 37600: rec = 1.5899345271463972e-06, lasso = 0.14813342690467834\n",
      "Epoch 37700: rec = 1.7033651147357887e-06, lasso = 0.14945967495441437\n",
      "Epoch 37800: rec = 1.6117501218104735e-06, lasso = 0.14955319464206696\n",
      "Epoch 37900: rec = 1.4871395705995383e-06, lasso = 0.14831648766994476\n",
      "Epoch 38000: rec = 1.4365461993293138e-06, lasso = 0.1492096334695816\n",
      "Epoch 38100: rec = 1.4240886230254546e-06, lasso = 0.14816196262836456\n",
      "Epoch 38200: rec = 1.5540808817604557e-06, lasso = 0.14786586165428162\n",
      "Epoch 38300: rec = 1.5982346894816146e-06, lasso = 0.15026681125164032\n",
      "Epoch 38400: rec = 1.8944130033560214e-06, lasso = 0.1487404704093933\n",
      "Epoch 38500: rec = 1.3815284773954772e-06, lasso = 0.14813563227653503\n",
      "Epoch 38600: rec = 1.5585213759550243e-06, lasso = 0.1497509926557541\n",
      "Epoch 38700: rec = 1.7657557691563852e-06, lasso = 0.14856457710266113\n",
      "Epoch 38800: rec = 2.933233417934389e-06, lasso = 0.14761435985565186\n",
      "Epoch 38900: rec = 1.4457722272709361e-06, lasso = 0.14775583148002625\n",
      "Epoch 39000: rec = 1.6045827351263142e-06, lasso = 0.14899180829524994\n",
      "Epoch 39100: rec = 1.6389250276915845e-06, lasso = 0.14952318370342255\n",
      "Epoch 39200: rec = 1.2657737897825427e-06, lasso = 0.1479453444480896\n",
      "Epoch 39300: rec = 1.4176484910422005e-06, lasso = 0.14864273369312286\n",
      "Epoch 39400: rec = 1.7032846244546818e-06, lasso = 0.14735597372055054\n",
      "Epoch 39500: rec = 1.4855364725008258e-06, lasso = 0.1488320529460907\n",
      "Epoch 39600: rec = 1.3291814866533969e-06, lasso = 0.1483103334903717\n",
      "Epoch 39700: rec = 1.5300850009225542e-06, lasso = 0.14834700524806976\n",
      "Epoch 39800: rec = 1.4604974012399907e-06, lasso = 0.14778809249401093\n",
      "Epoch 39900: rec = 1.3718731679546181e-06, lasso = 0.14786335825920105\n",
      "Epoch 40000: rec = 1.3490750916389516e-06, lasso = 0.14934776723384857\n",
      "Epoch 40100: rec = 1.3627053476739093e-06, lasso = 0.14823979139328003\n",
      "Epoch 40200: rec = 1.1083689059887547e-06, lasso = 0.14751429855823517\n",
      "Epoch 40300: rec = 1.5595486502206768e-06, lasso = 0.14851081371307373\n",
      "Epoch 40400: rec = 1.3367566680244636e-06, lasso = 0.14766250550746918\n",
      "Epoch 40500: rec = 1.5369352013294701e-06, lasso = 0.14780978858470917\n",
      "Epoch 40600: rec = 1.5069998653416405e-06, lasso = 0.14885114133358002\n",
      "Epoch 40700: rec = 1.332175315837958e-06, lasso = 0.1489243358373642\n",
      "Epoch 40800: rec = 1.615390260667482e-06, lasso = 0.14838485419750214\n",
      "Epoch 40900: rec = 1.3777206504528294e-06, lasso = 0.14774967730045319\n",
      "Epoch 41000: rec = 1.3273258900881046e-06, lasso = 0.14655278623104095\n",
      "Epoch 41100: rec = 1.3564001619670307e-06, lasso = 0.14840266108512878\n",
      "Epoch 41200: rec = 1.5527949699389865e-06, lasso = 0.14896562695503235\n",
      "Epoch 41300: rec = 1.13701958071033e-06, lasso = 0.14692139625549316\n",
      "Epoch 41400: rec = 1.2921243524033343e-06, lasso = 0.14808247983455658\n",
      "Epoch 41500: rec = 1.359875795969856e-06, lasso = 0.14750388264656067\n",
      "Epoch 41600: rec = 1.6016361996662454e-06, lasso = 0.14865685999393463\n",
      "Epoch 41700: rec = 1.1359767313479097e-06, lasso = 0.14755016565322876\n",
      "Epoch 41800: rec = 2.2087117486080388e-06, lasso = 0.1466851830482483\n",
      "Epoch 41900: rec = 1.283873984903039e-06, lasso = 0.1479576826095581\n",
      "Epoch 42000: rec = 1.3137884025127278e-06, lasso = 0.14874373376369476\n",
      "Epoch 42100: rec = 1.400208361701516e-06, lasso = 0.1484512835741043\n",
      "Epoch 42200: rec = 1.632387920835754e-06, lasso = 0.1472586691379547\n",
      "Epoch 42300: rec = 1.3828788496539346e-06, lasso = 0.14671428501605988\n",
      "Epoch 42400: rec = 1.6872638752829516e-06, lasso = 0.1469535231590271\n",
      "Epoch 42500: rec = 1.3498080306817428e-06, lasso = 0.14838433265686035\n",
      "Epoch 42600: rec = 1.3322379572855425e-06, lasso = 0.14784713089466095\n",
      "Epoch 42700: rec = 1.1442817822171492e-06, lasso = 0.14713126420974731\n",
      "Epoch 42800: rec = 1.0916820656348136e-06, lasso = 0.1466682255268097\n",
      "Epoch 42900: rec = 1.6177450561372098e-06, lasso = 0.14843431115150452\n",
      "Epoch 43000: rec = 1.5501783536819858e-06, lasso = 0.14831751585006714\n",
      "Epoch 43100: rec = 1.144809061770502e-06, lasso = 0.14734505116939545\n",
      "Epoch 43200: rec = 1.4927413758414332e-06, lasso = 0.14675599336624146\n",
      "Epoch 43300: rec = 1.408373123013007e-06, lasso = 0.1473001092672348\n",
      "Epoch 43400: rec = 2.907542466346058e-06, lasso = 0.1479371339082718\n",
      "Epoch 43500: rec = 1.3270087038108613e-06, lasso = 0.14759784936904907\n",
      "Epoch 43600: rec = 1.1462809652584838e-06, lasso = 0.14758659899234772\n",
      "Epoch 43700: rec = 2.4376145120186266e-06, lasso = 0.14654725790023804\n",
      "Epoch 43800: rec = 1.2533920425994438e-06, lasso = 0.1468808948993683\n",
      "Epoch 43900: rec = 1.667429842200363e-06, lasso = 0.1487462967634201\n",
      "Epoch 44000: rec = 1.7304538459939067e-06, lasso = 0.14881160855293274\n",
      "Epoch 44100: rec = 1.4547098317052587e-06, lasso = 0.1465076357126236\n",
      "Epoch 44200: rec = 1.1812797993115964e-06, lasso = 0.14484040439128876\n",
      "Epoch 44300: rec = 1.643353357394517e-06, lasso = 0.14743413031101227\n",
      "Epoch 44400: rec = 1.3731146282225382e-06, lasso = 0.14936789870262146\n",
      "Epoch 44500: rec = 1.1036244131901185e-06, lasso = 0.1475726068019867\n",
      "Epoch 44600: rec = 1.3669603049493162e-06, lasso = 0.14637894928455353\n",
      "Epoch 44700: rec = 1.766385594237363e-06, lasso = 0.14488212764263153\n",
      "Epoch 44800: rec = 1.6719488939997973e-06, lasso = 0.14837153255939484\n",
      "Epoch 44900: rec = 1.4767551874683704e-06, lasso = 0.14829982817173004\n",
      "Epoch 45000: rec = 1.3251060408947524e-06, lasso = 0.14708086848258972\n",
      "Epoch 45100: rec = 1.4317294017018867e-06, lasso = 0.14750231802463531\n",
      "Epoch 45200: rec = 1.1850785313072265e-06, lasso = 0.14600017666816711\n",
      "Epoch 45300: rec = 1.490436943640816e-06, lasso = 0.1482452154159546\n",
      "Epoch 45400: rec = 1.2640044815270812e-06, lasso = 0.14698681235313416\n",
      "Epoch 45500: rec = 1.7251759345526807e-06, lasso = 0.14708276093006134\n",
      "Epoch 45600: rec = 1.376643922412768e-06, lasso = 0.1468198150396347\n",
      "Epoch 45700: rec = 1.20678748771752e-06, lasso = 0.14706528186798096\n",
      "Epoch 45800: rec = 1.3644486216435325e-06, lasso = 0.14598019421100616\n",
      "Epoch 45900: rec = 1.378372644467163e-06, lasso = 0.14719834923744202\n",
      "Epoch 46000: rec = 1.9258350221207365e-06, lasso = 0.14738163352012634\n",
      "Epoch 46100: rec = 1.1956534535784158e-06, lasso = 0.14707700908184052\n",
      "Epoch 46200: rec = 1.1772388006647816e-06, lasso = 0.14582879841327667\n",
      "Epoch 46300: rec = 1.5139299875954748e-06, lasso = 0.14796502888202667\n",
      "Epoch 46400: rec = 1.1573438314371742e-06, lasso = 0.1477595716714859\n",
      "Epoch 46500: rec = 1.5901836150078452e-06, lasso = 0.14715462923049927\n",
      "Epoch 46600: rec = 1.440277515030175e-06, lasso = 0.14661850035190582\n",
      "Epoch 46700: rec = 1.279878347304475e-06, lasso = 0.14541693031787872\n",
      "Epoch 46800: rec = 1.534155785520852e-06, lasso = 0.14761829376220703\n",
      "Epoch 46900: rec = 1.3207817346483353e-06, lasso = 0.1478540152311325\n",
      "Epoch 47000: rec = 1.2952330052939942e-06, lasso = 0.14663735032081604\n",
      "Epoch 47100: rec = 1.293183800044062e-06, lasso = 0.1469622105360031\n",
      "Epoch 47200: rec = 1.2381096894387156e-06, lasso = 0.14688459038734436\n",
      "Epoch 47300: rec = 1.2955645161127904e-06, lasso = 0.1465175449848175\n",
      "Epoch 47400: rec = 1.2214055686854408e-06, lasso = 0.145926371216774\n",
      "Epoch 47500: rec = 1.3129958915669704e-06, lasso = 0.1455160528421402\n",
      "Epoch 47600: rec = 1.5170705864875345e-06, lasso = 0.1459856629371643\n",
      "Epoch 47700: rec = 1.318562681262847e-06, lasso = 0.14759665727615356\n",
      "Epoch 47800: rec = 1.4769747167520109e-06, lasso = 0.14757204055786133\n",
      "Epoch 47900: rec = 1.4837457911198726e-06, lasso = 0.14575865864753723\n",
      "Epoch 48000: rec = 1.0497932407815824e-06, lasso = 0.14568166434764862\n",
      "Epoch 48100: rec = 1.3381792314248742e-06, lasso = 0.14686645567417145\n",
      "Epoch 48200: rec = 1.2426309012880665e-06, lasso = 0.14723341166973114\n",
      "Epoch 48300: rec = 1.4651543551735813e-06, lasso = 0.1467806100845337\n",
      "Epoch 48400: rec = 1.4213838994692196e-06, lasso = 0.14605462551116943\n",
      "Epoch 48500: rec = 1.3972289707453456e-06, lasso = 0.14689239859580994\n",
      "Epoch 48600: rec = 1.1865241731356946e-06, lasso = 0.14671564102172852\n",
      "Epoch 48700: rec = 1.541518940939568e-06, lasso = 0.14542900025844574\n",
      "Epoch 48800: rec = 1.5570531104458496e-06, lasso = 0.1455824375152588\n",
      "Epoch 48900: rec = 1.3503472473530564e-06, lasso = 0.14653760194778442\n",
      "Epoch 49000: rec = 1.355986341877724e-06, lasso = 0.14785660803318024\n",
      "Epoch 49100: rec = 1.279399725717667e-06, lasso = 0.14748243987560272\n",
      "Epoch 49200: rec = 1.469642597839993e-06, lasso = 0.14543820917606354\n",
      "Epoch 49300: rec = 1.238682443727157e-06, lasso = 0.14470896124839783\n",
      "Epoch 49400: rec = 1.1533330734891933e-06, lasso = 0.1468055695295334\n",
      "Epoch 49500: rec = 1.3101249578539864e-06, lasso = 0.14688007533550262\n",
      "Epoch 49600: rec = 1.1932936558878282e-06, lasso = 0.14667654037475586\n",
      "Epoch 49700: rec = 1.3098195950078662e-06, lasso = 0.1475462019443512\n",
      "Epoch 49800: rec = 1.082416133613151e-06, lasso = 0.1456356942653656\n",
      "Epoch 49900: rec = 1.7493906625531963e-06, lasso = 0.1447349488735199\n"
     ]
    }
   ],
   "source": [
    "opt = torch.optim.Adam(list(encoder.parameters()) + list(decoder.parameters()), lr=1e-4)\n",
    "\n",
    "for i in range(50000):\n",
    "    opt.zero_grad()\n",
    "    z = encoder(data)\n",
    "    rec_loss = F.mse_loss(decoder(z), data) \n",
    "    lasso_loss = torch.exp(torch.log(z.std(0)+1e-2).mean()) # torch.norm(z.std(0), p=1)\n",
    "    # torch.abs(z.T.cov().tril(diagonal=-1)).mean()\n",
    "    loss = rec_loss + 0.001 * lasso_loss\n",
    "    loss.backward()\n",
    "    opt.step()\n",
    "\n",
    "    if i % 100 == 0:\n",
    "        print('Epoch {}: rec = {}, lasso = {}'.format(i, rec_loss, lasso_loss))"
   ]
  },
  {
   "cell_type": "code",
   "execution_count": 39,
   "metadata": {},
   "outputs": [
    {
     "data": {
      "image/png": "[encoded data removed]",
      "text/plain": [
       "<Figure size 432x288 with 1 Axes>"
      ]
     },
     "metadata": {
      "needs_background": "light"
     },
     "output_type": "display_data"
    },
    {
     "data": {
      "image/png": "[encoded data removed]",
      "text/plain": [
       "<Figure size 432x288 with 1 Axes>"
      ]
     },
     "metadata": {
      "needs_background": "light"
     },
     "output_type": "display_data"
    },
    {
     "data": {
      "image/png": "[encoded data removed]",
      "text/plain": [
       "<Figure size 432x288 with 1 Axes>"
      ]
     },
     "metadata": {
      "needs_background": "light"
     },
     "output_type": "display_data"
    }
   ],
   "source": [
    "encoder.eval()\n",
    "decoder.eval()\n",
    "\n",
    "z = encoder(data)\n",
    "\n",
    "plt.scatter(z[:,0].detach().numpy(), z[:,1].detach().numpy())\n",
    "plt.gca().set_aspect('equal')\n",
    "plt.show()\n",
    "\n",
    "plt.scatter(z[:,0].detach().numpy(), z[:,2].detach().numpy())\n",
    "plt.gca().set_aspect('equal')\n",
    "plt.show()\n",
    "\n",
    "plt.scatter(z[:,1].detach().numpy(), z[:,2].detach().numpy())\n",
    "plt.gca().set_aspect('equal')\n",
    "plt.show()"
   ]
  },
  {
   "cell_type": "code",
   "execution_count": 40,
   "metadata": {},
   "outputs": [
    {
     "data": {
      "text/plain": [
       "tensor([1.0230e+00, 2.2277e-04, 4.4880e+00], grad_fn=<SubBackward0>)"
      ]
     },
     "execution_count": 40,
     "metadata": {},
     "output_type": "execute_result"
    }
   ],
   "source": [
    "z.max(0)[0] - z.min(0)[0]"
   ]
  },
  {
   "cell_type": "code",
   "execution_count": 41,
   "metadata": {},
   "outputs": [
    {
     "data": {
      "text/plain": [
       "tensor([[ 9.4486e-02,  5.0392e-06, -6.1104e-03],\n",
       "        [ 5.0392e-06,  1.7176e-09, -1.2787e-05],\n",
       "        [-6.1104e-03, -1.2787e-05,  9.5633e-01]], grad_fn=<SqueezeBackward0>)"
      ]
     },
     "execution_count": 41,
     "metadata": {},
     "output_type": "execute_result"
    }
   ],
   "source": [
    "z.T.cov()"
   ]
  },
  {
   "cell_type": "code",
   "execution_count": 42,
   "metadata": {},
   "outputs": [
    {
     "data": {
      "image/png": "[encoded data removed]",
      "text/plain": [
       "<Figure size 432x288 with 1 Axes>"
      ]
     },
     "metadata": {
      "needs_background": "light"
     },
     "output_type": "display_data"
    }
   ],
   "source": [
    "rec = decoder(z).detach().numpy()\n",
    "\n",
    "fig = plt.figure()\n",
    "ax = fig.add_subplot(projection='3d')\n",
    "ax.scatter(XY[:,0].numpy(), XY[:,1].numpy(), Z.numpy())\n",
    "ax.scatter(rec[:, 0], rec[:, 1], rec[:, 2])\n",
    "fig.show()"
   ]
  },
  {
   "cell_type": "code",
   "execution_count": 44,
   "metadata": {},
   "outputs": [
    {
     "data": {
      "image/png": "[encoded data removed]",
      "text/plain": [
       "<Figure size 432x288 with 1 Axes>"
      ]
     },
     "metadata": {
      "needs_background": "light"
     },
     "output_type": "display_data"
    }
   ],
   "source": [
    "def f(x):\n",
    "    return encoder(x).sum(0)\n",
    "\n",
    "jcb = torch.autograd.functional.jacobian(f, data).transpose(1,0)\n",
    "eig_list = torch.stack([svd(j[[0, 2]])[1] for j in jcb])\n",
    "plt.hist(eig_list.numpy(), bins=30)\n",
    "plt.title('Distribution of Singular Values')\n",
    "plt.show()"
   ]
  },
  {
   "cell_type": "code",
   "execution_count": 101,
   "metadata": {},
   "outputs": [
    {
     "data": {
      "image/png": "[encoded data removed]",
      "text/plain": [
       "<Figure size 432x288 with 1 Axes>"
      ]
     },
     "metadata": {
      "needs_background": "light"
     },
     "output_type": "display_data"
    }
   ],
   "source": [
    "encoder = MLP(3, 3, [128]*4)\n",
    "decoder = SNMLP(3, 3, [128]*4)\n",
    "encoder.train()\n",
    "decoder.train()\n",
    "\n",
    "XY = torch.rand(100, 2)\n",
    "X = XY[:, 0] - 0.5\n",
    "Z = 10 * (X-0.3) * X * (X+0.3) + torch.randn(len(X))/10\n",
    "data = torch.stack([XY[:,0], XY[:,1], Z], dim=-1)\n",
    "\n",
    "fig = plt.figure()\n",
    "ax = fig.add_subplot(projection='3d')\n",
    "ax.scatter(XY[:,0].numpy(), XY[:,1].numpy(), Z.numpy())\n",
    "fig.show()"
   ]
  },
  {
   "cell_type": "code",
   "execution_count": 102,
   "metadata": {},
   "outputs": [
    {
     "name": "stdout",
     "output_type": "stream",
     "text": [
      "Epoch 0: rec = 0.283099502325058, lasso = 1.0033305883407593\n",
      "Epoch 100: rec = 0.08088672161102295, lasso = 1.0235631465911865\n",
      "Epoch 200: rec = 0.056914132088422775, lasso = 1.4831210374832153\n",
      "Epoch 300: rec = 0.03180455043911934, lasso = 1.5278148651123047\n",
      "Epoch 400: rec = 0.02942732721567154, lasso = 1.4649685621261597\n",
      "Epoch 500: rec = 0.026777897030115128, lasso = 1.4868236780166626\n",
      "Epoch 600: rec = 0.02409227192401886, lasso = 1.4949626922607422\n",
      "Epoch 700: rec = 0.022061387076973915, lasso = 1.4904077053070068\n",
      "Epoch 800: rec = 0.019718535244464874, lasso = 1.5011354684829712\n",
      "Epoch 900: rec = 0.01392630860209465, lasso = 1.628039002418518\n",
      "Epoch 1000: rec = 0.0037605385296046734, lasso = 1.6921484470367432\n",
      "Epoch 1100: rec = 0.002703274367377162, lasso = 1.620352029800415\n",
      "Epoch 1200: rec = 0.0023204416502267122, lasso = 1.6018160581588745\n",
      "Epoch 1300: rec = 0.002043064683675766, lasso = 1.5486931800842285\n",
      "Epoch 1400: rec = 0.0019525683019310236, lasso = 1.5241847038269043\n",
      "Epoch 1500: rec = 0.0018637992907315493, lasso = 1.5193194150924683\n",
      "Epoch 1600: rec = 0.001764560118317604, lasso = 1.4900654554367065\n",
      "Epoch 1700: rec = 0.0017363023944199085, lasso = 1.4690897464752197\n",
      "Epoch 1800: rec = 0.0016619989182800055, lasso = 1.487999677658081\n",
      "Epoch 1900: rec = 0.001587099046446383, lasso = 1.4587196111679077\n",
      "Epoch 2000: rec = 0.0014988250331953168, lasso = 1.4605852365493774\n",
      "Epoch 2100: rec = 0.0014391869772225618, lasso = 1.428910732269287\n",
      "Epoch 2200: rec = 0.0013613561168313026, lasso = 1.4544248580932617\n",
      "Epoch 2300: rec = 0.0014026584103703499, lasso = 1.423759937286377\n",
      "Epoch 2400: rec = 0.0013540196232497692, lasso = 1.4373811483383179\n",
      "Epoch 2500: rec = 0.001338384230621159, lasso = 1.4273799657821655\n",
      "Epoch 2600: rec = 0.0012572366977110505, lasso = 1.4323375225067139\n",
      "Epoch 2700: rec = 0.001304080244153738, lasso = 1.4271470308303833\n",
      "Epoch 2800: rec = 0.0012202335055917501, lasso = 1.4066587686538696\n",
      "Epoch 2900: rec = 0.0012414398370310664, lasso = 1.4264354705810547\n",
      "Epoch 3000: rec = 0.0012682490050792694, lasso = 1.433976173400879\n",
      "Epoch 3100: rec = 0.0012554104905575514, lasso = 1.4148961305618286\n",
      "Epoch 3200: rec = 0.0011701032053679228, lasso = 1.4338891506195068\n",
      "Epoch 3300: rec = 0.0011647315695881844, lasso = 1.4061027765274048\n",
      "Epoch 3400: rec = 0.0011517854873090982, lasso = 1.4049073457717896\n",
      "Epoch 3500: rec = 0.0011101453565061092, lasso = 1.4237337112426758\n",
      "Epoch 3600: rec = 0.0012108433293178678, lasso = 1.417140007019043\n",
      "Epoch 3700: rec = 0.0011318828910589218, lasso = 1.406728982925415\n",
      "Epoch 3800: rec = 0.0011244495399296284, lasso = 1.3953332901000977\n",
      "Epoch 3900: rec = 0.0011407999554648995, lasso = 1.408515214920044\n",
      "Epoch 4000: rec = 0.001151494332589209, lasso = 1.3984551429748535\n",
      "Epoch 4100: rec = 0.0011095685185864568, lasso = 1.401832938194275\n",
      "Epoch 4200: rec = 0.0011128586484119296, lasso = 1.430391788482666\n",
      "Epoch 4300: rec = 0.0010646100854501128, lasso = 1.3895303010940552\n",
      "Epoch 4400: rec = 0.0011102438438683748, lasso = 1.388830542564392\n",
      "Epoch 4500: rec = 0.0010956664336845279, lasso = 1.3968827724456787\n",
      "Epoch 4600: rec = 0.0010943610686808825, lasso = 1.3962821960449219\n",
      "Epoch 4700: rec = 0.0010929832933470607, lasso = 1.4129431247711182\n",
      "Epoch 4800: rec = 0.0011537297395989299, lasso = 1.3988802433013916\n",
      "Epoch 4900: rec = 0.0010866704396903515, lasso = 1.3849369287490845\n",
      "Epoch 5000: rec = 0.0010323681635782123, lasso = 1.3781729936599731\n",
      "Epoch 5100: rec = 0.001044049859046936, lasso = 1.3959382772445679\n",
      "Epoch 5200: rec = 0.0010476956376805902, lasso = 1.3835190534591675\n",
      "Epoch 5300: rec = 0.0011413674801588058, lasso = 1.3928943872451782\n",
      "Epoch 5400: rec = 0.0010472530266270041, lasso = 1.4022737741470337\n",
      "Epoch 5500: rec = 0.0010141361271962523, lasso = 1.3687838315963745\n",
      "Epoch 5600: rec = 0.0010149163426831365, lasso = 1.3830697536468506\n",
      "Epoch 5700: rec = 0.0010730554349720478, lasso = 1.3787933588027954\n",
      "Epoch 5800: rec = 0.0010231782216578722, lasso = 1.3936030864715576\n",
      "Epoch 5900: rec = 0.0010504312813282013, lasso = 1.3724850416183472\n",
      "Epoch 6000: rec = 0.001015307498164475, lasso = 1.381826400756836\n",
      "Epoch 6100: rec = 0.00101054972037673, lasso = 1.4003148078918457\n",
      "Epoch 6200: rec = 0.00106058269739151, lasso = 1.387033224105835\n",
      "Epoch 6300: rec = 0.0010033455910161138, lasso = 1.3802008628845215\n",
      "Epoch 6400: rec = 0.0010161139070987701, lasso = 1.3948724269866943\n",
      "Epoch 6500: rec = 0.0009355255751870573, lasso = 1.3801538944244385\n",
      "Epoch 6600: rec = 0.0010164835257455707, lasso = 1.3657029867172241\n",
      "Epoch 6700: rec = 0.0010375098790973425, lasso = 1.3876019716262817\n",
      "Epoch 6800: rec = 0.001079011708498001, lasso = 1.3929176330566406\n",
      "Epoch 6900: rec = 0.001023857737891376, lasso = 1.3778544664382935\n",
      "Epoch 7000: rec = 0.000994112342596054, lasso = 1.3876562118530273\n",
      "Epoch 7100: rec = 0.0011218215804547071, lasso = 1.3828036785125732\n",
      "Epoch 7200: rec = 0.0009520201128907502, lasso = 1.3802484273910522\n",
      "Epoch 7300: rec = 0.0010421746410429478, lasso = 1.3841441869735718\n",
      "Epoch 7400: rec = 0.0009548640227876604, lasso = 1.3734018802642822\n",
      "Epoch 7500: rec = 0.0010496870381757617, lasso = 1.376372218132019\n",
      "Epoch 7600: rec = 0.0009930249070748687, lasso = 1.360172986984253\n",
      "Epoch 7700: rec = 0.0010700591374188662, lasso = 1.3809465169906616\n",
      "Epoch 7800: rec = 0.0010393630946055055, lasso = 1.3808857202529907\n",
      "Epoch 7900: rec = 0.0009991262340918183, lasso = 1.3743970394134521\n",
      "Epoch 8000: rec = 0.000960551027674228, lasso = 1.370115041732788\n",
      "Epoch 8100: rec = 0.001006121514365077, lasso = 1.3660061359405518\n",
      "Epoch 8200: rec = 0.001016381080262363, lasso = 1.393833041191101\n",
      "Epoch 8300: rec = 0.0009616371826268733, lasso = 1.3763259649276733\n",
      "Epoch 8400: rec = 0.0009255615877918899, lasso = 1.370810627937317\n",
      "Epoch 8500: rec = 0.0009453887469135225, lasso = 1.3738360404968262\n",
      "Epoch 8600: rec = 0.0010386551730334759, lasso = 1.3717588186264038\n",
      "Epoch 8700: rec = 0.001003675744868815, lasso = 1.3698810338974\n",
      "Epoch 8800: rec = 0.0009651511791162193, lasso = 1.3791273832321167\n",
      "Epoch 8900: rec = 0.0009628640837036073, lasso = 1.3862510919570923\n",
      "Epoch 9000: rec = 0.0009496899438090622, lasso = 1.3757226467132568\n",
      "Epoch 9100: rec = 0.0009759686654433608, lasso = 1.381758689880371\n",
      "Epoch 9200: rec = 0.0009376600501127541, lasso = 1.392142653465271\n",
      "Epoch 9300: rec = 0.0009418616537004709, lasso = 1.3791011571884155\n",
      "Epoch 9400: rec = 0.001008476479910314, lasso = 1.3826478719711304\n",
      "Epoch 9500: rec = 0.0009265699773095548, lasso = 1.3692538738250732\n",
      "Epoch 9600: rec = 0.0009781711269170046, lasso = 1.3824149370193481\n",
      "Epoch 9700: rec = 0.0009672616724856198, lasso = 1.3789515495300293\n",
      "Epoch 9800: rec = 0.0009922005701810122, lasso = 1.4066370725631714\n",
      "Epoch 9900: rec = 0.0009576177690178156, lasso = 1.3822416067123413\n",
      "Epoch 10000: rec = 0.0010011466220021248, lasso = 1.3835183382034302\n",
      "Epoch 10100: rec = 0.0010207972954958677, lasso = 1.3733500242233276\n",
      "Epoch 10200: rec = 0.0009420404094271362, lasso = 1.3759385347366333\n",
      "Epoch 10300: rec = 0.0009247249108739197, lasso = 1.3775391578674316\n",
      "Epoch 10400: rec = 0.0010293982923030853, lasso = 1.3922189474105835\n",
      "Epoch 10500: rec = 0.0009391760104335845, lasso = 1.3717979192733765\n",
      "Epoch 10600: rec = 0.0009749570745043457, lasso = 1.3854622840881348\n",
      "Epoch 10700: rec = 0.0009397511603310704, lasso = 1.3762578964233398\n",
      "Epoch 10800: rec = 0.0009667402482591569, lasso = 1.3828479051589966\n",
      "Epoch 10900: rec = 0.000921808066777885, lasso = 1.3747731447219849\n",
      "Epoch 11000: rec = 0.0010101523948833346, lasso = 1.377917766571045\n",
      "Epoch 11100: rec = 0.0009513541008345783, lasso = 1.3726394176483154\n",
      "Epoch 11200: rec = 0.0009360203985124826, lasso = 1.3784656524658203\n",
      "Epoch 11300: rec = 0.0009715536143630743, lasso = 1.3723453283309937\n",
      "Epoch 11400: rec = 0.0009626065730117261, lasso = 1.3789557218551636\n",
      "Epoch 11500: rec = 0.001027059624902904, lasso = 1.3788731098175049\n",
      "Epoch 11600: rec = 0.0009365133591927588, lasso = 1.3541696071624756\n",
      "Epoch 11700: rec = 0.0009941835887730122, lasso = 1.3917595148086548\n",
      "Epoch 11800: rec = 0.0009160001063719392, lasso = 1.3600082397460938\n",
      "Epoch 11900: rec = 0.000990473199635744, lasso = 1.372586965560913\n",
      "Epoch 12000: rec = 0.0009657045011408627, lasso = 1.3659805059432983\n",
      "Epoch 12100: rec = 0.0009382406715303659, lasso = 1.3778667449951172\n",
      "Epoch 12200: rec = 0.0010578710353001952, lasso = 1.3905519247055054\n",
      "Epoch 12300: rec = 0.000968172971624881, lasso = 1.3927032947540283\n",
      "Epoch 12400: rec = 0.0009338092058897018, lasso = 1.3615890741348267\n",
      "Epoch 12500: rec = 0.000984621001407504, lasso = 1.367939829826355\n",
      "Epoch 12600: rec = 0.000947352556977421, lasso = 1.3955436944961548\n",
      "Epoch 12700: rec = 0.0010034822626039386, lasso = 1.3747506141662598\n",
      "Epoch 12800: rec = 0.000884578621480614, lasso = 1.3697423934936523\n",
      "Epoch 12900: rec = 0.0009502057218924165, lasso = 1.3722971677780151\n",
      "Epoch 13000: rec = 0.0009631889988668263, lasso = 1.3586673736572266\n",
      "Epoch 13100: rec = 0.0009132802370004356, lasso = 1.380854606628418\n",
      "Epoch 13200: rec = 0.0008831176091916859, lasso = 1.3688873052597046\n",
      "Epoch 13300: rec = 0.0009863781742751598, lasso = 1.365782618522644\n",
      "Epoch 13400: rec = 0.0009008736233226955, lasso = 1.3740758895874023\n",
      "Epoch 13500: rec = 0.0009607114479877055, lasso = 1.3818635940551758\n",
      "Epoch 13600: rec = 0.0010274458909407258, lasso = 1.3853644132614136\n",
      "Epoch 13700: rec = 0.0008802528027445078, lasso = 1.3733481168746948\n",
      "Epoch 13800: rec = 0.0009686359553597867, lasso = 1.3646446466445923\n",
      "Epoch 13900: rec = 0.0008830481674522161, lasso = 1.368067979812622\n",
      "Epoch 14000: rec = 0.0009166669915430248, lasso = 1.379151701927185\n",
      "Epoch 14100: rec = 0.0009161254856735468, lasso = 1.3558006286621094\n",
      "Epoch 14200: rec = 0.0009299492812715471, lasso = 1.3729709386825562\n",
      "Epoch 14300: rec = 0.0009576134034432471, lasso = 1.3702656030654907\n",
      "Epoch 14400: rec = 0.0009034883114509284, lasso = 1.3694254159927368\n",
      "Epoch 14500: rec = 0.0010163075057789683, lasso = 1.3813520669937134\n",
      "Epoch 14600: rec = 0.0009248224087059498, lasso = 1.3810608386993408\n",
      "Epoch 14700: rec = 0.0010411578696221113, lasso = 1.364457130432129\n",
      "Epoch 14800: rec = 0.0009691674495115876, lasso = 1.3822031021118164\n",
      "Epoch 14900: rec = 0.0009476871346123517, lasso = 1.3901894092559814\n",
      "Epoch 15000: rec = 0.0009036353440023959, lasso = 1.3580905199050903\n",
      "Epoch 15100: rec = 0.0009293598122894764, lasso = 1.3802469968795776\n",
      "Epoch 15200: rec = 0.000952395610511303, lasso = 1.3742610216140747\n",
      "Epoch 15300: rec = 0.000986185041256249, lasso = 1.3699828386306763\n",
      "Epoch 15400: rec = 0.0009549037786200643, lasso = 1.36228346824646\n",
      "Epoch 15500: rec = 0.0009693885804153979, lasso = 1.3662915229797363\n",
      "Epoch 15600: rec = 0.0009150307159870863, lasso = 1.3643276691436768\n",
      "Epoch 15700: rec = 0.0009338850504718721, lasso = 1.3850135803222656\n",
      "Epoch 15800: rec = 0.0010060748318210244, lasso = 1.3796087503433228\n",
      "Epoch 15900: rec = 0.0009402041905559599, lasso = 1.3599151372909546\n",
      "Epoch 16000: rec = 0.0009889132343232632, lasso = 1.3722642660140991\n",
      "Epoch 16100: rec = 0.0008962588617578149, lasso = 1.372446894645691\n",
      "Epoch 16200: rec = 0.0009319920209236443, lasso = 1.3622963428497314\n",
      "Epoch 16300: rec = 0.0009312194306403399, lasso = 1.3744741678237915\n",
      "Epoch 16400: rec = 0.0009276751661673188, lasso = 1.365817904472351\n",
      "Epoch 16500: rec = 0.0008945530862547457, lasso = 1.3668437004089355\n",
      "Epoch 16600: rec = 0.0008836127235554159, lasso = 1.3589794635772705\n",
      "Epoch 16700: rec = 0.0009058249997906387, lasso = 1.358107566833496\n",
      "Epoch 16800: rec = 0.0009713490726426244, lasso = 1.3757517337799072\n",
      "Epoch 16900: rec = 0.0009263183455914259, lasso = 1.3608216047286987\n",
      "Epoch 17000: rec = 0.0009459347347728908, lasso = 1.3724582195281982\n",
      "Epoch 17100: rec = 0.0009061635355465114, lasso = 1.3693413734436035\n",
      "Epoch 17200: rec = 0.0009591077687218785, lasso = 1.3759520053863525\n",
      "Epoch 17300: rec = 0.0009161728667095304, lasso = 1.3782902956008911\n",
      "Epoch 17400: rec = 0.000976606854237616, lasso = 1.3771650791168213\n",
      "Epoch 17500: rec = 0.0009434946114197373, lasso = 1.3789979219436646\n",
      "Epoch 17600: rec = 0.0009690060978755355, lasso = 1.3776317834854126\n",
      "Epoch 17700: rec = 0.0008625178597867489, lasso = 1.3477505445480347\n",
      "Epoch 17800: rec = 0.0009005586034618318, lasso = 1.3833316564559937\n",
      "Epoch 17900: rec = 0.0008643324254080653, lasso = 1.3576016426086426\n",
      "Epoch 18000: rec = 0.0009295487543568015, lasso = 1.355316400527954\n",
      "Epoch 18100: rec = 0.0009370859479531646, lasso = 1.3816955089569092\n",
      "Epoch 18200: rec = 0.0009215553873218596, lasso = 1.379621148109436\n",
      "Epoch 18300: rec = 0.0009036220144480467, lasso = 1.3697227239608765\n",
      "Epoch 18400: rec = 0.000936483615078032, lasso = 1.3580379486083984\n",
      "Epoch 18500: rec = 0.000887832255102694, lasso = 1.3900926113128662\n",
      "Epoch 18600: rec = 0.0009151435806415975, lasso = 1.376216173171997\n",
      "Epoch 18700: rec = 0.000880393257830292, lasso = 1.353074312210083\n",
      "Epoch 18800: rec = 0.0009357052040286362, lasso = 1.3594062328338623\n",
      "Epoch 18900: rec = 0.0008692736155353487, lasso = 1.377180814743042\n",
      "Epoch 19000: rec = 0.0009618645999580622, lasso = 1.3734936714172363\n",
      "Epoch 19100: rec = 0.0009432866936549544, lasso = 1.3708515167236328\n",
      "Epoch 19200: rec = 0.0009097564034163952, lasso = 1.3612130880355835\n",
      "Epoch 19300: rec = 0.000908377580344677, lasso = 1.3614822626113892\n",
      "Epoch 19400: rec = 0.0011122740106657147, lasso = 1.4004385471343994\n",
      "Epoch 19500: rec = 0.0009120522881858051, lasso = 1.3677881956100464\n",
      "Epoch 19600: rec = 0.000843518297187984, lasso = 1.3668556213378906\n",
      "Epoch 19700: rec = 0.000885136250872165, lasso = 1.3646645545959473\n",
      "Epoch 19800: rec = 0.0008844683761708438, lasso = 1.3647677898406982\n",
      "Epoch 19900: rec = 0.0009379253024235368, lasso = 1.3696465492248535\n",
      "Epoch 20000: rec = 0.0008858809596858919, lasso = 1.3742201328277588\n",
      "Epoch 20100: rec = 0.000887473055627197, lasso = 1.368923544883728\n",
      "Epoch 20200: rec = 0.0009359444375149906, lasso = 1.3819917440414429\n",
      "Epoch 20300: rec = 0.0008681343169882894, lasso = 1.3680815696716309\n",
      "Epoch 20400: rec = 0.0009045905899256468, lasso = 1.3611195087432861\n",
      "Epoch 20500: rec = 0.0008527626632712781, lasso = 1.3586267232894897\n",
      "Epoch 20600: rec = 0.0008858458022587001, lasso = 1.3599257469177246\n",
      "Epoch 20700: rec = 0.0008996352553367615, lasso = 1.3657790422439575\n",
      "Epoch 20800: rec = 0.000887607631739229, lasso = 1.3685657978057861\n",
      "Epoch 20900: rec = 0.0009309634333476424, lasso = 1.3746058940887451\n",
      "Epoch 21000: rec = 0.0009558104211464524, lasso = 1.3572756052017212\n",
      "Epoch 21100: rec = 0.0009575552539899945, lasso = 1.37956702709198\n",
      "Epoch 21200: rec = 0.0009275987977162004, lasso = 1.3491981029510498\n",
      "Epoch 21300: rec = 0.0008977351826615632, lasso = 1.3672376871109009\n",
      "Epoch 21400: rec = 0.0008805568795651197, lasso = 1.366251826286316\n",
      "Epoch 21500: rec = 0.0009435029933229089, lasso = 1.3678205013275146\n",
      "Epoch 21600: rec = 0.0008875891799107194, lasso = 1.3735954761505127\n",
      "Epoch 21700: rec = 0.000955435330979526, lasso = 1.3709101676940918\n",
      "Epoch 21800: rec = 0.0008957757381722331, lasso = 1.3616435527801514\n",
      "Epoch 21900: rec = 0.0009313019108958542, lasso = 1.366986870765686\n",
      "Epoch 22000: rec = 0.0009457115083932877, lasso = 1.3785591125488281\n",
      "Epoch 22100: rec = 0.0008759124320931733, lasso = 1.3690434694290161\n",
      "Epoch 22200: rec = 0.0008896106737665832, lasso = 1.3671650886535645\n",
      "Epoch 22300: rec = 0.0009475877741351724, lasso = 1.3704116344451904\n",
      "Epoch 22400: rec = 0.0009238745551556349, lasso = 1.3767876625061035\n",
      "Epoch 22500: rec = 0.0009017105912789702, lasso = 1.3724430799484253\n",
      "Epoch 22600: rec = 0.0009125001961365342, lasso = 1.3727585077285767\n",
      "Epoch 22700: rec = 0.0008672222611494362, lasso = 1.3696192502975464\n",
      "Epoch 22800: rec = 0.0008780168718658388, lasso = 1.3723983764648438\n",
      "Epoch 22900: rec = 0.0009984173811972141, lasso = 1.3640085458755493\n",
      "Epoch 23000: rec = 0.0009035715484060347, lasso = 1.3782892227172852\n",
      "Epoch 23100: rec = 0.000981069402769208, lasso = 1.3729400634765625\n",
      "Epoch 23200: rec = 0.0009010438225232065, lasso = 1.3718483448028564\n",
      "Epoch 23300: rec = 0.0008882455294951797, lasso = 1.376225471496582\n",
      "Epoch 23400: rec = 0.0008846588898450136, lasso = 1.3652396202087402\n",
      "Epoch 23500: rec = 0.0009390608756802976, lasso = 1.36972975730896\n",
      "Epoch 23600: rec = 0.0008703910280019045, lasso = 1.3674243688583374\n",
      "Epoch 23700: rec = 0.000945888867136091, lasso = 1.3642103672027588\n",
      "Epoch 23800: rec = 0.0009244604152627289, lasso = 1.3729549646377563\n",
      "Epoch 23900: rec = 0.0009313945774920285, lasso = 1.3690133094787598\n",
      "Epoch 24000: rec = 0.00094944320153445, lasso = 1.3638875484466553\n",
      "Epoch 24100: rec = 0.0009262881940230727, lasso = 1.3761897087097168\n",
      "Epoch 24200: rec = 0.0008671234245412052, lasso = 1.3675795793533325\n",
      "Epoch 24300: rec = 0.0008720693876966834, lasso = 1.3579347133636475\n",
      "Epoch 24400: rec = 0.0009611079003661871, lasso = 1.3553245067596436\n",
      "Epoch 24500: rec = 0.0008434377377852798, lasso = 1.3618764877319336\n",
      "Epoch 24600: rec = 0.0008966756868176162, lasso = 1.3623350858688354\n",
      "Epoch 24700: rec = 0.0009059484000317752, lasso = 1.3478798866271973\n",
      "Epoch 24800: rec = 0.0009310124441981316, lasso = 1.3608436584472656\n",
      "Epoch 24900: rec = 0.000963639235123992, lasso = 1.3868738412857056\n",
      "Epoch 25000: rec = 0.000958403863478452, lasso = 1.379844069480896\n",
      "Epoch 25100: rec = 0.000936354510486126, lasso = 1.3789995908737183\n",
      "Epoch 25200: rec = 0.0009212233708240092, lasso = 1.3603376150131226\n",
      "Epoch 25300: rec = 0.0009034590912051499, lasso = 1.3619194030761719\n",
      "Epoch 25400: rec = 0.0008881987887434661, lasso = 1.375365972518921\n",
      "Epoch 25500: rec = 0.0009394080261699855, lasso = 1.368080735206604\n",
      "Epoch 25600: rec = 0.0009302747203037143, lasso = 1.3689253330230713\n",
      "Epoch 25700: rec = 0.0009593047434464097, lasso = 1.358673334121704\n",
      "Epoch 25800: rec = 0.0009328427840955555, lasso = 1.3669766187667847\n",
      "Epoch 25900: rec = 0.0008987746550701559, lasso = 1.3678069114685059\n",
      "Epoch 26000: rec = 0.0009167753742076457, lasso = 1.363417387008667\n",
      "Epoch 26100: rec = 0.0008841038797982037, lasso = 1.35842764377594\n",
      "Epoch 26200: rec = 0.0008855276391841471, lasso = 1.356316328048706\n",
      "Epoch 26300: rec = 0.000909909198526293, lasso = 1.3688613176345825\n",
      "Epoch 26400: rec = 0.0010062532965093851, lasso = 1.372900128364563\n",
      "Epoch 26500: rec = 0.0008808406419120729, lasso = 1.3550622463226318\n",
      "Epoch 26600: rec = 0.0009311963221989572, lasso = 1.3743042945861816\n",
      "Epoch 26700: rec = 0.000952085480093956, lasso = 1.3912867307662964\n",
      "Epoch 26800: rec = 0.000969081127550453, lasso = 1.3595917224884033\n",
      "Epoch 26900: rec = 0.0009567987872287631, lasso = 1.3725812435150146\n",
      "Epoch 27000: rec = 0.000892979500349611, lasso = 1.362726092338562\n",
      "Epoch 27100: rec = 0.0008810082217678428, lasso = 1.3718149662017822\n",
      "Epoch 27200: rec = 0.0008703969069756567, lasso = 1.3634467124938965\n",
      "Epoch 27300: rec = 0.0008785813115537167, lasso = 1.3657299280166626\n",
      "Epoch 27400: rec = 0.0008837766363285482, lasso = 1.360910177230835\n",
      "Epoch 27500: rec = 0.0008611318189650774, lasso = 1.3702361583709717\n",
      "Epoch 27600: rec = 0.0009481203742325306, lasso = 1.3765383958816528\n",
      "Epoch 27700: rec = 0.0008800827199593186, lasso = 1.3640919923782349\n",
      "Epoch 27800: rec = 0.0009108706144616008, lasso = 1.3639718294143677\n",
      "Epoch 27900: rec = 0.0009769025491550565, lasso = 1.3816039562225342\n",
      "Epoch 28000: rec = 0.0009421139839105308, lasso = 1.382785677909851\n",
      "Epoch 28100: rec = 0.0009811993222683668, lasso = 1.3760722875595093\n",
      "Epoch 28200: rec = 0.0009065201156772673, lasso = 1.3640211820602417\n",
      "Epoch 28300: rec = 0.0009276536293327808, lasso = 1.3669136762619019\n",
      "Epoch 28400: rec = 0.0008895206265151501, lasso = 1.360695481300354\n",
      "Epoch 28500: rec = 0.0009487895295023918, lasso = 1.3584387302398682\n",
      "Epoch 28600: rec = 0.0008876639767549932, lasso = 1.3731253147125244\n",
      "Epoch 28700: rec = 0.0009117286535911262, lasso = 1.365288257598877\n",
      "Epoch 28800: rec = 0.0009080956224352121, lasso = 1.3669252395629883\n",
      "Epoch 28900: rec = 0.0010270678903907537, lasso = 1.360526442527771\n",
      "Epoch 29000: rec = 0.0008840886875987053, lasso = 1.3510091304779053\n",
      "Epoch 29100: rec = 0.0010117320343852043, lasso = 1.3704144954681396\n",
      "Epoch 29200: rec = 0.0009034890099428594, lasso = 1.3663291931152344\n",
      "Epoch 29300: rec = 0.0009066623169928789, lasso = 1.36210036277771\n",
      "Epoch 29400: rec = 0.0008701058104634285, lasso = 1.3768565654754639\n",
      "Epoch 29500: rec = 0.0009326331783086061, lasso = 1.3559564352035522\n",
      "Epoch 29600: rec = 0.0008873316692188382, lasso = 1.3836266994476318\n",
      "Epoch 29700: rec = 0.0008967773173935711, lasso = 1.3614089488983154\n",
      "Epoch 29800: rec = 0.0009923436446115375, lasso = 1.3689367771148682\n",
      "Epoch 29900: rec = 0.0008706367225386202, lasso = 1.3718092441558838\n",
      "Epoch 30000: rec = 0.0009168533724732697, lasso = 1.3769521713256836\n",
      "Epoch 30100: rec = 0.000955324387177825, lasso = 1.3687971830368042\n",
      "Epoch 30200: rec = 0.0008579150890000165, lasso = 1.3530693054199219\n",
      "Epoch 30300: rec = 0.0008941294508986175, lasso = 1.3668177127838135\n",
      "Epoch 30400: rec = 0.0008929515024647117, lasso = 1.3859202861785889\n",
      "Epoch 30500: rec = 0.0009333610651083291, lasso = 1.363038182258606\n",
      "Epoch 30600: rec = 0.0008912066696211696, lasso = 1.3614838123321533\n",
      "Epoch 30700: rec = 0.0009180034976452589, lasso = 1.3682525157928467\n",
      "Epoch 30800: rec = 0.0008922181441448629, lasso = 1.3687502145767212\n",
      "Epoch 30900: rec = 0.0009258060599677265, lasso = 1.3624598979949951\n",
      "Epoch 31000: rec = 0.0008420470403507352, lasso = 1.364378571510315\n",
      "Epoch 31100: rec = 0.0009124352363869548, lasso = 1.3725358247756958\n",
      "Epoch 31200: rec = 0.0009193337755277753, lasso = 1.376397967338562\n",
      "Epoch 31300: rec = 0.000884551031049341, lasso = 1.3460861444473267\n",
      "Epoch 31400: rec = 0.0008557630353607237, lasso = 1.3709847927093506\n",
      "Epoch 31500: rec = 0.0008838560315780342, lasso = 1.3760977983474731\n",
      "Epoch 31600: rec = 0.0008998330449685454, lasso = 1.3866976499557495\n",
      "Epoch 31700: rec = 0.0009475648403167725, lasso = 1.3605440855026245\n",
      "Epoch 31800: rec = 0.0009241772932000458, lasso = 1.3519506454467773\n",
      "Epoch 31900: rec = 0.0008611099910922348, lasso = 1.3757331371307373\n",
      "Epoch 32000: rec = 0.000898328609764576, lasso = 1.3507888317108154\n",
      "Epoch 32100: rec = 0.0008957082172855735, lasso = 1.3581262826919556\n",
      "Epoch 32200: rec = 0.0009017561096698046, lasso = 1.3702560663223267\n",
      "Epoch 32300: rec = 0.0009115579887293279, lasso = 1.3516929149627686\n",
      "Epoch 32400: rec = 0.0008626703638583422, lasso = 1.3716779947280884\n",
      "Epoch 32500: rec = 0.0009381730342283845, lasso = 1.3619366884231567\n",
      "Epoch 32600: rec = 0.0009054901311174035, lasso = 1.3698961734771729\n",
      "Epoch 32700: rec = 0.0008767882827669382, lasso = 1.3629767894744873\n",
      "Epoch 32800: rec = 0.0009732709149830043, lasso = 1.3685095310211182\n",
      "Epoch 32900: rec = 0.000916592194698751, lasso = 1.3743451833724976\n",
      "Epoch 33000: rec = 0.0009217370534315705, lasso = 1.3641126155853271\n",
      "Epoch 33100: rec = 0.0009176207822747529, lasso = 1.3723863363265991\n",
      "Epoch 33200: rec = 0.000875447818543762, lasso = 1.3703612089157104\n",
      "Epoch 33300: rec = 0.0009328943560831249, lasso = 1.3565043210983276\n",
      "Epoch 33400: rec = 0.0008574266103096306, lasso = 1.352687954902649\n",
      "Epoch 33500: rec = 0.0008737856987863779, lasso = 1.3723912239074707\n",
      "Epoch 33600: rec = 0.0009471271187067032, lasso = 1.3623062372207642\n",
      "Epoch 33700: rec = 0.0008720845216885209, lasso = 1.3620429039001465\n",
      "Epoch 33800: rec = 0.0009205894893966615, lasso = 1.3582096099853516\n",
      "Epoch 33900: rec = 0.0008852886967360973, lasso = 1.371962547302246\n",
      "Epoch 34000: rec = 0.0008993463707156479, lasso = 1.349156141281128\n",
      "Epoch 34100: rec = 0.0009230689029209316, lasso = 1.3575613498687744\n",
      "Epoch 34200: rec = 0.0008849286823533475, lasso = 1.3634508848190308\n",
      "Epoch 34300: rec = 0.0009118235320784152, lasso = 1.3637914657592773\n",
      "Epoch 34400: rec = 0.0008793798042461276, lasso = 1.3617463111877441\n",
      "Epoch 34500: rec = 0.0008826639386825264, lasso = 1.364396333694458\n",
      "Epoch 34600: rec = 0.0009172429563477635, lasso = 1.363131046295166\n",
      "Epoch 34700: rec = 0.0009237867780029774, lasso = 1.364314317703247\n",
      "Epoch 34800: rec = 0.0009223605156876147, lasso = 1.366211175918579\n",
      "Epoch 34900: rec = 0.0009161040070466697, lasso = 1.3638755083084106\n",
      "Epoch 35000: rec = 0.0009402219438925385, lasso = 1.3873510360717773\n",
      "Epoch 35100: rec = 0.000928928260691464, lasso = 1.359634280204773\n",
      "Epoch 35200: rec = 0.0008650694508105516, lasso = 1.3708627223968506\n",
      "Epoch 35300: rec = 0.0009190161945298314, lasso = 1.3553639650344849\n",
      "Epoch 35400: rec = 0.0009386423043906689, lasso = 1.3621467351913452\n",
      "Epoch 35500: rec = 0.000932179216761142, lasso = 1.3743520975112915\n",
      "Epoch 35600: rec = 0.0008982163853943348, lasso = 1.3701647520065308\n",
      "Epoch 35700: rec = 0.0008950266055762768, lasso = 1.3697599172592163\n",
      "Epoch 35800: rec = 0.0009064379264600575, lasso = 1.3696986436843872\n",
      "Epoch 35900: rec = 0.0009001660509966314, lasso = 1.3572369813919067\n",
      "Epoch 36000: rec = 0.0008554545929655433, lasso = 1.3675447702407837\n",
      "Epoch 36100: rec = 0.0009567113011144102, lasso = 1.3683394193649292\n",
      "Epoch 36200: rec = 0.0009974150452762842, lasso = 1.3659614324569702\n",
      "Epoch 36300: rec = 0.0009254482574760914, lasso = 1.347047209739685\n",
      "Epoch 36400: rec = 0.0009291985770687461, lasso = 1.3637975454330444\n",
      "Epoch 36500: rec = 0.0008513188222423196, lasso = 1.3566668033599854\n",
      "Epoch 36600: rec = 0.0008802808588370681, lasso = 1.3693935871124268\n",
      "Epoch 36700: rec = 0.0009454384562559426, lasso = 1.3656482696533203\n",
      "Epoch 36800: rec = 0.0008804262615740299, lasso = 1.3719494342803955\n",
      "Epoch 36900: rec = 0.0009409075719304383, lasso = 1.3662854433059692\n",
      "Epoch 37000: rec = 0.000879836268723011, lasso = 1.3667817115783691\n",
      "Epoch 37100: rec = 0.0009775991784408689, lasso = 1.3645581007003784\n",
      "Epoch 37200: rec = 0.0009043340105563402, lasso = 1.3728442192077637\n",
      "Epoch 37300: rec = 0.0009167131502181292, lasso = 1.356543779373169\n",
      "Epoch 37400: rec = 0.0009343707351945341, lasso = 1.36561918258667\n",
      "Epoch 37500: rec = 0.0008530352497473359, lasso = 1.3552751541137695\n",
      "Epoch 37600: rec = 0.0009086085483431816, lasso = 1.3747601509094238\n",
      "Epoch 37700: rec = 0.0008529667975381017, lasso = 1.3534265756607056\n",
      "Epoch 37800: rec = 0.0009136224980466068, lasso = 1.3602200746536255\n",
      "Epoch 37900: rec = 0.0009043473983183503, lasso = 1.3725320100784302\n",
      "Epoch 38000: rec = 0.0008599099237471819, lasso = 1.3586567640304565\n",
      "Epoch 38100: rec = 0.0009326186846010387, lasso = 1.3537951707839966\n",
      "Epoch 38200: rec = 0.0009175064042210579, lasso = 1.3728511333465576\n",
      "Epoch 38300: rec = 0.0008889820310287178, lasso = 1.3680754899978638\n",
      "Epoch 38400: rec = 0.0008909785537980497, lasso = 1.3621501922607422\n",
      "Epoch 38500: rec = 0.0009059846634045243, lasso = 1.3809287548065186\n",
      "Epoch 38600: rec = 0.0008975232485681772, lasso = 1.357751727104187\n",
      "Epoch 38700: rec = 0.0008788562845438719, lasso = 1.3582687377929688\n",
      "Epoch 38800: rec = 0.0008880898240022361, lasso = 1.3694783449172974\n",
      "Epoch 38900: rec = 0.0009587540989741683, lasso = 1.3670320510864258\n",
      "Epoch 39000: rec = 0.0008989787893369794, lasso = 1.3713215589523315\n",
      "Epoch 39100: rec = 0.0009217681363224983, lasso = 1.3453727960586548\n",
      "Epoch 39200: rec = 0.0009227651171386242, lasso = 1.3791248798370361\n",
      "Epoch 39300: rec = 0.0009042762685567141, lasso = 1.3728276491165161\n",
      "Epoch 39400: rec = 0.0009244976681657135, lasso = 1.3673471212387085\n",
      "Epoch 39500: rec = 0.0009032305097207427, lasso = 1.3760110139846802\n",
      "Epoch 39600: rec = 0.0008872025064192712, lasso = 1.3561787605285645\n",
      "Epoch 39700: rec = 0.0008933621575124562, lasso = 1.3655202388763428\n",
      "Epoch 39800: rec = 0.0008694544667378068, lasso = 1.3599867820739746\n",
      "Epoch 39900: rec = 0.0009367450256831944, lasso = 1.3793081045150757\n",
      "Epoch 40000: rec = 0.0009750874014571309, lasso = 1.3656532764434814\n",
      "Epoch 40100: rec = 0.0008657623548060656, lasso = 1.360249400138855\n",
      "Epoch 40200: rec = 0.0008725563529878855, lasso = 1.3682420253753662\n",
      "Epoch 40300: rec = 0.0008751934510655701, lasso = 1.359403371810913\n",
      "Epoch 40400: rec = 0.0009670132421888411, lasso = 1.3649235963821411\n",
      "Epoch 40500: rec = 0.0008736323215998709, lasso = 1.368716835975647\n",
      "Epoch 40600: rec = 0.0009661419899202883, lasso = 1.3624364137649536\n",
      "Epoch 40700: rec = 0.0008541590068489313, lasso = 1.3567938804626465\n",
      "Epoch 40800: rec = 0.0008663335465826094, lasso = 1.3643583059310913\n",
      "Epoch 40900: rec = 0.0009031017543748021, lasso = 1.373460054397583\n",
      "Epoch 41000: rec = 0.0009034142130985856, lasso = 1.3618762493133545\n",
      "Epoch 41100: rec = 0.0008890231256373227, lasso = 1.3585000038146973\n",
      "Epoch 41200: rec = 0.0008885357528924942, lasso = 1.3638780117034912\n",
      "Epoch 41300: rec = 0.0009278556681238115, lasso = 1.3654530048370361\n",
      "Epoch 41400: rec = 0.0009395270608365536, lasso = 1.3519213199615479\n",
      "Epoch 41500: rec = 0.0009304712293669581, lasso = 1.3746061325073242\n",
      "Epoch 41600: rec = 0.000897089543286711, lasso = 1.363682746887207\n",
      "Epoch 41700: rec = 0.0009319123346358538, lasso = 1.3685113191604614\n",
      "Epoch 41800: rec = 0.0008670422248542309, lasso = 1.391248106956482\n",
      "Epoch 41900: rec = 0.0008730884292162955, lasso = 1.346084713935852\n",
      "Epoch 42000: rec = 0.0008944821311160922, lasso = 1.371055245399475\n",
      "Epoch 42100: rec = 0.0008835109183564782, lasso = 1.3719359636306763\n",
      "Epoch 42200: rec = 0.000893697957508266, lasso = 1.3467086553573608\n",
      "Epoch 42300: rec = 0.0009066250640898943, lasso = 1.3729310035705566\n",
      "Epoch 42400: rec = 0.0008649438386783004, lasso = 1.36215341091156\n",
      "Epoch 42500: rec = 0.0008844307158142328, lasso = 1.3750574588775635\n",
      "Epoch 42600: rec = 0.0008806476835161448, lasso = 1.3564413785934448\n",
      "Epoch 42700: rec = 0.0009193320292979479, lasso = 1.3608993291854858\n",
      "Epoch 42800: rec = 0.0008857979555614293, lasso = 1.3788858652114868\n",
      "Epoch 42900: rec = 0.0009103498887270689, lasso = 1.3805478811264038\n",
      "Epoch 43000: rec = 0.0009287854190915823, lasso = 1.3671339750289917\n",
      "Epoch 43100: rec = 0.0008655599667690694, lasso = 1.376790165901184\n",
      "Epoch 43200: rec = 0.0008902549743652344, lasso = 1.366827368736267\n",
      "Epoch 43300: rec = 0.0008753080037422478, lasso = 1.344763159751892\n",
      "Epoch 43400: rec = 0.0008594217943027616, lasso = 1.3621530532836914\n",
      "Epoch 43500: rec = 0.0009330121683888137, lasso = 1.3758199214935303\n",
      "Epoch 43600: rec = 0.0008742429781705141, lasso = 1.35016930103302\n",
      "Epoch 43700: rec = 0.0009236647747457027, lasso = 1.3685925006866455\n",
      "Epoch 43800: rec = 0.0008469076128676534, lasso = 1.3679429292678833\n",
      "Epoch 43900: rec = 0.0009494960540905595, lasso = 1.3706870079040527\n",
      "Epoch 44000: rec = 0.0009502636385150254, lasso = 1.3772116899490356\n",
      "Epoch 44100: rec = 0.0010230493498966098, lasso = 1.3840341567993164\n",
      "Epoch 44200: rec = 0.0008794241002760828, lasso = 1.3666729927062988\n",
      "Epoch 44300: rec = 0.0009352481574751437, lasso = 1.3790227174758911\n",
      "Epoch 44400: rec = 0.0009016577387228608, lasso = 1.357888102531433\n",
      "Epoch 44500: rec = 0.0009190418059006333, lasso = 1.3730137348175049\n",
      "Epoch 44600: rec = 0.0008981379796750844, lasso = 1.3722478151321411\n",
      "Epoch 44700: rec = 0.0009081923053599894, lasso = 1.3636482954025269\n",
      "Epoch 44800: rec = 0.0008886888390406966, lasso = 1.3799957036972046\n",
      "Epoch 44900: rec = 0.0008711219998076558, lasso = 1.351736307144165\n",
      "Epoch 45000: rec = 0.0008757479954510927, lasso = 1.3699268102645874\n",
      "Epoch 45100: rec = 0.0008675994467921555, lasso = 1.355705738067627\n",
      "Epoch 45200: rec = 0.0008850444573909044, lasso = 1.3541816473007202\n",
      "Epoch 45300: rec = 0.0008517843671143055, lasso = 1.3609793186187744\n",
      "Epoch 45400: rec = 0.0008793785236775875, lasso = 1.3516225814819336\n",
      "Epoch 45500: rec = 0.0008732177084311843, lasso = 1.3666317462921143\n",
      "Epoch 45600: rec = 0.0008946998859755695, lasso = 1.3656129837036133\n",
      "Epoch 45700: rec = 0.0009046514751389623, lasso = 1.3548778295516968\n",
      "Epoch 45800: rec = 0.0009683549287728965, lasso = 1.3755747079849243\n",
      "Epoch 45900: rec = 0.000992654706351459, lasso = 1.3783284425735474\n",
      "Epoch 46000: rec = 0.0008339384221471846, lasso = 1.3619309663772583\n",
      "Epoch 46100: rec = 0.0009310678578913212, lasso = 1.3700034618377686\n",
      "Epoch 46200: rec = 0.0009509555529803038, lasso = 1.377280592918396\n",
      "Epoch 46300: rec = 0.0008634652476757765, lasso = 1.3552449941635132\n",
      "Epoch 46400: rec = 0.0009373712819069624, lasso = 1.3726550340652466\n",
      "Epoch 46500: rec = 0.0008836149354465306, lasso = 1.3556995391845703\n",
      "Epoch 46600: rec = 0.0008731113048270345, lasso = 1.3657991886138916\n",
      "Epoch 46700: rec = 0.0009617722244001925, lasso = 1.3763164281845093\n",
      "Epoch 46800: rec = 0.0008841294911690056, lasso = 1.3676255941390991\n",
      "Epoch 46900: rec = 0.0009133219718933105, lasso = 1.373826503753662\n",
      "Epoch 47000: rec = 0.0009116350556723773, lasso = 1.3688191175460815\n",
      "Epoch 47100: rec = 0.0008715043659321964, lasso = 1.3613842725753784\n",
      "Epoch 47200: rec = 0.0008990999194793403, lasso = 1.368283987045288\n",
      "Epoch 47300: rec = 0.0008622118039056659, lasso = 1.3602639436721802\n",
      "Epoch 47400: rec = 0.0008967828471213579, lasso = 1.3678324222564697\n",
      "Epoch 47500: rec = 0.0008877660729922354, lasso = 1.3482469320297241\n",
      "Epoch 47600: rec = 0.0008822957752272487, lasso = 1.3526122570037842\n",
      "Epoch 47700: rec = 0.0008844538242556155, lasso = 1.3676561117172241\n",
      "Epoch 47800: rec = 0.00086748949252069, lasso = 1.3557113409042358\n",
      "Epoch 47900: rec = 0.0009063927573151886, lasso = 1.3667322397232056\n",
      "Epoch 48000: rec = 0.0008618223946541548, lasso = 1.3657509088516235\n",
      "Epoch 48100: rec = 0.0008604980539530516, lasso = 1.3665410280227661\n",
      "Epoch 48200: rec = 0.0008620113949291408, lasso = 1.3527039289474487\n",
      "Epoch 48300: rec = 0.0008838927606120706, lasso = 1.3580026626586914\n",
      "Epoch 48400: rec = 0.000958264572545886, lasso = 1.3637511730194092\n",
      "Epoch 48500: rec = 0.0009157721069641411, lasso = 1.3714195489883423\n",
      "Epoch 48600: rec = 0.000919792742934078, lasso = 1.3644921779632568\n",
      "Epoch 48700: rec = 0.000884904176928103, lasso = 1.3696995973587036\n",
      "Epoch 48800: rec = 0.0008880846435204148, lasso = 1.3634464740753174\n",
      "Epoch 48900: rec = 0.0008685324573889375, lasso = 1.3556667566299438\n",
      "Epoch 49000: rec = 0.0009460565634071827, lasso = 1.3611382246017456\n",
      "Epoch 49100: rec = 0.000926958629861474, lasso = 1.3709660768508911\n",
      "Epoch 49200: rec = 0.0009008267661556602, lasso = 1.3637620210647583\n",
      "Epoch 49300: rec = 0.0008510092739015818, lasso = 1.3673574924468994\n",
      "Epoch 49400: rec = 0.0008650225354358554, lasso = 1.3674253225326538\n",
      "Epoch 49500: rec = 0.0009052244713529944, lasso = 1.3688883781433105\n",
      "Epoch 49600: rec = 0.0009244671673513949, lasso = 1.3645952939987183\n",
      "Epoch 49700: rec = 0.0009070523665286601, lasso = 1.3566696643829346\n",
      "Epoch 49800: rec = 0.0008792507578618824, lasso = 1.3542712926864624\n",
      "Epoch 49900: rec = 0.0008892476325854659, lasso = 1.3589105606079102\n"
     ]
    }
   ],
   "source": [
    "opt = torch.optim.Adam(list(encoder.parameters()) + list(decoder.parameters()), lr=1e-4)\n",
    "\n",
    "for i in range(50000):\n",
    "    opt.zero_grad()\n",
    "    z = encoder(data)\n",
    "    rec_loss = F.mse_loss(decoder(z), data) \n",
    "    lasso_loss = torch.exp(torch.log(z.std(0)+1).mean())  # torch.norm(z.std(0), p=1)\n",
    "    # lasso_loss = F.mse_loss(z.T.cov().tril(diagonal=-1), torch.zeros_like(z.T.cov()))\n",
    "    loss = rec_loss + 0.01 * lasso_loss\n",
    "    loss.backward()\n",
    "    opt.step()\n",
    "\n",
    "    if i % 100 == 0:\n",
    "        print('Epoch {}: rec = {}, lasso = {}'.format(i, rec_loss, lasso_loss))"
   ]
  },
  {
   "cell_type": "code",
   "execution_count": 103,
   "metadata": {},
   "outputs": [
    {
     "data": {
      "image/png": "[encoded data removed]",
      "text/plain": [
       "<Figure size 432x288 with 1 Axes>"
      ]
     },
     "metadata": {
      "needs_background": "light"
     },
     "output_type": "display_data"
    },
    {
     "data": {
      "image/png": "[encoded data removed]",
      "text/plain": [
       "<Figure size 432x288 with 1 Axes>"
      ]
     },
     "metadata": {
      "needs_background": "light"
     },
     "output_type": "display_data"
    },
    {
     "data": {
      "image/png": "[encoded data removed]",
      "text/plain": [
       "<Figure size 432x288 with 1 Axes>"
      ]
     },
     "metadata": {
      "needs_background": "light"
     },
     "output_type": "display_data"
    }
   ],
   "source": [
    "encoder.eval()\n",
    "decoder.eval()\n",
    "\n",
    "z = encoder(data)\n",
    "\n",
    "plt.scatter(z[:,0].detach().numpy(), z[:,1].detach().numpy())\n",
    "plt.gca().set_aspect('equal')\n",
    "plt.show()\n",
    "\n",
    "plt.scatter(z[:,0].detach().numpy(), z[:,2].detach().numpy())\n",
    "plt.gca().set_aspect('equal')\n",
    "plt.show()\n",
    "\n",
    "plt.scatter(z[:,1].detach().numpy(), z[:,2].detach().numpy())\n",
    "plt.gca().set_aspect('equal')\n",
    "plt.show()"
   ]
  },
  {
   "cell_type": "code",
   "execution_count": 104,
   "metadata": {},
   "outputs": [
    {
     "data": {
      "text/plain": [
       "tensor([1.0579e+00, 1.0220e-03, 4.2820e+00], grad_fn=<SubBackward0>)"
      ]
     },
     "execution_count": 104,
     "metadata": {},
     "output_type": "execute_result"
    }
   ],
   "source": [
    "z.max(0)[0] - z.min(0)[0]"
   ]
  },
  {
   "cell_type": "code",
   "execution_count": 105,
   "metadata": {},
   "outputs": [
    {
     "data": {
      "text/plain": [
       "tensor([[ 7.6880e-02,  5.3162e-06,  5.3196e-03],\n",
       "        [ 5.3162e-06,  5.9061e-08, -1.6773e-04],\n",
       "        [ 5.3196e-03, -1.6773e-04,  1.0156e+00]], grad_fn=<SqueezeBackward0>)"
      ]
     },
     "execution_count": 105,
     "metadata": {},
     "output_type": "execute_result"
    }
   ],
   "source": [
    "z.T.cov()"
   ]
  },
  {
   "cell_type": "code",
   "execution_count": 106,
   "metadata": {},
   "outputs": [
    {
     "data": {
      "image/png": "[encoded data removed]",
      "text/plain": [
       "<Figure size 432x288 with 1 Axes>"
      ]
     },
     "metadata": {
      "needs_background": "light"
     },
     "output_type": "display_data"
    }
   ],
   "source": [
    "rec = decoder(z).detach().numpy()\n",
    "\n",
    "fig = plt.figure()\n",
    "ax = fig.add_subplot(projection='3d')\n",
    "ax.scatter(XY[:,0].numpy(), XY[:,1].numpy(), Z.numpy())\n",
    "ax.scatter(rec[:, 0], rec[:, 1], rec[:, 2])\n",
    "fig.show()"
   ]
  },
  {
   "cell_type": "code",
   "execution_count": 107,
   "metadata": {},
   "outputs": [
    {
     "data": {
      "image/png": "[encoded data removed]",
      "text/plain": [
       "<Figure size 432x288 with 1 Axes>"
      ]
     },
     "metadata": {
      "needs_background": "light"
     },
     "output_type": "display_data"
    }
   ],
   "source": [
    "plt.scatter(XY[:,0].numpy(), Z.numpy())\n",
    "plt.scatter(rec[:, 0], rec[:, 2])\n",
    "plt.show()"
   ]
  },
  {
   "cell_type": "code",
   "execution_count": 110,
   "metadata": {},
   "outputs": [
    {
     "data": {
      "image/png": "[encoded data removed]",
      "text/plain": [
       "<Figure size 432x288 with 1 Axes>"
      ]
     },
     "metadata": {
      "needs_background": "light"
     },
     "output_type": "display_data"
    }
   ],
   "source": [
    "def f(x):\n",
    "    return encoder(x).sum(0)\n",
    "\n",
    "jcb = torch.autograd.functional.jacobian(f, data).transpose(1,0)\n",
    "eig_list = torch.stack([svd(j[[0, 2]])[1] for j in jcb])\n",
    "plt.hist(eig_list.numpy(), bins=30)\n",
    "plt.title('Distribution of Singular Values')\n",
    "plt.show()"
   ]
  }
 ],
 "metadata": {
  "kernelspec": {
   "display_name": "Python 3.8.12 ('base')",
   "language": "python",
   "name": "python3"
  },
  "language_info": {
   "codemirror_mode": {
    "name": "ipython",
    "version": 3
   },
   "file_extension": ".py",
   "mimetype": "text/x-python",
   "name": "python",
   "nbconvert_exporter": "python",
   "pygments_lexer": "ipython3",
   "version": "3.8.12"
  },
  "vscode": {
   "interpreter": {
    "hash": "d4d1e4263499bec80672ea0156c357c1ee493ec2b1c70f0acce89fc37c4a6abe"
   }
  }
 },
 "nbformat": 4,
 "nbformat_minor": 2
}
