{
 "cells": [
  {
   "cell_type": "code",
   "execution_count": 1,
   "metadata": {},
   "outputs": [],
   "source": [
    "import torch\n",
    "import numpy as np\n",
    "import matplotlib.pyplot as plt\n",
    "import sys; sys.path.append('../src/')\n",
    "import os"
   ]
  },
  {
   "cell_type": "code",
   "execution_count": 2,
   "metadata": {},
   "outputs": [],
   "source": [
    "from model.utils.metrics import l2_loss, explained_reconstruction, mean_correlation, importance_correlation, main_exprec\n",
    "from least_volume_image import *\n",
    "from dataset.images import MNISTImages, CIFAR10Images, ImageToyDataset, CelebAImages\n",
    "from torch.nn.functional import mse_loss\n",
    "from torch.utils.data import DataLoader\n",
    "from math import sqrt"
   ]
  },
  {
   "cell_type": "code",
   "execution_count": 3,
   "metadata": {},
   "outputs": [],
   "source": [
    "from sklearn.neighbors import KNeighborsClassifier\n",
    "from sklearn.linear_model import LogisticRegression\n",
    "from sklearn.metrics import recall_score, precision_score, accuracy_score\n",
    "from tqdm import tqdm\n",
    "from sklearn.decomposition import PCA"
   ]
  },
  {
   "cell_type": "code",
   "execution_count": 4,
   "metadata": {},
   "outputs": [],
   "source": [
    "def load_vol(src, dataset, cv, lam, epoch, device='cpu'):\n",
    "    path = os.path.join(src, dataset, cv, 'vol', 'vol_{}_e1.0'.format(lam))\n",
    "    configs = read_configs('{}_vol'.format(dataset), src=path)\n",
    "    ae = VolumeAE_BCE(configs, DCDiscriminator, TrueSNDCGeneratorSig, Adam).to(device)\n",
    "    ae.load(os.path.join(path, 'vol_{}{}.tar'.format(dataset, epoch)), map_location=device)\n",
    "    ae.eval()\n",
    "    return ae\n",
    "\n",
    "def load_vol2(src, dataset, cv, lam, epoch, device='cpu'):\n",
    "    path = os.path.join(src, dataset, cv, 'vol', 'vol_{}_e1.0'.format(lam))\n",
    "    configs = read_configs('{}_vol'.format(dataset), src=path)\n",
    "    ae = VolumeAE_BCE(configs, DCDiscriminator, TrueSNDCGeneratorSig, Adam).to(device)\n",
    "    ae.load(os.path.join(path, '{}{}.tar'.format(dataset, epoch)), map_location=device)\n",
    "    ae.eval()\n",
    "    return ae\n",
    "\n",
    "def load_l1(src, dataset, cv, lam, epoch, device='cpu'):\n",
    "    path = os.path.join(src, dataset, cv, 'l1', 'l1_{}'.format(lam))\n",
    "    configs = read_configs('{}_l1'.format(dataset), src=path)\n",
    "    ae = L1AE_BCE(configs, DCDiscriminator, TrueSNDCGeneratorSig, Adam).to(device)\n",
    "    ae.load(os.path.join(path, 'l1_{}{}.tar'.format(dataset, epoch)), map_location=device)\n",
    "    ae.eval()\n",
    "    return ae\n",
    "\n",
    "def load_l12(src, dataset, cv, lam, epoch, device='cpu'):\n",
    "    path = os.path.join(src, dataset, cv, 'l1', 'l1_{}'.format(lam))\n",
    "    configs = read_configs('{}'.format(dataset), src=path)\n",
    "    ae = L1AE_BCE(configs, DCDiscriminator, TrueSNDCGeneratorSig, Adam).to(device)\n",
    "    ae.load(os.path.join(path, '{}{}.tar'.format(dataset, epoch)), map_location=device)\n",
    "    ae.eval()\n",
    "    return ae\n",
    "\n",
    "def load_lasso(src, dataset, cv, lam, epoch, device='cpu'):\n",
    "    path = os.path.join(src, dataset, cv, 'lasso', 'lasso_{}'.format(lam))\n",
    "    configs = read_configs('{}'.format(dataset), src=path)\n",
    "    ae = LassoAE_BCE(configs, DCDiscriminator, TrueSNDCGeneratorSig, Adam).to(device)\n",
    "    ae.load(os.path.join(path, '{}{}.tar'.format(dataset, epoch)), map_location=device)\n",
    "    ae.eval()\n",
    "    return ae\n",
    "\n",
    "def load_st(src, dataset, cv, lam, epoch, device='cpu'):\n",
    "    path = os.path.join(src, dataset, cv, 'st', 'st_{}'.format(lam))\n",
    "    configs = read_configs('{}'.format(dataset), src=path)\n",
    "    ae = STAE_BCE(configs, DCDiscriminator, TrueSNDCGeneratorSig, Adam).to(device)\n",
    "    ae.load(os.path.join(path, '{}{}.tar'.format(dataset, epoch)), map_location=device)\n",
    "    ae.eval()\n",
    "    return ae\n",
    "\n",
    "def load_non(src, dataset, cv, epoch, device='cpu'):\n",
    "    path = os.path.join(src, dataset, cv, 'non', 'bce_0.0')\n",
    "    configs = read_configs('{}'.format(dataset), src=path)\n",
    "    ae = BCEAutoencoder(configs, DCDiscriminator, TrueSNDCGeneratorSig, Adam).to(device)\n",
    "    ae.load(os.path.join(path, 'non_{}{}.tar'.format(dataset, epoch)), map_location=device)\n",
    "    ae.eval()\n",
    "    return ae"
   ]
  },
  {
   "cell_type": "markdown",
   "metadata": {},
   "source": [
    "# MNIST"
   ]
  },
  {
   "cell_type": "code",
   "execution_count": 12,
   "metadata": {},
   "outputs": [],
   "source": [
    "device = 'cpu'\n",
    "epoch = 399\n",
    "src = '../saves/image/'\n",
    "dataset_name = 'mnist'\n",
    "cvs = ['cv0', 'cv1', 'cv2']"
   ]
  },
  {
   "cell_type": "code",
   "execution_count": 13,
   "metadata": {},
   "outputs": [],
   "source": [
    "x_train = MNISTImages(train=True, device=device)[:]\n",
    "x_test = MNISTImages(train=False, device=device)[:]\n",
    "y_train = torch.load('../data/mnist/train_labels.pt')\n",
    "y_test = torch.load('../data/mnist/test_labels.pt')"
   ]
  },
  {
   "cell_type": "code",
   "execution_count": 9,
   "metadata": {},
   "outputs": [
    {
     "name": "stdout",
     "output_type": "stream",
     "text": [
      "recall = 0.9726463717785301, precision = 0.9730862572588528, accuracy = 0.9729\n"
     ]
    }
   ],
   "source": [
    "neigh = KNeighborsClassifier(n_neighbors=5)\n",
    "neigh.fit(x_train.flatten(1), y_train)\n",
    "y_hat = neigh.predict(x_test.flatten(1))\n",
    "print('recall = {}, precision = {}, accuracy = {}'.format(\n",
    "    recall_score(y_test, y_hat, average='macro'),\n",
    "    precision_score(y_test, y_hat, average='macro'),\n",
    "    accuracy_score(y_test, y_hat)\n",
    "    )\n",
    ")\n",
    "\n",
    "# lr = LogisticRegression()\n",
    "# lr.fit(x_train.flatten(1), y_train)\n",
    "# y_hat = lr.predict(x_test.flatten(1))\n",
    "# print('recall = {}, precision = {}'.format(\n",
    "#     recall_score(y_test, y_hat, average='macro'),\n",
    "#     precision_score(y_test, y_hat, average='macro')\n",
    "#     )\n",
    "# )"
   ]
  },
  {
   "cell_type": "code",
   "execution_count": 17,
   "metadata": {},
   "outputs": [
    {
     "name": "stderr",
     "output_type": "stream",
     "text": [
      "100%|██████████| 3/3 [00:07<00:00,  2.45s/it]"
     ]
    },
    {
     "name": "stdout",
     "output_type": "stream",
     "text": [
      "recall = 96.68% ± 0.03%\n",
      "precision = 96.73% ± 0.03%\n",
      "accuracy = 96.73% ± 0.03%\n"
     ]
    },
    {
     "name": "stderr",
     "output_type": "stream",
     "text": [
      "\n"
     ]
    }
   ],
   "source": [
    "rs, ps, acs = [], [], []\n",
    "for cv in tqdm(cvs):\n",
    "    volae = load_vol(src, dataset_name, cv, 1e-3, epoch, device)\n",
    "    with torch.no_grad():\n",
    "        z_train = volae.encode(x_train)\n",
    "        z_test = volae.encode(x_test)\n",
    "\n",
    "    neigh = KNeighborsClassifier(n_neighbors=5)\n",
    "    neigh.fit(z_train, y_train)\n",
    "    y_hat = neigh.predict(z_test)\n",
    "    rs.append(recall_score(y_test, y_hat, average='macro'))\n",
    "    ps.append(precision_score(y_test, y_hat, average='macro'))\n",
    "    acs.append(accuracy_score(y_test, y_hat))\n",
    "\n",
    "print('recall = {:.2%} ± {:.2%}\\nprecision = {:.2%} ± {:.2%}\\naccuracy = {:.2%} ± {:.2%}'.format(\n",
    "    np.mean(rs), np.std(rs),\n",
    "    np.mean(ps), np.std(ps),\n",
    "    np.mean(acs), np.std(acs)\n",
    "    )\n",
    ")\n",
    "\n",
    "# lr = LogisticRegression()\n",
    "# lr.fit(z_train, y_train)\n",
    "# y_hat = lr.predict(z_test)\n",
    "# print('recall = {}, precision = {}'.format(\n",
    "#     recall_score(y_test, y_hat, average='macro'),\n",
    "#     precision_score(y_test, y_hat, average='macro')\n",
    "#     )\n",
    "# )"
   ]
  },
  {
   "cell_type": "code",
   "execution_count": 14,
   "metadata": {},
   "outputs": [
    {
     "name": "stderr",
     "output_type": "stream",
     "text": [
      "100%|██████████| 3/3 [00:08<00:00,  2.70s/it]\n"
     ]
    },
    {
     "name": "stdout",
     "output_type": "stream",
     "text": [
      "recall = 32.15% ± 2.39%\n",
      "precision = 30.19% ± 2.63%\n",
      "accuracy = 33.11% ± 2.38%\n"
     ]
    },
    {
     "name": "stderr",
     "output_type": "stream",
     "text": [
      "100%|██████████| 3/3 [00:07<00:00,  2.65s/it]\n"
     ]
    },
    {
     "name": "stdout",
     "output_type": "stream",
     "text": [
      "recall = 37.55% ± 2.13%\n",
      "precision = 36.02% ± 2.19%\n",
      "accuracy = 38.49% ± 2.19%\n"
     ]
    },
    {
     "name": "stderr",
     "output_type": "stream",
     "text": [
      "100%|██████████| 3/3 [00:07<00:00,  2.65s/it]\n"
     ]
    },
    {
     "name": "stdout",
     "output_type": "stream",
     "text": [
      "recall = 97.39% ± 0.47%\n",
      "precision = 97.43% ± 0.46%\n",
      "accuracy = 97.43% ± 0.46%\n"
     ]
    },
    {
     "name": "stderr",
     "output_type": "stream",
     "text": [
      "100%|██████████| 3/3 [00:08<00:00,  2.75s/it]\n"
     ]
    },
    {
     "name": "stdout",
     "output_type": "stream",
     "text": [
      "recall = 96.68% ± 0.03%\n",
      "precision = 96.73% ± 0.03%\n",
      "accuracy = 96.73% ± 0.03%\n"
     ]
    },
    {
     "name": "stderr",
     "output_type": "stream",
     "text": [
      "100%|██████████| 3/3 [00:08<00:00,  2.69s/it]"
     ]
    },
    {
     "name": "stdout",
     "output_type": "stream",
     "text": [
      "recall = 96.89% ± 0.10%\n",
      "precision = 96.93% ± 0.09%\n",
      "accuracy = 96.93% ± 0.10%\n"
     ]
    },
    {
     "name": "stderr",
     "output_type": "stream",
     "text": [
      "\n"
     ]
    }
   ],
   "source": [
    "for lam in [3e-2, 1e-2, 3e-3, 1e-3, 3e-4]:\n",
    "    rs, ps, acs = [], [], []\n",
    "    for cv in tqdm(cvs):\n",
    "        volae = load_vol(src, dataset_name, cv, lam, epoch, device) # 3e-3\n",
    "        with torch.no_grad():\n",
    "            z_train = volae.encode(x_train)\n",
    "            z_test = volae.encode(x_test)\n",
    "\n",
    "        neigh = KNeighborsClassifier(n_neighbors=5)\n",
    "        neigh.fit(z_train, y_train)\n",
    "        y_hat = neigh.predict(z_test)\n",
    "        rs.append(recall_score(y_test, y_hat, average='macro'))\n",
    "        ps.append(precision_score(y_test, y_hat, average='macro'))\n",
    "        acs.append(accuracy_score(y_test, y_hat))\n",
    "\n",
    "    print('recall = {:.2%} ± {:.2%}\\nprecision = {:.2%} ± {:.2%}\\naccuracy = {:.2%} ± {:.2%}'.format(\n",
    "        np.mean(rs), np.std(rs),\n",
    "        np.mean(ps), np.std(ps),\n",
    "        np.mean(acs), np.std(acs)\n",
    "        )\n",
    "    )"
   ]
  },
  {
   "cell_type": "code",
   "execution_count": 107,
   "metadata": {},
   "outputs": [
    {
     "name": "stderr",
     "output_type": "stream",
     "text": [
      "100%|██████████| 3/3 [00:07<00:00,  2.53s/it]"
     ]
    },
    {
     "name": "stdout",
     "output_type": "stream",
     "text": [
      "recall = 97.29% ± 0.08%\n",
      "precision = 97.33% ± 0.09%\n",
      "accuracy = 97.32% ± 0.08%\n"
     ]
    },
    {
     "name": "stderr",
     "output_type": "stream",
     "text": [
      "\n"
     ]
    }
   ],
   "source": [
    "rs, ps, acs = [], [], []\n",
    "for cv in tqdm(cvs):\n",
    "    l1ae = load_l1(src, dataset_name, cv, 3e-3, epoch, device)\n",
    "    with torch.no_grad():\n",
    "        z_train = l1ae.encode(x_train)\n",
    "        z_test = l1ae.encode(x_test)\n",
    "\n",
    "    neigh = KNeighborsClassifier(n_neighbors=5)\n",
    "    neigh.fit(z_train, y_train)\n",
    "    y_hat = neigh.predict(z_test)\n",
    "    rs.append(recall_score(y_test, y_hat, average='macro'))\n",
    "    ps.append(precision_score(y_test, y_hat, average='macro'))\n",
    "    acs.append(accuracy_score(y_test, y_hat))\n",
    "\n",
    "print('recall = {:.2%} ± {:.2%}\\nprecision = {:.2%} ± {:.2%}\\naccuracy = {:.2%} ± {:.2%}'.format(\n",
    "    np.mean(rs), np.std(rs),\n",
    "    np.mean(ps), np.std(ps),\n",
    "    np.mean(acs), np.std(acs)\n",
    "    )\n",
    ")\n",
    "\n",
    "# lr = LogisticRegression()\n",
    "# lr.fit(z_train, y_train)\n",
    "# y_hat = lr.predict(z_test)\n",
    "# print('recall = {}, precision = {}'.format(\n",
    "#     recall_score(y_test, y_hat, average='macro'),\n",
    "#     precision_score(y_test, y_hat, average='macro')\n",
    "#     )\n",
    "# )"
   ]
  },
  {
   "cell_type": "code",
   "execution_count": 15,
   "metadata": {},
   "outputs": [
    {
     "name": "stderr",
     "output_type": "stream",
     "text": [
      "100%|██████████| 3/3 [00:07<00:00,  2.65s/it]\n"
     ]
    },
    {
     "name": "stdout",
     "output_type": "stream",
     "text": [
      "recall = 30.31% ± 3.43%\n",
      "precision = 28.79% ± 4.01%\n",
      "accuracy = 31.31% ± 3.41%\n"
     ]
    },
    {
     "name": "stderr",
     "output_type": "stream",
     "text": [
      "100%|██████████| 3/3 [00:08<00:00,  2.69s/it]\n"
     ]
    },
    {
     "name": "stdout",
     "output_type": "stream",
     "text": [
      "recall = 39.69% ± 9.58%\n",
      "precision = 37.75% ± 10.32%\n",
      "accuracy = 40.56% ± 9.49%\n"
     ]
    },
    {
     "name": "stderr",
     "output_type": "stream",
     "text": [
      "100%|██████████| 3/3 [00:07<00:00,  2.53s/it]\n"
     ]
    },
    {
     "name": "stdout",
     "output_type": "stream",
     "text": [
      "recall = 97.29% ± 0.08%\n",
      "precision = 97.33% ± 0.09%\n",
      "accuracy = 97.32% ± 0.08%\n"
     ]
    },
    {
     "name": "stderr",
     "output_type": "stream",
     "text": [
      "100%|██████████| 3/3 [00:07<00:00,  2.60s/it]\n"
     ]
    },
    {
     "name": "stdout",
     "output_type": "stream",
     "text": [
      "recall = 97.23% ± 0.04%\n",
      "precision = 97.27% ± 0.04%\n",
      "accuracy = 97.27% ± 0.04%\n"
     ]
    },
    {
     "name": "stderr",
     "output_type": "stream",
     "text": [
      "100%|██████████| 3/3 [00:07<00:00,  2.54s/it]"
     ]
    },
    {
     "name": "stdout",
     "output_type": "stream",
     "text": [
      "recall = 97.27% ± 0.01%\n",
      "precision = 97.30% ± 0.01%\n",
      "accuracy = 97.31% ± 0.01%\n"
     ]
    },
    {
     "name": "stderr",
     "output_type": "stream",
     "text": [
      "\n"
     ]
    }
   ],
   "source": [
    "for lam in [3e-2, 1e-2, 3e-3, 1e-3, 3e-4]:\n",
    "    rs, ps, acs = [], [], []\n",
    "    for cv in tqdm(cvs):\n",
    "        l1ae = load_l1(src, dataset_name, cv, lam, epoch, device)\n",
    "        with torch.no_grad():\n",
    "            z_train = l1ae.encode(x_train)\n",
    "            z_test = l1ae.encode(x_test)\n",
    "\n",
    "        neigh = KNeighborsClassifier(n_neighbors=5)\n",
    "        neigh.fit(z_train, y_train)\n",
    "        y_hat = neigh.predict(z_test)\n",
    "        rs.append(recall_score(y_test, y_hat, average='macro'))\n",
    "        ps.append(precision_score(y_test, y_hat, average='macro'))\n",
    "        acs.append(accuracy_score(y_test, y_hat))\n",
    "\n",
    "    print('recall = {:.2%} ± {:.2%}\\nprecision = {:.2%} ± {:.2%}\\naccuracy = {:.2%} ± {:.2%}'.format(\n",
    "        np.mean(rs), np.std(rs),\n",
    "        np.mean(ps), np.std(ps),\n",
    "        np.mean(acs), np.std(acs)\n",
    "        )\n",
    "    )"
   ]
  },
  {
   "cell_type": "code",
   "execution_count": 108,
   "metadata": {},
   "outputs": [
    {
     "name": "stderr",
     "output_type": "stream",
     "text": [
      "100%|██████████| 3/3 [00:07<00:00,  2.55s/it]"
     ]
    },
    {
     "name": "stdout",
     "output_type": "stream",
     "text": [
      "recall = 97.19% ± 0.02%\n",
      "precision = 97.22% ± 0.02%\n",
      "accuracy = 97.22% ± 0.02%\n"
     ]
    },
    {
     "name": "stderr",
     "output_type": "stream",
     "text": [
      "\n"
     ]
    }
   ],
   "source": [
    "rs, ps, acs = [], [], []\n",
    "for cv in tqdm(cvs):\n",
    "    lassoae = load_lasso(src, dataset_name, cv, 1e-2, epoch, device)\n",
    "    with torch.no_grad():\n",
    "        z_train = lassoae.encode(x_train)\n",
    "        z_test = lassoae.encode(x_test)\n",
    "\n",
    "    neigh = KNeighborsClassifier(n_neighbors=5)\n",
    "    neigh.fit(z_train, y_train)\n",
    "    y_hat = neigh.predict(z_test)\n",
    "    rs.append(recall_score(y_test, y_hat, average='macro'))\n",
    "    ps.append(precision_score(y_test, y_hat, average='macro'))\n",
    "    acs.append(accuracy_score(y_test, y_hat))\n",
    "\n",
    "print('recall = {:.2%} ± {:.2%}\\nprecision = {:.2%} ± {:.2%}\\naccuracy = {:.2%} ± {:.2%}'.format(\n",
    "    np.mean(rs), np.std(rs),\n",
    "    np.mean(ps), np.std(ps),\n",
    "    np.mean(acs), np.std(acs)\n",
    "    )\n",
    ")\n",
    "\n",
    "# lr = LogisticRegression()\n",
    "# lr.fit(z_train, y_train)\n",
    "# y_hat = lr.predict(z_test)\n",
    "# print('recall = {}, precision = {}'.format(\n",
    "#     recall_score(y_test, y_hat, average='macro'),\n",
    "#     precision_score(y_test, y_hat, average='macro')\n",
    "#     )\n",
    "# )"
   ]
  },
  {
   "cell_type": "code",
   "execution_count": 16,
   "metadata": {},
   "outputs": [
    {
     "name": "stderr",
     "output_type": "stream",
     "text": [
      "100%|██████████| 3/3 [00:07<00:00,  2.61s/it]\n"
     ]
    },
    {
     "name": "stdout",
     "output_type": "stream",
     "text": [
      "recall = 97.15% ± 0.14%\n",
      "precision = 97.18% ± 0.14%\n",
      "accuracy = 97.19% ± 0.14%\n"
     ]
    },
    {
     "name": "stderr",
     "output_type": "stream",
     "text": [
      "100%|██████████| 3/3 [00:08<00:00,  2.71s/it]\n"
     ]
    },
    {
     "name": "stdout",
     "output_type": "stream",
     "text": [
      "recall = 97.17% ± 0.12%\n",
      "precision = 97.19% ± 0.11%\n",
      "accuracy = 97.20% ± 0.11%\n"
     ]
    },
    {
     "name": "stderr",
     "output_type": "stream",
     "text": [
      "100%|██████████| 3/3 [00:07<00:00,  2.49s/it]\n"
     ]
    },
    {
     "name": "stdout",
     "output_type": "stream",
     "text": [
      "recall = 97.22% ± 0.14%\n",
      "precision = 97.24% ± 0.14%\n",
      "accuracy = 97.25% ± 0.14%\n"
     ]
    },
    {
     "name": "stderr",
     "output_type": "stream",
     "text": [
      "100%|██████████| 3/3 [00:08<00:00,  2.70s/it]\n"
     ]
    },
    {
     "name": "stdout",
     "output_type": "stream",
     "text": [
      "recall = 97.23% ± 0.13%\n",
      "precision = 97.26% ± 0.13%\n",
      "accuracy = 97.27% ± 0.13%\n"
     ]
    },
    {
     "name": "stderr",
     "output_type": "stream",
     "text": [
      "100%|██████████| 3/3 [00:07<00:00,  2.50s/it]"
     ]
    },
    {
     "name": "stdout",
     "output_type": "stream",
     "text": [
      "recall = 97.25% ± 0.13%\n",
      "precision = 97.28% ± 0.13%\n",
      "accuracy = 97.29% ± 0.13%\n"
     ]
    },
    {
     "name": "stderr",
     "output_type": "stream",
     "text": [
      "\n"
     ]
    }
   ],
   "source": [
    "for lam in [3e-2, 1e-2, 3e-3, 1e-3, 3e-4]:\n",
    "    for cv in tqdm(cvs):\n",
    "        lassoae = load_lasso(src, dataset_name, cv, lam, epoch, device)\n",
    "        with torch.no_grad():\n",
    "            z_train = lassoae.encode(x_train)\n",
    "            z_test = lassoae.encode(x_test)\n",
    "\n",
    "        neigh = KNeighborsClassifier(n_neighbors=5)\n",
    "        neigh.fit(z_train, y_train)\n",
    "        y_hat = neigh.predict(z_test)\n",
    "        rs.append(recall_score(y_test, y_hat, average='macro'))\n",
    "        ps.append(precision_score(y_test, y_hat, average='macro'))\n",
    "        acs.append(accuracy_score(y_test, y_hat))\n",
    "\n",
    "    print('recall = {:.2%} ± {:.2%}\\nprecision = {:.2%} ± {:.2%}\\naccuracy = {:.2%} ± {:.2%}'.format(\n",
    "        np.mean(rs), np.std(rs),\n",
    "        np.mean(ps), np.std(ps),\n",
    "        np.mean(acs), np.std(acs)\n",
    "        )\n",
    "    )"
   ]
  },
  {
   "cell_type": "code",
   "execution_count": 109,
   "metadata": {},
   "outputs": [
    {
     "name": "stderr",
     "output_type": "stream",
     "text": [
      "100%|██████████| 3/3 [00:07<00:00,  2.52s/it]"
     ]
    },
    {
     "name": "stdout",
     "output_type": "stream",
     "text": [
      "recall = 95.63% ± 0.20%\n",
      "precision = 95.70% ± 0.17%\n",
      "accuracy = 95.70% ± 0.19%\n"
     ]
    },
    {
     "name": "stderr",
     "output_type": "stream",
     "text": [
      "\n"
     ]
    }
   ],
   "source": [
    "rs, ps, acs = [], [], []\n",
    "for cv in tqdm(cvs):\n",
    "    stae = load_st(src, dataset_name, cv, 3e-2, epoch, device)\n",
    "    with torch.no_grad():\n",
    "        z_train = stae.encode(x_train)\n",
    "        z_test = stae.encode(x_test)\n",
    "\n",
    "    neigh = KNeighborsClassifier(n_neighbors=5)\n",
    "    neigh.fit(z_train, y_train)\n",
    "    y_hat = neigh.predict(z_test)\n",
    "    rs.append(recall_score(y_test, y_hat, average='macro'))\n",
    "    ps.append(precision_score(y_test, y_hat, average='macro'))\n",
    "    acs.append(accuracy_score(y_test, y_hat))\n",
    "\n",
    "print('recall = {:.2%} ± {:.2%}\\nprecision = {:.2%} ± {:.2%}\\naccuracy = {:.2%} ± {:.2%}'.format(\n",
    "    np.mean(rs), np.std(rs),\n",
    "    np.mean(ps), np.std(ps),\n",
    "    np.mean(acs), np.std(acs)\n",
    "    )\n",
    ")\n",
    "\n",
    "# lr = LogisticRegression()\n",
    "# lr.fit(z_train, y_train)\n",
    "# y_hat = lr.predict(z_test)\n",
    "# print('recall = {}, precision = {}'.format(\n",
    "#     recall_score(y_test, y_hat, average='macro'),\n",
    "#     precision_score(y_test, y_hat, average='macro')\n",
    "#     )\n",
    "# )"
   ]
  },
  {
   "cell_type": "code",
   "execution_count": 17,
   "metadata": {},
   "outputs": [
    {
     "name": "stderr",
     "output_type": "stream",
     "text": [
      "100%|██████████| 3/3 [00:07<00:00,  2.55s/it]\n"
     ]
    },
    {
     "name": "stdout",
     "output_type": "stream",
     "text": [
      "recall = 95.63% ± 0.20%\n",
      "precision = 95.70% ± 0.17%\n",
      "accuracy = 95.70% ± 0.19%\n"
     ]
    },
    {
     "name": "stderr",
     "output_type": "stream",
     "text": [
      "100%|██████████| 3/3 [00:07<00:00,  2.48s/it]\n"
     ]
    },
    {
     "name": "stdout",
     "output_type": "stream",
     "text": [
      "recall = 96.29% ± 0.13%\n",
      "precision = 96.34% ± 0.12%\n",
      "accuracy = 96.36% ± 0.12%\n"
     ]
    },
    {
     "name": "stderr",
     "output_type": "stream",
     "text": [
      "100%|██████████| 3/3 [00:07<00:00,  2.51s/it]\n"
     ]
    },
    {
     "name": "stdout",
     "output_type": "stream",
     "text": [
      "recall = 96.34% ± 0.04%\n",
      "precision = 96.39% ± 0.05%\n",
      "accuracy = 96.39% ± 0.04%\n"
     ]
    },
    {
     "name": "stderr",
     "output_type": "stream",
     "text": [
      "100%|██████████| 3/3 [00:07<00:00,  2.61s/it]\n"
     ]
    },
    {
     "name": "stdout",
     "output_type": "stream",
     "text": [
      "recall = 96.44% ± 0.14%\n",
      "precision = 96.49% ± 0.14%\n",
      "accuracy = 96.49% ± 0.13%\n"
     ]
    },
    {
     "name": "stderr",
     "output_type": "stream",
     "text": [
      "100%|██████████| 3/3 [00:07<00:00,  2.53s/it]"
     ]
    },
    {
     "name": "stdout",
     "output_type": "stream",
     "text": [
      "recall = 97.26% ± 0.09%\n",
      "precision = 97.29% ± 0.09%\n",
      "accuracy = 97.29% ± 0.09%\n"
     ]
    },
    {
     "name": "stderr",
     "output_type": "stream",
     "text": [
      "\n"
     ]
    }
   ],
   "source": [
    "for lam in [3e-2, 1e-2, 3e-3, 1e-3, 3e-4]:\n",
    "    rs, ps, acs = [], [], []\n",
    "    for cv in tqdm(cvs):\n",
    "        stae = load_st(src, dataset_name, cv, lam, epoch, device)\n",
    "        with torch.no_grad():\n",
    "            z_train = stae.encode(x_train)\n",
    "            z_test = stae.encode(x_test)\n",
    "\n",
    "        neigh = KNeighborsClassifier(n_neighbors=5)\n",
    "        neigh.fit(z_train, y_train)\n",
    "        y_hat = neigh.predict(z_test)\n",
    "        rs.append(recall_score(y_test, y_hat, average='macro'))\n",
    "        ps.append(precision_score(y_test, y_hat, average='macro'))\n",
    "        acs.append(accuracy_score(y_test, y_hat))\n",
    "\n",
    "    print('recall = {:.2%} ± {:.2%}\\nprecision = {:.2%} ± {:.2%}\\naccuracy = {:.2%} ± {:.2%}'.format(\n",
    "        np.mean(rs), np.std(rs),\n",
    "        np.mean(ps), np.std(ps),\n",
    "        np.mean(acs), np.std(acs)\n",
    "        )\n",
    "    )"
   ]
  },
  {
   "cell_type": "markdown",
   "metadata": {},
   "source": [
    "# CIFAR-10"
   ]
  },
  {
   "cell_type": "code",
   "execution_count": 18,
   "metadata": {},
   "outputs": [],
   "source": [
    "device = 'cpu'\n",
    "epoch = 999\n",
    "src = '../saves/image/'\n",
    "dataset_name = 'cifar10'\n",
    "cvs = ['cv0', 'cv1', 'cv2']"
   ]
  },
  {
   "cell_type": "code",
   "execution_count": 19,
   "metadata": {},
   "outputs": [],
   "source": [
    "x_train = CIFAR10Images(train=True, device=device)[:]\n",
    "x_test = CIFAR10Images(train=False, device=device)[:]\n",
    "y_train = torch.load('../data/cifar10/train_labels.pt')\n",
    "y_test = torch.load('../data/cifar10/test_labels.pt')"
   ]
  },
  {
   "cell_type": "code",
   "execution_count": 86,
   "metadata": {},
   "outputs": [
    {
     "name": "stdout",
     "output_type": "stream",
     "text": [
      "recall = 0.3398, precision = 0.43042618255284965, accuracy = 0.3398\n"
     ]
    }
   ],
   "source": [
    "neigh = KNeighborsClassifier(n_neighbors=5)\n",
    "neigh.fit(x_train.flatten(1), y_train)\n",
    "y_hat = neigh.predict(x_test.flatten(1))\n",
    "print('recall = {}, precision = {}, accuracy = {}'.format(\n",
    "    recall_score(y_test, y_hat, average='macro'),\n",
    "    precision_score(y_test, y_hat, average='macro'),\n",
    "    accuracy_score(y_test, y_hat)\n",
    "    )\n",
    ")"
   ]
  },
  {
   "cell_type": "markdown",
   "metadata": {},
   "source": [
    "### Vol"
   ]
  },
  {
   "cell_type": "code",
   "execution_count": 128,
   "metadata": {},
   "outputs": [
    {
     "name": "stderr",
     "output_type": "stream",
     "text": [
      "100%|██████████| 3/3 [01:40<00:00, 33.66s/it]"
     ]
    },
    {
     "name": "stdout",
     "output_type": "stream",
     "text": [
      "recall = 41.08% ± 0.41%\n",
      "precision = 42.15% ± 0.34%\n",
      "accuracy = 41.08% ± 0.41%\n"
     ]
    },
    {
     "name": "stderr",
     "output_type": "stream",
     "text": [
      "\n"
     ]
    }
   ],
   "source": [
    "rs, ps, acs = [], [], []\n",
    "for cv in tqdm(cvs):\n",
    "    volae = load_vol(src, dataset_name, cv, 3e-3, epoch, device) # 3e-3\n",
    "    with torch.no_grad():\n",
    "        z_train = volae.encode(x_train)\n",
    "        z_test = volae.encode(x_test)\n",
    "\n",
    "        # idx = torch.argsort(z_train.std(0), descending=True)[1300:]\n",
    "        # mean = z_train.mean(0)\n",
    "        # z_train[:, idx] = mean[idx]\n",
    "        # z_test[:, idx] = mean[idx]\n",
    "\n",
    "    neigh = KNeighborsClassifier(n_neighbors=5)\n",
    "    neigh.fit(z_train, y_train)\n",
    "    y_hat = neigh.predict(z_test)\n",
    "    rs.append(recall_score(y_test, y_hat, average='macro'))\n",
    "    ps.append(precision_score(y_test, y_hat, average='macro'))\n",
    "    acs.append(accuracy_score(y_test, y_hat))\n",
    "\n",
    "print('recall = {:.2%} ± {:.2%}\\nprecision = {:.2%} ± {:.2%}\\naccuracy = {:.2%} ± {:.2%}'.format(\n",
    "    np.mean(rs), np.std(rs),\n",
    "    np.mean(ps), np.std(ps),\n",
    "    np.mean(acs), np.std(acs)\n",
    "    )\n",
    ")"
   ]
  },
  {
   "cell_type": "code",
   "execution_count": 8,
   "metadata": {},
   "outputs": [
    {
     "name": "stderr",
     "output_type": "stream",
     "text": [
      "100%|██████████| 3/3 [00:44<00:00, 14.92s/it]\n"
     ]
    },
    {
     "name": "stdout",
     "output_type": "stream",
     "text": [
      "recall = 36.19% ± 0.20%\n",
      "precision = 43.08% ± 0.17%\n",
      "accuracy = 36.19% ± 0.20%\n"
     ]
    },
    {
     "name": "stderr",
     "output_type": "stream",
     "text": [
      "100%|██████████| 3/3 [00:46<00:00, 15.60s/it]\n"
     ]
    },
    {
     "name": "stdout",
     "output_type": "stream",
     "text": [
      "recall = 34.73% ± 0.59%\n",
      "precision = 41.29% ± 0.59%\n",
      "accuracy = 34.73% ± 0.59%\n"
     ]
    },
    {
     "name": "stderr",
     "output_type": "stream",
     "text": [
      "100%|██████████| 3/3 [00:46<00:00, 15.60s/it]\n"
     ]
    },
    {
     "name": "stdout",
     "output_type": "stream",
     "text": [
      "recall = 41.08% ± 0.41%\n",
      "precision = 42.15% ± 0.34%\n",
      "accuracy = 41.08% ± 0.41%\n"
     ]
    },
    {
     "name": "stderr",
     "output_type": "stream",
     "text": [
      "100%|██████████| 3/3 [00:44<00:00, 14.75s/it]\n"
     ]
    },
    {
     "name": "stdout",
     "output_type": "stream",
     "text": [
      "recall = 42.35% ± 0.20%\n",
      "precision = 43.72% ± 0.44%\n",
      "accuracy = 42.35% ± 0.20%\n"
     ]
    },
    {
     "name": "stderr",
     "output_type": "stream",
     "text": [
      "100%|██████████| 3/3 [00:44<00:00, 14.79s/it]"
     ]
    },
    {
     "name": "stdout",
     "output_type": "stream",
     "text": [
      "recall = 44.07% ± 0.11%\n",
      "precision = 45.19% ± 0.10%\n",
      "accuracy = 44.07% ± 0.11%\n"
     ]
    },
    {
     "name": "stderr",
     "output_type": "stream",
     "text": [
      "\n"
     ]
    }
   ],
   "source": [
    "for lam in [3e-2, 1e-2, 3e-3, 1e-3, 3e-4]:\n",
    "    rs, ps, acs = [], [], []\n",
    "    for cv in tqdm(cvs):\n",
    "        volae = load_vol(src, dataset_name, cv, lam, epoch, device) # 3e-3\n",
    "        with torch.no_grad():\n",
    "            z_train = volae.encode(x_train)\n",
    "            z_test = volae.encode(x_test)\n",
    "\n",
    "        neigh = KNeighborsClassifier(n_neighbors=5)\n",
    "        neigh.fit(z_train, y_train)\n",
    "        y_hat = neigh.predict(z_test)\n",
    "        rs.append(recall_score(y_test, y_hat, average='macro'))\n",
    "        ps.append(precision_score(y_test, y_hat, average='macro'))\n",
    "        acs.append(accuracy_score(y_test, y_hat))\n",
    "\n",
    "    print('recall = {:.2%} ± {:.2%}\\nprecision = {:.2%} ± {:.2%}\\naccuracy = {:.2%} ± {:.2%}'.format(\n",
    "        np.mean(rs), np.std(rs),\n",
    "        np.mean(ps), np.std(ps),\n",
    "        np.mean(acs), np.std(acs)\n",
    "        )\n",
    "    )"
   ]
  },
  {
   "cell_type": "code",
   "execution_count": 29,
   "metadata": {},
   "outputs": [
    {
     "name": "stderr",
     "output_type": "stream",
     "text": [
      "100%|██████████| 1/1 [00:09<00:00,  9.89s/it]\n"
     ]
    },
    {
     "data": {
      "image/png": "[encoded data removed]",
      "text/plain": [
       "<Figure size 640x480 with 1 Axes>"
      ]
     },
     "metadata": {},
     "output_type": "display_data"
    }
   ],
   "source": [
    "for cv in tqdm(cvs[:1]):\n",
    "    stae = load_vol(src, dataset_name, cv, 3e-4, epoch, device)\n",
    "    with torch.no_grad():\n",
    "        z_train = stae.encode(x_train)\n",
    "        z_test = stae.encode(x_test)\n",
    "\n",
    "pca = PCA().fit(z_test)\n",
    "\n",
    "plt.bar(range(2000), pca.singular_values_[:2000])\n",
    "plt.yscale('log')\n",
    "plt.show()"
   ]
  },
  {
   "cell_type": "markdown",
   "metadata": {},
   "source": [
    "### L1"
   ]
  },
  {
   "cell_type": "code",
   "execution_count": 116,
   "metadata": {},
   "outputs": [
    {
     "name": "stderr",
     "output_type": "stream",
     "text": [
      "100%|██████████| 3/3 [00:42<00:00, 14.08s/it]"
     ]
    },
    {
     "name": "stdout",
     "output_type": "stream",
     "text": [
      "recall = 34.40% ± 0.09%\n",
      "precision = 41.93% ± 0.11%\n",
      "accuracy = 34.40% ± 0.09%\n"
     ]
    },
    {
     "name": "stderr",
     "output_type": "stream",
     "text": [
      "\n"
     ]
    }
   ],
   "source": [
    "rs, ps, acs = [], [], []\n",
    "for cv in tqdm(cvs):\n",
    "    l1ae = load_l1(src, dataset_name, cv, 3e-3, epoch, device)\n",
    "    with torch.no_grad():\n",
    "        z_train = l1ae.encode(x_train)\n",
    "        z_test = l1ae.encode(x_test)\n",
    "\n",
    "    neigh = KNeighborsClassifier(n_neighbors=5)\n",
    "    neigh.fit(z_train, y_train)\n",
    "    y_hat = neigh.predict(z_test)\n",
    "    rs.append(recall_score(y_test, y_hat, average='macro'))\n",
    "    ps.append(precision_score(y_test, y_hat, average='macro'))\n",
    "    acs.append(accuracy_score(y_test, y_hat))\n",
    "\n",
    "print('recall = {:.2%} ± {:.2%}\\nprecision = {:.2%} ± {:.2%}\\naccuracy = {:.2%} ± {:.2%}'.format(\n",
    "    np.mean(rs), np.std(rs),\n",
    "    np.mean(ps), np.std(ps),\n",
    "    np.mean(acs), np.std(acs)\n",
    "    )\n",
    ")"
   ]
  },
  {
   "cell_type": "code",
   "execution_count": 9,
   "metadata": {},
   "outputs": [
    {
     "name": "stderr",
     "output_type": "stream",
     "text": [
      "100%|██████████| 3/3 [00:42<00:00, 14.10s/it]\n"
     ]
    },
    {
     "name": "stdout",
     "output_type": "stream",
     "text": [
      "recall = 36.71% ± 0.10%\n",
      "precision = 43.40% ± 0.17%\n",
      "accuracy = 36.71% ± 0.10%\n"
     ]
    },
    {
     "name": "stderr",
     "output_type": "stream",
     "text": [
      "100%|██████████| 3/3 [00:42<00:00, 14.15s/it]\n"
     ]
    },
    {
     "name": "stdout",
     "output_type": "stream",
     "text": [
      "recall = 34.90% ± 0.14%\n",
      "precision = 42.42% ± 0.07%\n",
      "accuracy = 34.90% ± 0.14%\n"
     ]
    },
    {
     "name": "stderr",
     "output_type": "stream",
     "text": [
      "100%|██████████| 3/3 [00:43<00:00, 14.59s/it]\n"
     ]
    },
    {
     "name": "stdout",
     "output_type": "stream",
     "text": [
      "recall = 34.40% ± 0.09%\n",
      "precision = 41.93% ± 0.11%\n",
      "accuracy = 34.40% ± 0.09%\n"
     ]
    },
    {
     "name": "stderr",
     "output_type": "stream",
     "text": [
      "100%|██████████| 3/3 [00:42<00:00, 14.18s/it]\n"
     ]
    },
    {
     "name": "stdout",
     "output_type": "stream",
     "text": [
      "recall = 34.27% ± 0.11%\n",
      "precision = 41.94% ± 0.19%\n",
      "accuracy = 34.27% ± 0.11%\n"
     ]
    },
    {
     "name": "stderr",
     "output_type": "stream",
     "text": [
      "100%|██████████| 3/3 [00:41<00:00, 13.90s/it]"
     ]
    },
    {
     "name": "stdout",
     "output_type": "stream",
     "text": [
      "recall = 35.47% ± 1.78%\n",
      "precision = 42.92% ± 0.94%\n",
      "accuracy = 35.47% ± 1.78%\n"
     ]
    },
    {
     "name": "stderr",
     "output_type": "stream",
     "text": [
      "\n"
     ]
    }
   ],
   "source": [
    "for lam in [3e-2, 1e-2, 3e-3, 1e-3, 3e-4]:\n",
    "    rs, ps, acs = [], [], []\n",
    "    for cv in tqdm(cvs):\n",
    "        l1ae = load_l1(src, dataset_name, cv, lam, epoch, device)\n",
    "        with torch.no_grad():\n",
    "            z_train = l1ae.encode(x_train)\n",
    "            z_test = l1ae.encode(x_test)\n",
    "\n",
    "        neigh = KNeighborsClassifier(n_neighbors=5)\n",
    "        neigh.fit(z_train, y_train)\n",
    "        y_hat = neigh.predict(z_test)\n",
    "        rs.append(recall_score(y_test, y_hat, average='macro'))\n",
    "        ps.append(precision_score(y_test, y_hat, average='macro'))\n",
    "        acs.append(accuracy_score(y_test, y_hat))\n",
    "\n",
    "    print('recall = {:.2%} ± {:.2%}\\nprecision = {:.2%} ± {:.2%}\\naccuracy = {:.2%} ± {:.2%}'.format(\n",
    "        np.mean(rs), np.std(rs),\n",
    "        np.mean(ps), np.std(ps),\n",
    "        np.mean(acs), np.std(acs)\n",
    "        )\n",
    "    )"
   ]
  },
  {
   "cell_type": "code",
   "execution_count": 30,
   "metadata": {},
   "outputs": [
    {
     "name": "stderr",
     "output_type": "stream",
     "text": [
      "100%|██████████| 1/1 [00:10<00:00, 10.10s/it]\n"
     ]
    },
    {
     "data": {
      "image/png": "[encoded data removed]",
      "text/plain": [
       "<Figure size 640x480 with 1 Axes>"
      ]
     },
     "metadata": {},
     "output_type": "display_data"
    }
   ],
   "source": [
    "for cv in tqdm(cvs[:1]):\n",
    "    stae = load_l1(src, dataset_name, cv, 3e-4, epoch, device)\n",
    "    with torch.no_grad():\n",
    "        z_train = stae.encode(x_train)\n",
    "        z_test = stae.encode(x_test)\n",
    "\n",
    "pca = PCA().fit(z_test)\n",
    "\n",
    "plt.bar(range(2000), pca.singular_values_[:2000])\n",
    "plt.yscale('log')\n",
    "plt.show()"
   ]
  },
  {
   "cell_type": "markdown",
   "metadata": {},
   "source": [
    "### Lasso"
   ]
  },
  {
   "cell_type": "code",
   "execution_count": 94,
   "metadata": {},
   "outputs": [
    {
     "name": "stderr",
     "output_type": "stream",
     "text": [
      "100%|██████████| 3/3 [00:42<00:00, 14.15s/it]"
     ]
    },
    {
     "name": "stdout",
     "output_type": "stream",
     "text": [
      "recall = 34.34% ± 0.23%\n",
      "precision = 41.97% ± 0.43%\n",
      "accuracy = 34.34% ± 0.23%\n"
     ]
    },
    {
     "name": "stderr",
     "output_type": "stream",
     "text": [
      "\n"
     ]
    }
   ],
   "source": [
    "rs, ps, acs = [], [], []\n",
    "for cv in tqdm(cvs):\n",
    "    lassoae = load_lasso(src, dataset_name, cv, 3e-3, epoch, device)\n",
    "    with torch.no_grad():\n",
    "        z_train = lassoae.encode(x_train)\n",
    "        z_test = lassoae.encode(x_test)\n",
    "\n",
    "    neigh = KNeighborsClassifier(n_neighbors=5)\n",
    "    neigh.fit(z_train, y_train)\n",
    "    y_hat = neigh.predict(z_test)\n",
    "    rs.append(recall_score(y_test, y_hat, average='macro'))\n",
    "    ps.append(precision_score(y_test, y_hat, average='macro'))\n",
    "    acs.append(accuracy_score(y_test, y_hat))\n",
    "\n",
    "print('recall = {:.2%} ± {:.2%}\\nprecision = {:.2%} ± {:.2%}\\naccuracy = {:.2%} ± {:.2%}'.format(\n",
    "    np.mean(rs), np.std(rs),\n",
    "    np.mean(ps), np.std(ps),\n",
    "    np.mean(acs), np.std(acs)\n",
    "    )\n",
    ")"
   ]
  },
  {
   "cell_type": "code",
   "execution_count": 10,
   "metadata": {},
   "outputs": [
    {
     "name": "stderr",
     "output_type": "stream",
     "text": [
      "100%|██████████| 3/3 [00:43<00:00, 14.61s/it]\n"
     ]
    },
    {
     "name": "stdout",
     "output_type": "stream",
     "text": [
      "recall = 35.67% ± 1.28%\n",
      "precision = 42.92% ± 0.68%\n",
      "accuracy = 35.68% ± 1.28%\n"
     ]
    },
    {
     "name": "stderr",
     "output_type": "stream",
     "text": [
      "100%|██████████| 3/3 [00:41<00:00, 13.77s/it]\n"
     ]
    },
    {
     "name": "stdout",
     "output_type": "stream",
     "text": [
      "recall = 35.25% ± 1.20%\n",
      "precision = 42.52% ± 0.80%\n",
      "accuracy = 35.25% ± 1.20%\n"
     ]
    },
    {
     "name": "stderr",
     "output_type": "stream",
     "text": [
      "100%|██████████| 3/3 [00:41<00:00, 13.70s/it]\n"
     ]
    },
    {
     "name": "stdout",
     "output_type": "stream",
     "text": [
      "recall = 35.02% ± 1.12%\n",
      "precision = 42.38% ± 0.76%\n",
      "accuracy = 35.02% ± 1.12%\n"
     ]
    },
    {
     "name": "stderr",
     "output_type": "stream",
     "text": [
      "100%|██████████| 3/3 [00:43<00:00, 14.38s/it]\n"
     ]
    },
    {
     "name": "stdout",
     "output_type": "stream",
     "text": [
      "recall = 35.41% ± 1.29%\n",
      "precision = 42.51% ± 0.74%\n",
      "accuracy = 35.41% ± 1.29%\n"
     ]
    },
    {
     "name": "stderr",
     "output_type": "stream",
     "text": [
      "100%|██████████| 3/3 [00:43<00:00, 14.40s/it]"
     ]
    },
    {
     "name": "stdout",
     "output_type": "stream",
     "text": [
      "recall = 36.74% ± 3.19%\n",
      "precision = 43.04% ± 1.37%\n",
      "accuracy = 36.74% ± 3.19%\n"
     ]
    },
    {
     "name": "stderr",
     "output_type": "stream",
     "text": [
      "\n"
     ]
    }
   ],
   "source": [
    "for lam in [3e-2, 1e-2, 3e-3, 1e-3, 3e-4]:\n",
    "    for cv in tqdm(cvs):\n",
    "        lassoae = load_lasso(src, dataset_name, cv, lam, epoch, device)\n",
    "        with torch.no_grad():\n",
    "            z_train = lassoae.encode(x_train)\n",
    "            z_test = lassoae.encode(x_test)\n",
    "\n",
    "        neigh = KNeighborsClassifier(n_neighbors=5)\n",
    "        neigh.fit(z_train, y_train)\n",
    "        y_hat = neigh.predict(z_test)\n",
    "        rs.append(recall_score(y_test, y_hat, average='macro'))\n",
    "        ps.append(precision_score(y_test, y_hat, average='macro'))\n",
    "        acs.append(accuracy_score(y_test, y_hat))\n",
    "\n",
    "    print('recall = {:.2%} ± {:.2%}\\nprecision = {:.2%} ± {:.2%}\\naccuracy = {:.2%} ± {:.2%}'.format(\n",
    "        np.mean(rs), np.std(rs),\n",
    "        np.mean(ps), np.std(ps),\n",
    "        np.mean(acs), np.std(acs)\n",
    "        )\n",
    "    )"
   ]
  },
  {
   "cell_type": "code",
   "execution_count": 31,
   "metadata": {},
   "outputs": [
    {
     "name": "stderr",
     "output_type": "stream",
     "text": [
      "100%|██████████| 1/1 [00:10<00:00, 10.67s/it]\n"
     ]
    },
    {
     "data": {
      "image/png": "[encoded data removed]",
      "text/plain": [
       "<Figure size 640x480 with 1 Axes>"
      ]
     },
     "metadata": {},
     "output_type": "display_data"
    }
   ],
   "source": [
    "for cv in tqdm(cvs[:1]):\n",
    "    stae = load_lasso(src, dataset_name, cv, 3e-4, epoch, device)\n",
    "    with torch.no_grad():\n",
    "        z_train = stae.encode(x_train)\n",
    "        z_test = stae.encode(x_test)\n",
    "\n",
    "pca = PCA().fit(z_test)\n",
    "\n",
    "plt.bar(range(2000), pca.singular_values_[:2000])\n",
    "plt.yscale('log')\n",
    "plt.show()"
   ]
  },
  {
   "cell_type": "markdown",
   "metadata": {},
   "source": [
    "#### ST"
   ]
  },
  {
   "cell_type": "code",
   "execution_count": 95,
   "metadata": {},
   "outputs": [
    {
     "name": "stderr",
     "output_type": "stream",
     "text": [
      "100%|██████████| 3/3 [00:43<00:00, 14.44s/it]"
     ]
    },
    {
     "name": "stdout",
     "output_type": "stream",
     "text": [
      "recall = 34.96% ± 1.57%\n",
      "precision = 37.64% ± 0.09%\n",
      "accuracy = 34.96% ± 1.57%\n"
     ]
    },
    {
     "name": "stderr",
     "output_type": "stream",
     "text": [
      "\n"
     ]
    }
   ],
   "source": [
    "rs, ps, acs = [], [], []\n",
    "for cv in tqdm(cvs):\n",
    "    stae = load_st(src, dataset_name, cv, 3e-2, epoch, device)\n",
    "    with torch.no_grad():\n",
    "        z_train = stae.encode(x_train)\n",
    "        z_test = stae.encode(x_test)\n",
    "\n",
    "    neigh = KNeighborsClassifier(n_neighbors=5)\n",
    "    neigh.fit(z_train, y_train)\n",
    "    y_hat = neigh.predict(z_test)\n",
    "    rs.append(recall_score(y_test, y_hat, average='macro'))\n",
    "    ps.append(precision_score(y_test, y_hat, average='macro'))\n",
    "    acs.append(accuracy_score(y_test, y_hat))\n",
    "\n",
    "print('recall = {:.2%} ± {:.2%}\\nprecision = {:.2%} ± {:.2%}\\naccuracy = {:.2%} ± {:.2%}'.format(\n",
    "    np.mean(rs), np.std(rs),\n",
    "    np.mean(ps), np.std(ps),\n",
    "    np.mean(acs), np.std(acs)\n",
    "    )\n",
    ")"
   ]
  },
  {
   "cell_type": "code",
   "execution_count": 11,
   "metadata": {},
   "outputs": [
    {
     "name": "stderr",
     "output_type": "stream",
     "text": [
      "100%|██████████| 3/3 [00:41<00:00, 13.84s/it]\n"
     ]
    },
    {
     "name": "stdout",
     "output_type": "stream",
     "text": [
      "recall = 34.96% ± 1.57%\n",
      "precision = 37.64% ± 0.09%\n",
      "accuracy = 34.96% ± 1.57%\n"
     ]
    },
    {
     "name": "stderr",
     "output_type": "stream",
     "text": [
      "100%|██████████| 3/3 [00:43<00:00, 14.36s/it]\n"
     ]
    },
    {
     "name": "stdout",
     "output_type": "stream",
     "text": [
      "recall = 40.47% ± 0.43%\n",
      "precision = 41.34% ± 0.36%\n",
      "accuracy = 40.47% ± 0.43%\n"
     ]
    },
    {
     "name": "stderr",
     "output_type": "stream",
     "text": [
      "100%|██████████| 3/3 [00:43<00:00, 14.41s/it]\n"
     ]
    },
    {
     "name": "stdout",
     "output_type": "stream",
     "text": [
      "recall = 40.78% ± 0.14%\n",
      "precision = 41.99% ± 0.15%\n",
      "accuracy = 40.78% ± 0.14%\n"
     ]
    },
    {
     "name": "stderr",
     "output_type": "stream",
     "text": [
      "100%|██████████| 3/3 [00:42<00:00, 14.33s/it]\n"
     ]
    },
    {
     "name": "stdout",
     "output_type": "stream",
     "text": [
      "recall = 42.02% ± 0.38%\n",
      "precision = 42.81% ± 0.63%\n",
      "accuracy = 42.02% ± 0.38%\n"
     ]
    },
    {
     "name": "stderr",
     "output_type": "stream",
     "text": [
      "100%|██████████| 3/3 [00:41<00:00, 13.72s/it]"
     ]
    },
    {
     "name": "stdout",
     "output_type": "stream",
     "text": [
      "recall = 44.07% ± 0.41%\n",
      "precision = 44.99% ± 0.36%\n",
      "accuracy = 44.07% ± 0.41%\n"
     ]
    },
    {
     "name": "stderr",
     "output_type": "stream",
     "text": [
      "\n"
     ]
    }
   ],
   "source": [
    "for lam in [3e-2, 1e-2, 3e-3, 1e-3, 3e-4]:\n",
    "    rs, ps, acs = [], [], []\n",
    "    for cv in tqdm(cvs):\n",
    "        stae = load_st(src, dataset_name, cv, lam, epoch, device)\n",
    "        with torch.no_grad():\n",
    "            z_train = stae.encode(x_train)\n",
    "            z_test = stae.encode(x_test)\n",
    "\n",
    "        neigh = KNeighborsClassifier(n_neighbors=5)\n",
    "        neigh.fit(z_train, y_train)\n",
    "        y_hat = neigh.predict(z_test)\n",
    "        rs.append(recall_score(y_test, y_hat, average='macro'))\n",
    "        ps.append(precision_score(y_test, y_hat, average='macro'))\n",
    "        acs.append(accuracy_score(y_test, y_hat))\n",
    "\n",
    "    print('recall = {:.2%} ± {:.2%}\\nprecision = {:.2%} ± {:.2%}\\naccuracy = {:.2%} ± {:.2%}'.format(\n",
    "        np.mean(rs), np.std(rs),\n",
    "        np.mean(ps), np.std(ps),\n",
    "        np.mean(acs), np.std(acs)\n",
    "        )\n",
    "    )"
   ]
  },
  {
   "cell_type": "code",
   "execution_count": 32,
   "metadata": {},
   "outputs": [
    {
     "name": "stderr",
     "output_type": "stream",
     "text": [
      "100%|██████████| 1/1 [00:09<00:00,  9.80s/it]\n"
     ]
    },
    {
     "data": {
      "image/png": "[encoded data removed]",
      "text/plain": [
       "<Figure size 640x480 with 1 Axes>"
      ]
     },
     "metadata": {},
     "output_type": "display_data"
    }
   ],
   "source": [
    "for cv in tqdm(cvs[:1]):\n",
    "    stae = load_st(src, dataset_name, cv, 3e-4, epoch, device)\n",
    "    with torch.no_grad():\n",
    "        z_train = stae.encode(x_train)\n",
    "        z_test = stae.encode(x_test)\n",
    "\n",
    "pca = PCA().fit(z_test)\n",
    "\n",
    "plt.bar(range(2000), pca.singular_values_[:2000])\n",
    "plt.yscale('log')\n",
    "plt.show()"
   ]
  },
  {
   "cell_type": "markdown",
   "metadata": {},
   "source": [
    "# CelebA"
   ]
  },
  {
   "cell_type": "code",
   "execution_count": 22,
   "metadata": {},
   "outputs": [],
   "source": [
    "device = 'cpu'\n",
    "epoch = 199\n",
    "src = '../saves/image/'\n",
    "dataset_name = 'celeba'\n",
    "cvs = ['cv0', 'cv1', 'cv2']"
   ]
  },
  {
   "cell_type": "code",
   "execution_count": 23,
   "metadata": {},
   "outputs": [],
   "source": [
    "x_train = CelebAImages(train=True, device=device)[:]\n",
    "x_test = CelebAImages(train=False, device=device)[:]\n",
    "y_train = torch.load('../data/celeba/train_labels.pt')\n",
    "y_test = torch.load('../data/celeba/test_labels.pt')"
   ]
  },
  {
   "cell_type": "code",
   "execution_count": 24,
   "metadata": {},
   "outputs": [
    {
     "name": "stdout",
     "output_type": "stream",
     "text": [
      "recall = 0.32140004186349114, precision = 0.49068835585929005, accuracy = 0.0017032361486824968\n"
     ]
    }
   ],
   "source": [
    "neigh = KNeighborsClassifier(n_neighbors=50)\n",
    "neigh.fit(x_train.flatten(1), y_train)\n",
    "y_hat = neigh.predict(x_test.flatten(1))\n",
    "print('recall = {}, precision = {}, accuracy = {}'.format(\n",
    "    recall_score(y_test, y_hat, average='macro'),\n",
    "    precision_score(y_test, y_hat, average='macro'),\n",
    "    accuracy_score(y_test, y_hat)\n",
    "    )\n",
    ")"
   ]
  },
  {
   "cell_type": "code",
   "execution_count": 39,
   "metadata": {},
   "outputs": [
    {
     "name": "stderr",
     "output_type": "stream",
     "text": [
      "100%|██████████| 3/3 [02:13<00:00, 44.50s/it]"
     ]
    },
    {
     "name": "stdout",
     "output_type": "stream",
     "text": [
      "recall = 30.44% ± 0.34%\n",
      "precision = 47.58% ± 0.32%\n",
      "accuracy = 0.17% ± 0.01%\n"
     ]
    },
    {
     "name": "stderr",
     "output_type": "stream",
     "text": [
      "\n"
     ]
    }
   ],
   "source": [
    "rs, ps, acs = [], [], []\n",
    "for cv in tqdm(cvs):\n",
    "    volae = load_vol2(src, dataset_name, cv, 1e-3, epoch, device)\n",
    "    with torch.no_grad():\n",
    "        z_train = volae.encode(x_train)\n",
    "        z_test = volae.encode(x_test)\n",
    "\n",
    "        # idx = torch.argsort(z_train.std(0), descending=True)[1300:]\n",
    "        # mean = z_train.mean(0)\n",
    "        # z_train[:, idx] = mean[idx]\n",
    "        # z_test[:, idx] = mean[idx]\n",
    "\n",
    "    neigh = KNeighborsClassifier(n_neighbors=5)\n",
    "    neigh.fit(z_train, y_train)\n",
    "    y_hat = neigh.predict(z_test)\n",
    "    rs.append(recall_score(y_test, y_hat, average='macro'))\n",
    "    ps.append(precision_score(y_test, y_hat, average='macro'))\n",
    "    acs.append(accuracy_score(y_test, y_hat))\n",
    "\n",
    "print('recall = {:.2%} ± {:.2%}\\nprecision = {:.2%} ± {:.2%}\\naccuracy = {:.2%} ± {:.2%}'.format(\n",
    "    np.mean(rs), np.std(rs),\n",
    "    np.mean(ps), np.std(ps),\n",
    "    np.mean(acs), np.std(acs)\n",
    "    )\n",
    ")"
   ]
  },
  {
   "cell_type": "code",
   "execution_count": 36,
   "metadata": {},
   "outputs": [
    {
     "name": "stderr",
     "output_type": "stream",
     "text": [
      "100%|██████████| 3/3 [02:28<00:00, 49.36s/it]"
     ]
    },
    {
     "name": "stdout",
     "output_type": "stream",
     "text": [
      "recall = 31.28% ± 0.01%\n",
      "precision = 48.25% ± 0.10%\n",
      "accuracy = 0.12% ± 0.01%\n"
     ]
    },
    {
     "name": "stderr",
     "output_type": "stream",
     "text": [
      "\n"
     ]
    }
   ],
   "source": [
    "rs, ps, acs = [], [], []\n",
    "for cv in tqdm(cvs):\n",
    "    l1ae = load_l12(src, dataset_name, cv, 3e-3, epoch, device)\n",
    "    with torch.no_grad():\n",
    "        z_train = l1ae.encode(x_train)\n",
    "        z_test = l1ae.encode(x_test)\n",
    "\n",
    "    neigh = KNeighborsClassifier(n_neighbors=5)\n",
    "    neigh.fit(z_train, y_train)\n",
    "    y_hat = neigh.predict(z_test)\n",
    "    rs.append(recall_score(y_test, y_hat, average='macro'))\n",
    "    ps.append(precision_score(y_test, y_hat, average='macro'))\n",
    "    acs.append(accuracy_score(y_test, y_hat))\n",
    "\n",
    "print('recall = {:.2%} ± {:.2%}\\nprecision = {:.2%} ± {:.2%}\\naccuracy = {:.2%} ± {:.2%}'.format(\n",
    "    np.mean(rs), np.std(rs),\n",
    "    np.mean(ps), np.std(ps),\n",
    "    np.mean(acs), np.std(acs)\n",
    "    )\n",
    ")"
   ]
  },
  {
   "cell_type": "code",
   "execution_count": null,
   "metadata": {},
   "outputs": [],
   "source": [
    "rs, ps, acs = [], [], []\n",
    "for cv in tqdm(cvs):\n",
    "    lassoae = load_lasso(src, dataset_name, cv, 3e-3, epoch, device)\n",
    "    with torch.no_grad():\n",
    "        z_train = lassoae.encode(x_train)\n",
    "        z_test = lassoae.encode(x_test)\n",
    "\n",
    "    neigh = KNeighborsClassifier(n_neighbors=5)\n",
    "    neigh.fit(z_train, y_train)\n",
    "    y_hat = neigh.predict(z_test)\n",
    "    rs.append(recall_score(y_test, y_hat, average='macro'))\n",
    "    ps.append(precision_score(y_test, y_hat, average='macro'))\n",
    "    acs.append(accuracy_score(y_test, y_hat))\n",
    "\n",
    "print('recall = {:.2%} ± {:.2%}\\nprecision = {:.2%} ± {:.2%}\\naccuracy = {:.2%} ± {:.2%}'.format(\n",
    "    np.mean(rs), np.std(rs),\n",
    "    np.mean(ps), np.std(ps),\n",
    "    np.mean(acs), np.std(acs)\n",
    "    )\n",
    ")"
   ]
  }
 ],
 "metadata": {
  "kernelspec": {
   "display_name": "toilet",
   "language": "python",
   "name": "python3"
  },
  "language_info": {
   "codemirror_mode": {
    "name": "ipython",
    "version": 3
   },
   "file_extension": ".py",
   "mimetype": "text/x-python",
   "name": "python",
   "nbconvert_exporter": "python",
   "pygments_lexer": "ipython3",
   "version": "3.10.10"
  },
  "orig_nbformat": 4
 },
 "nbformat": 4,
 "nbformat_minor": 2
}
