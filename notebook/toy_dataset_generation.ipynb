{
 "cells": [
  {
   "cell_type": "code",
   "execution_count": 1,
   "metadata": {},
   "outputs": [],
   "source": [
    "import torch\n",
    "import torch.nn as nn\n",
    "import numpy as np\n",
    "import sys; sys.path.append('../src/')\n",
    "import os\n",
    "from model.cmpnts import MLP\n",
    "from scipy.stats import ortho_group\n",
    "import matplotlib.pyplot as plt\n",
    "from math import sqrt"
   ]
  },
  {
   "cell_type": "code",
   "execution_count": 2,
   "metadata": {},
   "outputs": [],
   "source": [
    "data_dir = '../data/toy_new'"
   ]
  },
  {
   "cell_type": "code",
   "execution_count": 3,
   "metadata": {},
   "outputs": [],
   "source": [
    "def nonlinearity(dataset, epsilon=1.): # epsilon can be set to the groundtruth LD manifold's average std.\n",
    "    X = dataset[:]\n",
    "    _, s, _ = torch.svd(X - X.mean(0), compute_uv=False)\n",
    "    return s.max() / s.min(), s.min() / epsilon, epsilon, s"
   ]
  },
  {
   "cell_type": "code",
   "execution_count": 4,
   "metadata": {},
   "outputs": [],
   "source": [
    "@ torch.no_grad()\n",
    "def save_dataset(X, Y, i):\n",
    "    in_dim = Y.in_dim\n",
    "    out_dim = Y.out_dim\n",
    "    path = os.path.join(data_dir, '{}-manifold'.format(in_dim), '{}-ambient'.format(out_dim))\n",
    "    os.makedirs(path, exist_ok=True)\n",
    "    \n",
    "    data_path = os.path.join(path, '{}-{}_{}.npy'.format(in_dim, out_dim, i))\n",
    "    report_path = os.path.join(path, '{}-{}_{}.txt'.format(in_dim, out_dim, i))\n",
    "    np.save(data_path, Y[:].detach().cpu().numpy())\n",
    "    \n",
    "    _, s_x, _ = torch.svd(X - X.mean(), compute_uv=False)\n",
    "    dis, ratio, eps, s = nonlinearity(Y, epsilon=s_x.mean())\n",
    "    with open(report_path, 'w') as report:\n",
    "        report.write('s.max / s.min = {}\\n'.format(dis))\n",
    "        report.write('s.min / x.s.mean = {}\\n'.format(ratio))\n",
    "        report.write('x.s.mean = {}\\n'.format(eps / sqrt(len(X))))\n",
    "        report.write('singular values = {}'.format(s.sort()[0].flip(0) / sqrt(len(X))))"
   ]
  },
  {
   "attachments": {},
   "cell_type": "markdown",
   "metadata": {},
   "source": [
    "# Nonlinear Dataset"
   ]
  },
  {
   "cell_type": "code",
   "execution_count": 5,
   "metadata": {},
   "outputs": [],
   "source": [
    "from dataset.toy import IsometricEmbedding\n",
    "from model.flow import _RealNVP"
   ]
  },
  {
   "cell_type": "code",
   "execution_count": 26,
   "metadata": {},
   "outputs": [],
   "source": [
    "def build_flow(out_dim, n=10, w=256):\n",
    "    nets = lambda: nn.Sequential(\n",
    "        nn.Linear(out_dim, w), nn.SiLU(), # SiLU\n",
    "        nn.Linear(w, w), nn.SiLU(),\n",
    "        nn.Linear(w, w), nn.SiLU(),\n",
    "        nn.Linear(w, out_dim), nn.Tanh()) # must be tanh\n",
    "    nett = lambda: nn.Sequential(\n",
    "        nn.Linear(out_dim, w), nn.SiLU(), \n",
    "        nn.Linear(w, w), nn.SiLU(),\n",
    "        nn.Linear(w, w), nn.SiLU(),\n",
    "        nn.Linear(w, out_dim))\n",
    "    masks = torch.as_tensor([\n",
    "        [0]*(out_dim//2) + [1]*(out_dim//2), \n",
    "        [1]*(out_dim//2) + [0]*(out_dim//2)] * n, dtype=torch.float)\n",
    "    flow = _RealNVP(nets, nett, masks)\n",
    "    return flow"
   ]
  },
  {
   "cell_type": "code",
   "execution_count": 29,
   "metadata": {},
   "outputs": [
    {
     "name": "stdout",
     "output_type": "stream",
     "text": [
      "1 -> 2 (0)\n"
     ]
    },
    {
     "name": "stderr",
     "output_type": "stream",
     "text": [
      "Embedding: 100%|██████████████████████████████| 100/100 [00:22<00:00,  4.50it/s, isometricity=0.0597, linearity=0.114]\n"
     ]
    },
    {
     "name": "stdout",
     "output_type": "stream",
     "text": [
      "1 -> 2 (1)\n"
     ]
    },
    {
     "name": "stderr",
     "output_type": "stream",
     "text": [
      "Embedding:  64%|███████████████████▏          | 64/100 [00:13<00:07,  4.62it/s, isometricity=0.0302, linearity=0.177] \n"
     ]
    },
    {
     "ename": "KeyboardInterrupt",
     "evalue": "",
     "output_type": "error",
     "traceback": [
      "\u001b[0;31m---------------------------------------------------------------------------\u001b[0m",
      "\u001b[0;31mKeyboardInterrupt\u001b[0m                         Traceback (most recent call last)",
      "Cell \u001b[0;32mIn[29], line 21\u001b[0m\n\u001b[1;32m     18\u001b[0m flow \u001b[39m=\u001b[39m build_flow(out_dim, \u001b[39m10\u001b[39m, \u001b[39m256\u001b[39m)\u001b[39m.\u001b[39mto(device)\n\u001b[1;32m     19\u001b[0m Y \u001b[39m=\u001b[39m IsometricEmbedding(X, out_dim, flow, size)\n\u001b[0;32m---> 21\u001b[0m Y\u001b[39m.\u001b[39;49membed(optimizer \u001b[39m=\u001b[39;49m torch\u001b[39m.\u001b[39;49moptim\u001b[39m.\u001b[39;49mAdam(Y\u001b[39m.\u001b[39;49mflow\u001b[39m.\u001b[39;49mparameters(), lr\u001b[39m=\u001b[39;49m\u001b[39m3e-4\u001b[39;49m),\n\u001b[1;32m     22\u001b[0m         epochs \u001b[39m=\u001b[39;49m \u001b[39m100\u001b[39;49m \u001b[39m*\u001b[39;49m size \u001b[39m/\u001b[39;49m\u001b[39m/\u001b[39;49m \u001b[39m300\u001b[39;49m,\n\u001b[1;32m     23\u001b[0m         batch_size \u001b[39m=\u001b[39;49m \u001b[39m100\u001b[39;49m,\n\u001b[1;32m     24\u001b[0m         lam \u001b[39m=\u001b[39;49m \u001b[39m1.\u001b[39;49m)\n\u001b[1;32m     26\u001b[0m save_dataset(X\u001b[39m.\u001b[39msample(torch\u001b[39m.\u001b[39mSize([size]))\u001b[39m.\u001b[39mdetach()\u001b[39m.\u001b[39mcpu(), Y, i)\n",
      "File \u001b[0;32m/workspace/icml_least_volume/notebook/../src/dataset/toy.py:82\u001b[0m, in \u001b[0;36mIsometricEmbedding.embed\u001b[0;34m(self, optimizer, epochs, batch_size, lam)\u001b[0m\n\u001b[1;32m     79\u001b[0m loss\u001b[39m.\u001b[39mbackward()\n\u001b[1;32m     80\u001b[0m optimizer\u001b[39m.\u001b[39mstep()\n\u001b[0;32m---> 82\u001b[0m pbar\u001b[39m.\u001b[39mset_postfix({\u001b[39m'\u001b[39m\u001b[39misometricity\u001b[39m\u001b[39m'\u001b[39m: torch\u001b[39m.\u001b[39;49msqrt(loss_iso)\u001b[39m.\u001b[39;49mitem(), \n\u001b[1;32m     83\u001b[0m     \u001b[39m'\u001b[39m\u001b[39mlinearity\u001b[39m\u001b[39m'\u001b[39m: torch\u001b[39m.\u001b[39msqrt(loss_nlr)\u001b[39m.\u001b[39mitem()}); pbar\u001b[39m.\u001b[39mrefresh()\n\u001b[1;32m     84\u001b[0m \u001b[39mwith\u001b[39;00m torch\u001b[39m.\u001b[39mno_grad(): \n\u001b[1;32m     85\u001b[0m     iso_av \u001b[39m=\u001b[39m loss_iso\u001b[39m.\u001b[39mdetach() \u001b[39mif\u001b[39;00m iso_av \u001b[39mis\u001b[39;00m \u001b[39mNone\u001b[39;00m \u001b[39melse\u001b[39;00m iso_av\u001b[39m.\u001b[39mlerp(loss_iso\u001b[39m.\u001b[39mdetach(), \u001b[39m0.1\u001b[39m) \u001b[39m# avoid memory leak\u001b[39;00m\n",
      "\u001b[0;31mKeyboardInterrupt\u001b[0m: "
     ]
    }
   ],
   "source": [
    "from tqdm import tqdm\n",
    "import torch.multiprocessing as mp\n",
    "\n",
    "device = 'cuda'\n",
    "in_dims = [1, 2, 4, 8, 16, 32, 64][:4]\n",
    "out_dims = np.asarray([2, 4, 8, 16, 32], dtype=int)\n",
    "sizes = [300, 1000, 10000, 30000, 10000, 30000, 100000][:4]\n",
    "\n",
    "for in_dim, size in zip(in_dims, sizes):\n",
    "    for out_dim in out_dims * in_dim:\n",
    "        for i in range(4):\n",
    "            print('{} -> {} ({})'.format(in_dim, out_dim, i))\n",
    "\n",
    "            X = torch.distributions.Uniform(\n",
    "                -torch.ones(in_dim).to(device) / 2,\n",
    "                torch.ones(in_dim).to(device) / 2\n",
    "                )\n",
    "            \n",
    "            flow = build_flow(out_dim, 10, 256).to(device)\n",
    "            Y = IsometricEmbedding(X, out_dim, flow, size)\n",
    "            \n",
    "            Y.embed(optimizer = torch.optim.Adam(Y.flow.parameters(), lr=3e-4),\n",
    "                    epochs = 100 * size // 300,\n",
    "                    batch_size = 100,\n",
    "                    lam = 1.)\n",
    "\n",
    "            save_dataset(X.sample(torch.Size([size])).detach().cpu(), Y, i)"
   ]
  },
  {
   "cell_type": "code",
   "execution_count": null,
   "metadata": {},
   "outputs": [],
   "source": []
  }
 ],
 "metadata": {
  "interpreter": {
   "hash": "d4d1e4263499bec80672ea0156c357c1ee493ec2b1c70f0acce89fc37c4a6abe"
  },
  "kernelspec": {
   "display_name": "Python 3.8.12 ('base')",
   "language": "python",
   "name": "python3"
  },
  "language_info": {
   "codemirror_mode": {
    "name": "ipython",
    "version": 3
   },
   "file_extension": ".py",
   "mimetype": "text/x-python",
   "name": "python",
   "nbconvert_exporter": "python",
   "pygments_lexer": "ipython3",
   "version": "3.8.10"
  },
  "orig_nbformat": 4
 },
 "nbformat": 4,
 "nbformat_minor": 2
}
