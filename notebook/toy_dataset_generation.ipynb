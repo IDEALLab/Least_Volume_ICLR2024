{
 "cells": [
  {
   "cell_type": "code",
   "execution_count": 1,
   "metadata": {},
   "outputs": [],
   "source": [
    "import torch\n",
    "import torch.nn as nn\n",
    "import numpy as np\n",
    "import sys; sys.path.append('../src/')\n",
    "import os\n",
    "from model.cmpnts import MLP\n",
    "from scipy.stats import ortho_group\n",
    "import matplotlib.pyplot as plt\n",
    "from math import sqrt"
   ]
  },
  {
   "cell_type": "code",
   "execution_count": 2,
   "metadata": {},
   "outputs": [],
   "source": [
    "data_dir = '../data/toy'"
   ]
  },
  {
   "cell_type": "code",
   "execution_count": 3,
   "metadata": {},
   "outputs": [],
   "source": [
    "def nonlinearity(dataset, epsilon=1.): # epsilon can be set to the groundtruth LD manifold's average std.\n",
    "    X = dataset[:]\n",
    "    _, s, _ = torch.svd(X - X.mean(0), compute_uv=False)\n",
    "    return s.max() / s.min(), s.min() / epsilon, epsilon, s"
   ]
  },
  {
   "cell_type": "code",
   "execution_count": 4,
   "metadata": {},
   "outputs": [],
   "source": [
    "@ torch.no_grad()\n",
    "def save_dataset(X, Y, i):\n",
    "    in_dim = X.shape[1]\n",
    "    out_dim = Y.shape[1]\n",
    "    path = os.path.join(data_dir, '{}-manifold'.format(in_dim), '{}-ambient'.format(out_dim))\n",
    "    os.makedirs(path, exist_ok=True)\n",
    "    \n",
    "    data_path = os.path.join(path, '{}-{}_{}.npy'.format(in_dim, out_dim, i))\n",
    "    report_path = os.path.join(path, '{}-{}_{}.txt'.format(in_dim, out_dim, i))\n",
    "    np.save(data_path, Y.detach().numpy())\n",
    "    \n",
    "    _, s_x, _ = torch.svd(X - X.mean(0), compute_uv=False)\n",
    "    dis, ratio, eps, s = nonlinearity(Y, epsilon=s_x.mean())\n",
    "    with open(report_path, 'w') as report:\n",
    "        report.write('s.max / s.min = {}\\n'.format(dis))\n",
    "        report.write('s.min / x.s.mean = {}\\n'.format(ratio))\n",
    "        report.write('x.s.mean = {}\\n'.format(eps / sqrt(len(X))))\n",
    "        report.write('singular values = {}'.format(s.sort()[0].flip(0) / sqrt(len(X))))"
   ]
  },
  {
   "attachments": {},
   "cell_type": "markdown",
   "metadata": {},
   "source": [
    "# Nonlinear Dataset"
   ]
  },
  {
   "cell_type": "code",
   "execution_count": 5,
   "metadata": {},
   "outputs": [],
   "source": [
    "from dataset.toy import IsometricEmbedding\n",
    "from model.flow import _RealNVP"
   ]
  },
  {
   "cell_type": "code",
   "execution_count": 6,
   "metadata": {},
   "outputs": [],
   "source": [
    "def build_flow(out_dim, n=10, w=256):\n",
    "    nets = lambda: nn.Sequential(\n",
    "        nn.Linear(out_dim, w), nn.ReLU(), \n",
    "        nn.Linear(w, w), nn.ReLU(),\n",
    "        nn.Linear(w, w), nn.ReLU(),\n",
    "        nn.Linear(w, out_dim), nn.Tanh())\n",
    "    nett = lambda: nn.Sequential(\n",
    "        nn.Linear(out_dim, w), nn.ReLU(), \n",
    "        nn.Linear(w, w), nn.ReLU(),\n",
    "        nn.Linear(w, w), nn.ReLU(),\n",
    "        nn.Linear(w, out_dim))\n",
    "    masks = torch.as_tensor([\n",
    "        [0]*(out_dim//2) + [1]*(out_dim//2), \n",
    "        [1]*(out_dim//2) + [0]*(out_dim//2)] * n, dtype=torch.float)\n",
    "    flow = _RealNVP(nets, nett, masks)\n",
    "    return flow"
   ]
  },
  {
   "cell_type": "code",
   "execution_count": 12,
   "metadata": {},
   "outputs": [
    {
     "name": "stdout",
     "output_type": "stream",
     "text": [
      "16 -> 32 (0)\n"
     ]
    },
    {
     "name": "stderr",
     "output_type": "stream",
     "text": [
      "Embedding: 100%|██████████████████████████████| 100/100 [1:16:35<00:00, 45.95s/it, isometricity=0.032, linearity=0.168]    \n"
     ]
    },
    {
     "name": "stdout",
     "output_type": "stream",
     "text": [
      "16 -> 32 (1)\n"
     ]
    },
    {
     "name": "stderr",
     "output_type": "stream",
     "text": [
      "Embedding: 100%|██████████████████████████████| 100/100 [21:17<00:00, 12.77s/it, isometricity=0.0424, linearity=0.172]\n"
     ]
    },
    {
     "name": "stdout",
     "output_type": "stream",
     "text": [
      "16 -> 32 (2)\n"
     ]
    },
    {
     "name": "stderr",
     "output_type": "stream",
     "text": [
      "Embedding: 100%|██████████████████████████████| 100/100 [22:04<00:00, 13.25s/it, isometricity=0.0409, linearity=0.165]\n"
     ]
    },
    {
     "name": "stdout",
     "output_type": "stream",
     "text": [
      "16 -> 32 (3)\n"
     ]
    },
    {
     "name": "stderr",
     "output_type": "stream",
     "text": [
      "Embedding: 100%|██████████████████████████████| 100/100 [23:16<00:00, 13.96s/it, isometricity=0.038, linearity=0.147]\n"
     ]
    },
    {
     "name": "stdout",
     "output_type": "stream",
     "text": [
      "16 -> 32 (4)\n"
     ]
    },
    {
     "name": "stderr",
     "output_type": "stream",
     "text": [
      "Embedding: 100%|██████████████████████████████| 100/100 [22:32<00:00, 13.53s/it, isometricity=0.0381, linearity=0.158]\n"
     ]
    },
    {
     "name": "stdout",
     "output_type": "stream",
     "text": [
      "16 -> 64 (0)\n"
     ]
    },
    {
     "name": "stderr",
     "output_type": "stream",
     "text": [
      "Embedding: 100%|██████████████████████████████| 100/100 [23:03<00:00, 13.84s/it, isometricity=0.0544, linearity=0.168]\n"
     ]
    },
    {
     "name": "stdout",
     "output_type": "stream",
     "text": [
      "16 -> 64 (1)\n"
     ]
    },
    {
     "name": "stderr",
     "output_type": "stream",
     "text": [
      "Embedding: 100%|██████████████████████████████| 100/100 [22:29<00:00, 13.49s/it, isometricity=0.0446, linearity=0.163]\n"
     ]
    },
    {
     "name": "stdout",
     "output_type": "stream",
     "text": [
      "16 -> 64 (2)\n"
     ]
    },
    {
     "name": "stderr",
     "output_type": "stream",
     "text": [
      "Embedding: 100%|██████████████████████████████| 100/100 [22:29<00:00, 13.50s/it, isometricity=0.0468, linearity=0.163]\n"
     ]
    },
    {
     "name": "stdout",
     "output_type": "stream",
     "text": [
      "16 -> 64 (3)\n"
     ]
    },
    {
     "name": "stderr",
     "output_type": "stream",
     "text": [
      "Embedding: 100%|██████████████████████████████| 100/100 [22:25<00:00, 13.45s/it, isometricity=0.0399, linearity=0.152]\n"
     ]
    },
    {
     "name": "stdout",
     "output_type": "stream",
     "text": [
      "16 -> 64 (4)\n"
     ]
    },
    {
     "name": "stderr",
     "output_type": "stream",
     "text": [
      "Embedding: 100%|██████████████████████████████| 100/100 [22:15<00:00, 13.35s/it, isometricity=0.0392, linearity=0.167]\n"
     ]
    },
    {
     "name": "stdout",
     "output_type": "stream",
     "text": [
      "16 -> 128 (0)\n"
     ]
    },
    {
     "name": "stderr",
     "output_type": "stream",
     "text": [
      "Embedding: 100%|██████████████████████████████| 100/100 [23:43<00:00, 14.24s/it, isometricity=0.0441, linearity=0.141]\n"
     ]
    },
    {
     "name": "stdout",
     "output_type": "stream",
     "text": [
      "16 -> 128 (1)\n"
     ]
    },
    {
     "name": "stderr",
     "output_type": "stream",
     "text": [
      "Embedding: 100%|██████████████████████████████| 100/100 [23:43<00:00, 14.23s/it, isometricity=0.039, linearity=0.151]\n"
     ]
    },
    {
     "name": "stdout",
     "output_type": "stream",
     "text": [
      "16 -> 128 (2)\n"
     ]
    },
    {
     "name": "stderr",
     "output_type": "stream",
     "text": [
      "Embedding: 100%|██████████████████████████████| 100/100 [23:48<00:00, 14.29s/it, isometricity=0.0528, linearity=0.161]\n"
     ]
    },
    {
     "name": "stdout",
     "output_type": "stream",
     "text": [
      "16 -> 128 (3)\n"
     ]
    },
    {
     "name": "stderr",
     "output_type": "stream",
     "text": [
      "Embedding: 100%|██████████████████████████████| 100/100 [24:00<00:00, 14.40s/it, isometricity=0.0427, linearity=0.15]\n"
     ]
    },
    {
     "name": "stdout",
     "output_type": "stream",
     "text": [
      "16 -> 128 (4)\n"
     ]
    },
    {
     "name": "stderr",
     "output_type": "stream",
     "text": [
      "Embedding: 100%|██████████████████████████████| 100/100 [23:33<00:00, 14.13s/it, isometricity=0.0447, linearity=0.151]\n"
     ]
    },
    {
     "name": "stdout",
     "output_type": "stream",
     "text": [
      "16 -> 256 (0)\n"
     ]
    },
    {
     "name": "stderr",
     "output_type": "stream",
     "text": [
      "Embedding: 100%|██████████████████████████████| 100/100 [23:29<00:00, 14.09s/it, isometricity=0.0549, linearity=0.163]\n"
     ]
    },
    {
     "name": "stdout",
     "output_type": "stream",
     "text": [
      "16 -> 256 (1)\n"
     ]
    },
    {
     "name": "stderr",
     "output_type": "stream",
     "text": [
      "Embedding: 100%|██████████████████████████████| 100/100 [23:14<00:00, 13.94s/it, isometricity=0.0642, linearity=0.185]\n"
     ]
    },
    {
     "name": "stdout",
     "output_type": "stream",
     "text": [
      "16 -> 256 (2)\n"
     ]
    },
    {
     "name": "stderr",
     "output_type": "stream",
     "text": [
      "Embedding: 100%|██████████████████████████████| 100/100 [23:01<00:00, 13.82s/it, isometricity=0.065, linearity=0.175]\n"
     ]
    },
    {
     "name": "stdout",
     "output_type": "stream",
     "text": [
      "16 -> 256 (3)\n"
     ]
    },
    {
     "name": "stderr",
     "output_type": "stream",
     "text": [
      "Embedding: 100%|██████████████████████████████| 100/100 [23:00<00:00, 13.81s/it, isometricity=0.0594, linearity=0.153]\n"
     ]
    },
    {
     "name": "stdout",
     "output_type": "stream",
     "text": [
      "16 -> 256 (4)\n"
     ]
    },
    {
     "name": "stderr",
     "output_type": "stream",
     "text": [
      "Embedding: 100%|██████████████████████████████| 100/100 [23:05<00:00, 13.86s/it, isometricity=0.0508, linearity=0.146]\n"
     ]
    },
    {
     "name": "stdout",
     "output_type": "stream",
     "text": [
      "16 -> 512 (0)\n"
     ]
    },
    {
     "name": "stderr",
     "output_type": "stream",
     "text": [
      "Embedding: 100%|██████████████████████████████| 100/100 [23:25<00:00, 14.06s/it, isometricity=0.12, linearity=0.177] \n"
     ]
    },
    {
     "name": "stdout",
     "output_type": "stream",
     "text": [
      "16 -> 512 (1)\n"
     ]
    },
    {
     "name": "stderr",
     "output_type": "stream",
     "text": [
      "Embedding: 100%|██████████████████████████████| 100/100 [24:08<00:00, 14.49s/it, isometricity=0.0516, linearity=0.131]\n"
     ]
    },
    {
     "name": "stdout",
     "output_type": "stream",
     "text": [
      "16 -> 512 (2)\n"
     ]
    },
    {
     "name": "stderr",
     "output_type": "stream",
     "text": [
      "Embedding: 100%|██████████████████████████████| 100/100 [24:03<00:00, 14.43s/it, isometricity=0.0783, linearity=0.126]\n"
     ]
    },
    {
     "name": "stdout",
     "output_type": "stream",
     "text": [
      "16 -> 512 (3)\n"
     ]
    },
    {
     "name": "stderr",
     "output_type": "stream",
     "text": [
      "Embedding: 100%|██████████████████████████████| 100/100 [23:41<00:00, 14.21s/it, isometricity=0.0631, linearity=0.138]\n"
     ]
    },
    {
     "name": "stdout",
     "output_type": "stream",
     "text": [
      "16 -> 512 (4)\n"
     ]
    },
    {
     "name": "stderr",
     "output_type": "stream",
     "text": [
      "Embedding: 100%|██████████████████████████████| 100/100 [23:35<00:00, 14.15s/it, isometricity=0.0565, linearity=0.127]\n"
     ]
    },
    {
     "name": "stdout",
     "output_type": "stream",
     "text": [
      "32 -> 64 (0)\n"
     ]
    },
    {
     "name": "stderr",
     "output_type": "stream",
     "text": [
      "Embedding: 100%|██████████████████████████████| 100/100 [1:09:43<00:00, 41.84s/it, isometricity=0.0334, linearity=0.203]\n"
     ]
    },
    {
     "name": "stdout",
     "output_type": "stream",
     "text": [
      "32 -> 64 (1)\n"
     ]
    },
    {
     "name": "stderr",
     "output_type": "stream",
     "text": [
      "Embedding: 100%|██████████████████████████████| 100/100 [1:08:28<00:00, 41.09s/it, isometricity=0.0227, linearity=0.192]\n"
     ]
    },
    {
     "name": "stdout",
     "output_type": "stream",
     "text": [
      "32 -> 64 (2)\n"
     ]
    },
    {
     "name": "stderr",
     "output_type": "stream",
     "text": [
      "Embedding: 100%|██████████████████████████████| 100/100 [1:09:42<00:00, 41.83s/it, isometricity=0.032, linearity=0.195]\n"
     ]
    },
    {
     "name": "stdout",
     "output_type": "stream",
     "text": [
      "32 -> 64 (3)\n"
     ]
    },
    {
     "name": "stderr",
     "output_type": "stream",
     "text": [
      "Embedding: 100%|██████████████████████████████| 100/100 [1:09:39<00:00, 41.79s/it, isometricity=0.0356, linearity=0.205]\n"
     ]
    },
    {
     "name": "stdout",
     "output_type": "stream",
     "text": [
      "32 -> 64 (4)\n"
     ]
    },
    {
     "name": "stderr",
     "output_type": "stream",
     "text": [
      "Embedding: 100%|██████████████████████████████| 100/100 [1:09:38<00:00, 41.78s/it, isometricity=0.0286, linearity=0.19]\n"
     ]
    },
    {
     "name": "stdout",
     "output_type": "stream",
     "text": [
      "32 -> 128 (0)\n"
     ]
    },
    {
     "name": "stderr",
     "output_type": "stream",
     "text": [
      "Embedding: 100%|██████████████████████████████| 100/100 [1:11:11<00:00, 42.71s/it, isometricity=0.0462, linearity=0.19]\n"
     ]
    },
    {
     "name": "stdout",
     "output_type": "stream",
     "text": [
      "32 -> 128 (1)\n"
     ]
    },
    {
     "name": "stderr",
     "output_type": "stream",
     "text": [
      "Embedding: 100%|██████████████████████████████| 100/100 [1:11:50<00:00, 43.11s/it, isometricity=0.0487, linearity=0.196]\n"
     ]
    },
    {
     "name": "stdout",
     "output_type": "stream",
     "text": [
      "32 -> 128 (2)\n"
     ]
    },
    {
     "name": "stderr",
     "output_type": "stream",
     "text": [
      "Embedding: 100%|██████████████████████████████| 100/100 [1:11:53<00:00, 43.13s/it, isometricity=0.0469, linearity=0.186]\n"
     ]
    },
    {
     "name": "stdout",
     "output_type": "stream",
     "text": [
      "32 -> 128 (3)\n"
     ]
    },
    {
     "name": "stderr",
     "output_type": "stream",
     "text": [
      "Embedding: 100%|██████████████████████████████| 100/100 [1:10:58<00:00, 42.59s/it, isometricity=0.0593, linearity=0.193]\n"
     ]
    },
    {
     "name": "stdout",
     "output_type": "stream",
     "text": [
      "32 -> 128 (4)\n"
     ]
    },
    {
     "name": "stderr",
     "output_type": "stream",
     "text": [
      "Embedding: 100%|██████████████████████████████| 100/100 [1:10:54<00:00, 42.54s/it, isometricity=0.0414, linearity=0.17]\n"
     ]
    },
    {
     "name": "stdout",
     "output_type": "stream",
     "text": [
      "32 -> 256 (0)\n"
     ]
    },
    {
     "name": "stderr",
     "output_type": "stream",
     "text": [
      "Embedding: 100%|██████████████████████████████| 100/100 [1:09:40<00:00, 41.81s/it, isometricity=0.0699, linearity=0.173]\n"
     ]
    },
    {
     "name": "stdout",
     "output_type": "stream",
     "text": [
      "32 -> 256 (1)\n"
     ]
    },
    {
     "name": "stderr",
     "output_type": "stream",
     "text": [
      "Embedding: 100%|██████████████████████████████| 100/100 [1:09:56<00:00, 41.96s/it, isometricity=0.0781, linearity=0.159]\n"
     ]
    },
    {
     "name": "stdout",
     "output_type": "stream",
     "text": [
      "32 -> 256 (2)\n"
     ]
    },
    {
     "name": "stderr",
     "output_type": "stream",
     "text": [
      "Embedding: 100%|██████████████████████████████| 100/100 [1:09:41<00:00, 41.81s/it, isometricity=0.0817, linearity=0.156]\n"
     ]
    },
    {
     "name": "stdout",
     "output_type": "stream",
     "text": [
      "32 -> 256 (3)\n"
     ]
    },
    {
     "name": "stderr",
     "output_type": "stream",
     "text": [
      "Embedding: 100%|██████████████████████████████| 100/100 [1:09:11<00:00, 41.51s/it, isometricity=0.0753, linearity=0.17]\n"
     ]
    },
    {
     "name": "stdout",
     "output_type": "stream",
     "text": [
      "32 -> 256 (4)\n"
     ]
    },
    {
     "name": "stderr",
     "output_type": "stream",
     "text": [
      "Embedding: 100%|██████████████████████████████| 100/100 [1:09:51<00:00, 41.91s/it, isometricity=0.0831, linearity=0.187]\n"
     ]
    },
    {
     "name": "stdout",
     "output_type": "stream",
     "text": [
      "32 -> 512 (0)\n"
     ]
    },
    {
     "name": "stderr",
     "output_type": "stream",
     "text": [
      "Embedding: 100%|██████████████████████████████| 100/100 [1:10:49<00:00, 42.49s/it, isometricity=0.0603, linearity=0.112]\n"
     ]
    },
    {
     "name": "stdout",
     "output_type": "stream",
     "text": [
      "32 -> 512 (1)\n"
     ]
    },
    {
     "name": "stderr",
     "output_type": "stream",
     "text": [
      "Embedding: 100%|██████████████████████████████| 100/100 [1:11:18<00:00, 42.79s/it, isometricity=0.0719, linearity=0.128]\n"
     ]
    },
    {
     "name": "stdout",
     "output_type": "stream",
     "text": [
      "32 -> 512 (2)\n"
     ]
    },
    {
     "name": "stderr",
     "output_type": "stream",
     "text": [
      "Embedding: 100%|██████████████████████████████| 100/100 [1:11:58<00:00, 43.19s/it, isometricity=0.0664, linearity=0.12]\n"
     ]
    },
    {
     "name": "stdout",
     "output_type": "stream",
     "text": [
      "32 -> 512 (3)\n"
     ]
    },
    {
     "name": "stderr",
     "output_type": "stream",
     "text": [
      "Embedding: 100%|██████████████████████████████| 100/100 [1:11:44<00:00, 43.04s/it, isometricity=0.0685, linearity=0.138]\n"
     ]
    },
    {
     "name": "stdout",
     "output_type": "stream",
     "text": [
      "32 -> 512 (4)\n"
     ]
    },
    {
     "name": "stderr",
     "output_type": "stream",
     "text": [
      "Embedding: 100%|██████████████████████████████| 100/100 [1:10:41<00:00, 42.42s/it, isometricity=0.0834, linearity=0.124]\n"
     ]
    },
    {
     "name": "stdout",
     "output_type": "stream",
     "text": [
      "32 -> 1024 (0)\n"
     ]
    },
    {
     "name": "stderr",
     "output_type": "stream",
     "text": [
      "Embedding: 100%|██████████████████████████████| 100/100 [1:14:03<00:00, 44.43s/it, isometricity=0.0605, linearity=0.106]\n"
     ]
    },
    {
     "name": "stdout",
     "output_type": "stream",
     "text": [
      "32 -> 1024 (1)\n"
     ]
    },
    {
     "name": "stderr",
     "output_type": "stream",
     "text": [
      "Embedding: 100%|██████████████████████████████| 100/100 [1:10:19<00:00, 42.20s/it, isometricity=0.0543, linearity=0.106]\n"
     ]
    },
    {
     "name": "stdout",
     "output_type": "stream",
     "text": [
      "32 -> 1024 (2)\n"
     ]
    },
    {
     "name": "stderr",
     "output_type": "stream",
     "text": [
      "Embedding: 100%|██████████████████████████████| 100/100 [1:11:02<00:00, 42.62s/it, isometricity=0.0626, linearity=0.0948]\n"
     ]
    },
    {
     "name": "stdout",
     "output_type": "stream",
     "text": [
      "32 -> 1024 (3)\n"
     ]
    },
    {
     "name": "stderr",
     "output_type": "stream",
     "text": [
      "Embedding: 100%|██████████████████████████████| 100/100 [1:13:53<00:00, 44.34s/it, isometricity=0.0721, linearity=0.108]\n"
     ]
    },
    {
     "name": "stdout",
     "output_type": "stream",
     "text": [
      "32 -> 1024 (4)\n"
     ]
    },
    {
     "name": "stderr",
     "output_type": "stream",
     "text": [
      "Embedding: 100%|██████████████████████████████| 100/100 [1:12:20<00:00, 43.41s/it, isometricity=0.0616, linearity=0.107]\n"
     ]
    },
    {
     "name": "stdout",
     "output_type": "stream",
     "text": [
      "64 -> 128 (0)\n"
     ]
    },
    {
     "name": "stderr",
     "output_type": "stream",
     "text": [
      "Embedding: 100%|██████████████████████████████| 100/100 [3:58:43<00:00, 143.23s/it, isometricity=0.0865, linearity=0.238] \n"
     ]
    },
    {
     "ename": "RuntimeError",
     "evalue": "[enforce fail at alloc_cpu.cpp:73] . DefaultCPUAllocator: can't allocate memory: you tried to allocate 40000000000 bytes. Error code 12 (Cannot allocate memory)",
     "output_type": "error",
     "traceback": [
      "\u001b[0;31m---------------------------------------------------------------------------\u001b[0m",
      "\u001b[0;31mRuntimeError\u001b[0m                              Traceback (most recent call last)",
      "\u001b[0;32m/tmp/ipykernel_22817/2773802440.py\u001b[0m in \u001b[0;36m<module>\u001b[0;34m\u001b[0m\n\u001b[1;32m     20\u001b[0m                     lam = 10.)\n\u001b[1;32m     21\u001b[0m \u001b[0;34m\u001b[0m\u001b[0m\n\u001b[0;32m---> 22\u001b[0;31m             \u001b[0msave_dataset\u001b[0m\u001b[0;34m(\u001b[0m\u001b[0mX\u001b[0m\u001b[0;34m.\u001b[0m\u001b[0mcpu\u001b[0m\u001b[0;34m(\u001b[0m\u001b[0;34m)\u001b[0m\u001b[0;34m,\u001b[0m \u001b[0mY\u001b[0m\u001b[0;34m[\u001b[0m\u001b[0;34m:\u001b[0m\u001b[0;34m]\u001b[0m\u001b[0;34m.\u001b[0m\u001b[0mcpu\u001b[0m\u001b[0;34m(\u001b[0m\u001b[0;34m)\u001b[0m\u001b[0;34m,\u001b[0m \u001b[0mi\u001b[0m\u001b[0;34m)\u001b[0m\u001b[0;34m\u001b[0m\u001b[0;34m\u001b[0m\u001b[0m\n\u001b[0m",
      "\u001b[0;32m/tmp/ipykernel_22817/3480276953.py\u001b[0m in \u001b[0;36msave_dataset\u001b[0;34m(X, Y, i)\u001b[0m\n\u001b[1;32m      9\u001b[0m     \u001b[0mnp\u001b[0m\u001b[0;34m.\u001b[0m\u001b[0msave\u001b[0m\u001b[0;34m(\u001b[0m\u001b[0mdata_path\u001b[0m\u001b[0;34m,\u001b[0m \u001b[0mY\u001b[0m\u001b[0;34m.\u001b[0m\u001b[0mdetach\u001b[0m\u001b[0;34m(\u001b[0m\u001b[0;34m)\u001b[0m\u001b[0;34m.\u001b[0m\u001b[0mnumpy\u001b[0m\u001b[0;34m(\u001b[0m\u001b[0;34m)\u001b[0m\u001b[0;34m)\u001b[0m\u001b[0;34m\u001b[0m\u001b[0;34m\u001b[0m\u001b[0m\n\u001b[1;32m     10\u001b[0m \u001b[0;34m\u001b[0m\u001b[0m\n\u001b[0;32m---> 11\u001b[0;31m     \u001b[0m_\u001b[0m\u001b[0;34m,\u001b[0m \u001b[0ms_x\u001b[0m\u001b[0;34m,\u001b[0m \u001b[0m_\u001b[0m \u001b[0;34m=\u001b[0m \u001b[0mtorch\u001b[0m\u001b[0;34m.\u001b[0m\u001b[0msvd\u001b[0m\u001b[0;34m(\u001b[0m\u001b[0mX\u001b[0m \u001b[0;34m-\u001b[0m \u001b[0mX\u001b[0m\u001b[0;34m.\u001b[0m\u001b[0mmean\u001b[0m\u001b[0;34m(\u001b[0m\u001b[0;36m0\u001b[0m\u001b[0;34m)\u001b[0m\u001b[0;34m,\u001b[0m \u001b[0mcompute_uv\u001b[0m\u001b[0;34m=\u001b[0m\u001b[0;32mFalse\u001b[0m\u001b[0;34m)\u001b[0m\u001b[0;34m\u001b[0m\u001b[0;34m\u001b[0m\u001b[0m\n\u001b[0m\u001b[1;32m     12\u001b[0m     \u001b[0mdis\u001b[0m\u001b[0;34m,\u001b[0m \u001b[0mratio\u001b[0m\u001b[0;34m,\u001b[0m \u001b[0meps\u001b[0m\u001b[0;34m,\u001b[0m \u001b[0ms\u001b[0m \u001b[0;34m=\u001b[0m \u001b[0mnonlinearity\u001b[0m\u001b[0;34m(\u001b[0m\u001b[0mY\u001b[0m\u001b[0;34m,\u001b[0m \u001b[0mepsilon\u001b[0m\u001b[0;34m=\u001b[0m\u001b[0ms_x\u001b[0m\u001b[0;34m.\u001b[0m\u001b[0mmean\u001b[0m\u001b[0;34m(\u001b[0m\u001b[0;34m)\u001b[0m\u001b[0;34m)\u001b[0m\u001b[0;34m\u001b[0m\u001b[0;34m\u001b[0m\u001b[0m\n\u001b[1;32m     13\u001b[0m     \u001b[0;32mwith\u001b[0m \u001b[0mopen\u001b[0m\u001b[0;34m(\u001b[0m\u001b[0mreport_path\u001b[0m\u001b[0;34m,\u001b[0m \u001b[0;34m'w'\u001b[0m\u001b[0;34m)\u001b[0m \u001b[0;32mas\u001b[0m \u001b[0mreport\u001b[0m\u001b[0;34m:\u001b[0m\u001b[0;34m\u001b[0m\u001b[0;34m\u001b[0m\u001b[0m\n",
      "\u001b[0;31mRuntimeError\u001b[0m: [enforce fail at alloc_cpu.cpp:73] . DefaultCPUAllocator: can't allocate memory: you tried to allocate 40000000000 bytes. Error code 12 (Cannot allocate memory)"
     ]
    }
   ],
   "source": [
    "from tqdm import tqdm\n",
    "\n",
    "in_dims = [64] # [1, 2, 4, 8, 16, 32, 64]\n",
    "out_dims = np.asarray([2, 4, 8, 16, 32], dtype=int)\n",
    "sizes = [100000] #[100, 300, 1000, 3000, 10000, 30000, 100000]\n",
    "\n",
    "for in_dim, size in zip(in_dims, sizes):\n",
    "    for out_dim in out_dims * in_dim:\n",
    "        for i in range(5):\n",
    "            print('{} -> {} ({})'.format(in_dim, out_dim, i))\n",
    "\n",
    "            X = torch.randn(size, in_dim).cuda()\n",
    "            Y = IsometricEmbedding(X, out_dim=out_dim)\n",
    "\n",
    "            flow = build_flow(out_dim, 10, 256)\n",
    "            Y.embed(flow = flow.cuda(),\n",
    "                    optimizer = torch.optim.Adam(flow.parameters(), lr=3e-4),\n",
    "                    epochs = 100,\n",
    "                    batch_size = 100,\n",
    "                    lam = 10.)\n",
    "\n",
    "            save_dataset(X.cpu(), Y[:].cpu(), i)"
   ]
  }
 ],
 "metadata": {
  "interpreter": {
   "hash": "d4d1e4263499bec80672ea0156c357c1ee493ec2b1c70f0acce89fc37c4a6abe"
  },
  "kernelspec": {
   "display_name": "Python 3.8.12 ('base')",
   "language": "python",
   "name": "python3"
  },
  "language_info": {
   "codemirror_mode": {
    "name": "ipython",
    "version": 3
   },
   "file_extension": ".py",
   "mimetype": "text/x-python",
   "name": "python",
   "nbconvert_exporter": "python",
   "pygments_lexer": "ipython3",
   "version": "3.8.12"
  },
  "orig_nbformat": 4
 },
 "nbformat": 4,
 "nbformat_minor": 2
}
