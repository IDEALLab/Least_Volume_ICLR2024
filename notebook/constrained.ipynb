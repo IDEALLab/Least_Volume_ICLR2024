{
 "cells": [
  {
   "cell_type": "code",
   "execution_count": 570,
   "metadata": {},
   "outputs": [],
   "source": [
    "import torch\n",
    "import torch.nn as nn\n",
    "import torch.nn.functional as F\n",
    "import numpy as np\n",
    "import matplotlib.pyplot as plt\n",
    "import sys; sys.path.append('../src')"
   ]
  },
  {
   "cell_type": "code",
   "execution_count": 571,
   "metadata": {},
   "outputs": [],
   "source": [
    "from models.layers import NestedDropout\n",
    "from models.cmpnts import MLP, SNMLP\n",
    "from models.layers import SNLinearCombo\n",
    "from torch.linalg import svd"
   ]
  },
  {
   "cell_type": "markdown",
   "metadata": {},
   "source": [
    "# Optimizer"
   ]
  },
  {
   "cell_type": "code",
   "execution_count": 572,
   "metadata": {},
   "outputs": [],
   "source": [
    "class LeastVolumeBinarySearch:\n",
    "    \"\"\"\n",
    "    recursively find the optimal Lagrangian multiplier \n",
    "    by solving the concave dual problem with binary search.\n",
    "    \"\"\"\n",
    "    def __init__(self, encoder, decoder, vol_func, rec_loss, eps, infL_optimizer, threshold=0.05, init_lambda=100):\n",
    "        self.encoder = encoder\n",
    "        self.decoder = decoder\n",
    "        \n",
    "        self.vol_func = vol_func\n",
    "        self.rec_loss = rec_loss\n",
    "        self.eps = eps\n",
    "        self.threshold = threshold\n",
    "        self.infL_optimizer = infL_optimizer\n",
    "\n",
    "        assert init_lambda > 0, 'λ should be positive!'\n",
    "        self.lamb = init_lambda if init_lambda > 0 else 1 \n",
    "        self._n = 0\n",
    "        self._lamb_min = self._lamb_max = None\n",
    "    \n",
    "    def optimize(self, max_iter=500, verbose=False):\n",
    "        \"\"\"\n",
    "        optimize dual problem, return is_converged, \n",
    "        lambda, volume and reconstruction loss.\n",
    "        \"\"\"\n",
    "        #### update lambda ####\n",
    "        self.update_lamb()\n",
    "\n",
    "        #### derive inf L ####\n",
    "        self.encoder.train(); self.decoder.train()\n",
    "        L = lambda: self.vol_func() - self.lamb * (self.eps - self.rec_loss())\n",
    "        self.infL_optimizer(L) # should have a convergence criterion\n",
    "        self.encoder.eval(); self.decoder.eval()\n",
    "        #### report ####\n",
    "        if verbose: self.report()\n",
    "        \n",
    "        #### determine convergence ####\n",
    "        if self.residual >= 0:\n",
    "            self._lamb_max = self.lamb\n",
    "            if self._lamb_converged or True: # or ((self.residual/self.eps) <= self.threshold): # end recursion if is converged\n",
    "                return True, self.lamb, self.vol_func(), self.rec_loss()\n",
    "        else:\n",
    "            self._lamb_min = self.lamb\n",
    "\n",
    "        #### continue, or end recursion if n > max_iter ####\n",
    "        self._n += 1\n",
    "        if self._n >= max_iter: \n",
    "            return False, self.lamb, self.vol_func, self.rec_loss  \n",
    "        else:\n",
    "            return self.optimize(max_iter, verbose)\n",
    "    \n",
    "    @property\n",
    "    def residual(self):\n",
    "        \"\"\"constraint is satisfied when it's >= 0\"\"\"\n",
    "        return self.eps - self.rec_loss()\n",
    "    \n",
    "    @property\n",
    "    def _lamb_converged(self):\n",
    "        if self._lamb_max and self._lamb_min:\n",
    "            return (self._lamb_max - self._lamb_min) / self._lamb_max < 1e-4\n",
    "        else:\n",
    "            return False\n",
    "    \n",
    "    def update_lamb(self):\n",
    "        if self._lamb_min and self._lamb_max:\n",
    "            self.lamb = (self._lamb_max + self._lamb_min) / 2\n",
    "        elif self._lamb_min and not self._lamb_max:\n",
    "            self.lamb = 2 * self._lamb_min\n",
    "        elif self._lamb_max and not self._lamb_min:\n",
    "            self.lamb = 0.5 * self._lamb_max\n",
    "        else:\n",
    "            pass\n",
    "    \n",
    "    def report(self):\n",
    "        print('Iter #{}: λ = {}, obj = {:.3e}, residual = {:.3e} = {:.2%} × eps'.format(\n",
    "            self._n, self.lamb, self.vol_func(), self.residual, self.residual/self.eps))"
   ]
  },
  {
   "cell_type": "markdown",
   "metadata": {},
   "source": [
    "# Data"
   ]
  },
  {
   "cell_type": "code",
   "execution_count": 573,
   "metadata": {},
   "outputs": [
    {
     "data": {
      "image/png": "[encoded data removed]",
      "text/plain": [
       "<Figure size 640x480 with 1 Axes>"
      ]
     },
     "metadata": {},
     "output_type": "display_data"
    }
   ],
   "source": [
    "X, _ = torch.sort(torch.rand(50))\n",
    "X = X - 0.5\n",
    "# Y = X + 5 * X ** 3 \n",
    "Y = 10 * (X - 0.4) * X * (X + 0.35)\n",
    "data = torch.stack([X, Y], dim=-1)\n",
    "\n",
    "plt.scatter(X.numpy(), Y.numpy())\n",
    "plt.show()"
   ]
  },
  {
   "cell_type": "markdown",
   "metadata": {},
   "source": [
    "# Train"
   ]
  },
  {
   "cell_type": "code",
   "execution_count": 574,
   "metadata": {},
   "outputs": [],
   "source": [
    "encoder = MLP(2, 2, [32]*4)\n",
    "decoder = SNMLP(2, 2, [32]*4)\n",
    "None"
   ]
  },
  {
   "cell_type": "code",
   "execution_count": 575,
   "metadata": {},
   "outputs": [],
   "source": [
    "def vol():\n",
    "    z = encoder(data)\n",
    "    v = torch.exp(torch.log(z.std(0)).mean())\n",
    "    return v\n",
    "\n",
    "def vol2():\n",
    "    z = encoder(data)\n",
    "    v = torch.norm(z.std(0), p=1)\n",
    "    return v\n",
    "\n",
    "def vol3():\n",
    "    z = encoder(data)\n",
    "    v = torch.norm(z.std(0), p=2)\n",
    "    return v\n",
    "\n",
    "def rec_loss():\n",
    "    z = encoder(data)\n",
    "    rl = F.mse_loss(decoder(z), data) \n",
    "    return rl"
   ]
  },
  {
   "cell_type": "code",
   "execution_count": 576,
   "metadata": {},
   "outputs": [],
   "source": [
    "def f_optimizer(loss_func, max_iter=20000, wait_n=500, verbose=False, epsilon=1e-2):\n",
    "    opt = torch.optim.Adam(list(encoder.parameters()) + list(decoder.parameters()), lr=1e-4)\n",
    "    loss_his = []\n",
    "    for i in range(max_iter):\n",
    "        opt.zero_grad()\n",
    "        loss = loss_func()\n",
    "        loss.backward()\n",
    "        opt.step()\n",
    "        loss_his.append(loss.detach())\n",
    "        if verbose and i % 10 == 0:\n",
    "             print('Epoch {}: loss = {}'.format(i, loss))\n",
    "        if len(loss_his) >= wait_n:\n",
    "            last_his = torch.as_tensor(loss_his[-wait_n:])\n",
    "            ratio = last_his.std() / (last_his.mean() + 1e-5)\n",
    "            if ratio < epsilon:\n",
    "                break\n",
    "    print('L is converged at epoch {} with std/mean = {:.2%} over the last {} iterations.'.format(i, ratio, wait_n))"
   ]
  },
  {
   "cell_type": "code",
   "execution_count": 577,
   "metadata": {},
   "outputs": [],
   "source": [
    "# loss_func = lambda: rec_loss() + 0.1 * vol()\n",
    "# f_optimizer(loss_func)"
   ]
  },
  {
   "cell_type": "code",
   "execution_count": 578,
   "metadata": {},
   "outputs": [
    {
     "name": "stdout",
     "output_type": "stream",
     "text": [
      "L is converged at epoch 565 with std/mean = 0.97% over the last 500 iterations.\n",
      "Iter #0: λ = 100, obj = 3.363e-05, residual = -7.001e-02 = -14002364.06% × eps\n",
      "L is converged at epoch 19999 with std/mean = 2.09% over the last 500 iterations.\n",
      "Iter #1: λ = 200, obj = 3.806e-01, residual = -8.743e-06 = -1748.54% × eps\n",
      "L is converged at epoch 16675 with std/mean = 1.00% over the last 500 iterations.\n",
      "Iter #2: λ = 400, obj = 3.800e-01, residual = -1.087e-06 = -217.45% × eps\n",
      "L is converged at epoch 19061 with std/mean = 1.00% over the last 500 iterations.\n",
      "Iter #3: λ = 800, obj = 3.799e-01, residual = 1.520e-07 = 30.39% × eps\n"
     ]
    }
   ],
   "source": [
    "# searcher = LeastVolumeBinarySearch(encoder, decoder, vol, rec_loss, eps=5e-7, infL_optimizer=f_optimizer, threshold=0.20, init_lambda=100)\n",
    "# searcher = LeastVolumeBinarySearch(encoder, decoder, vol2, rec_loss, eps=5e-7, infL_optimizer=f_optimizer, threshold=0.20, init_lambda=100)\n",
    "searcher = LeastVolumeBinarySearch(encoder, decoder, vol3, rec_loss, eps=5e-7, infL_optimizer=f_optimizer, threshold=0.20, init_lambda=100)\n",
    "is_converged, lamb_, vol_, rec_ = searcher.optimize(verbose=True)"
   ]
  },
  {
   "cell_type": "code",
   "execution_count": 579,
   "metadata": {},
   "outputs": [
    {
     "data": {
      "text/plain": [
       "(800, 400, 3.4802559412128176e-07)"
      ]
     },
     "execution_count": 579,
     "metadata": {},
     "output_type": "execute_result"
    }
   ],
   "source": [
    "searcher._lamb_max, searcher._lamb_min, searcher.rec_loss().item()"
   ]
  },
  {
   "cell_type": "code",
   "execution_count": 580,
   "metadata": {},
   "outputs": [
    {
     "data": {
      "text/plain": [
       "tensor(False)"
      ]
     },
     "execution_count": 580,
     "metadata": {},
     "output_type": "execute_result"
    }
   ],
   "source": [
    "searcher._lamb_converged or ((searcher.residual/searcher.eps) <= searcher.threshold)"
   ]
  },
  {
   "cell_type": "code",
   "execution_count": 581,
   "metadata": {},
   "outputs": [
    {
     "data": {
      "text/plain": [
       "(tensor(1.5197e-07, grad_fn=<RsubBackward1>),\n",
       " tensor(3.4803e-07, grad_fn=<MseLossBackward0>),\n",
       " 5e-07)"
      ]
     },
     "execution_count": 581,
     "metadata": {},
     "output_type": "execute_result"
    }
   ],
   "source": [
    "searcher.residual, searcher.rec_loss(), searcher.eps"
   ]
  },
  {
   "cell_type": "markdown",
   "metadata": {},
   "source": [
    "# Evaluate"
   ]
  },
  {
   "cell_type": "code",
   "execution_count": 582,
   "metadata": {},
   "outputs": [
    {
     "data": {
      "image/png": "[encoded data removed]",
      "text/plain": [
       "<Figure size 640x480 with 1 Axes>"
      ]
     },
     "metadata": {},
     "output_type": "display_data"
    }
   ],
   "source": [
    "encoder.eval()\n",
    "decoder.eval()\n",
    "\n",
    "z = encoder(data)\n",
    "plt.scatter(z[:,0].detach().numpy(), z[:,1].detach().numpy())\n",
    "plt.gca().set_aspect('equal')\n",
    "plt.show()"
   ]
  },
  {
   "cell_type": "code",
   "execution_count": 583,
   "metadata": {},
   "outputs": [
    {
     "data": {
      "text/plain": [
       "tensor([0.8482, 1.0307], grad_fn=<SubBackward0>)"
      ]
     },
     "execution_count": 583,
     "metadata": {},
     "output_type": "execute_result"
    }
   ],
   "source": [
    "z.max(0)[0] - z.min(0)[0]"
   ]
  },
  {
   "cell_type": "code",
   "execution_count": 584,
   "metadata": {},
   "outputs": [
    {
     "data": {
      "text/plain": [
       "tensor([[ 0.0801, -0.0376],\n",
       "        [-0.0376,  0.0642]], grad_fn=<SqueezeBackward0>)"
      ]
     },
     "execution_count": 584,
     "metadata": {},
     "output_type": "execute_result"
    }
   ],
   "source": [
    "z.T.cov()"
   ]
  },
  {
   "cell_type": "code",
   "execution_count": 585,
   "metadata": {},
   "outputs": [
    {
     "data": {
      "text/plain": [
       "<matplotlib.collections.PathCollection at 0x131aca12bb0>"
      ]
     },
     "execution_count": 585,
     "metadata": {},
     "output_type": "execute_result"
    },
    {
     "data": {
      "image/png": "[encoded data removed]",
      "text/plain": [
       "<Figure size 640x480 with 1 Axes>"
      ]
     },
     "metadata": {},
     "output_type": "display_data"
    }
   ],
   "source": [
    "rec = decoder(z).detach().numpy()\n",
    "plt.scatter(X.numpy(), Y.numpy())\n",
    "plt.scatter(rec[:, 0], rec[:, 1])"
   ]
  }
 ],
 "metadata": {
  "kernelspec": {
   "display_name": "Python 3.9.12 ('base')",
   "language": "python",
   "name": "python3"
  },
  "language_info": {
   "codemirror_mode": {
    "name": "ipython",
    "version": 3
   },
   "file_extension": ".py",
   "mimetype": "text/x-python",
   "name": "python",
   "nbconvert_exporter": "python",
   "pygments_lexer": "ipython3",
   "version": "3.9.12"
  },
  "vscode": {
   "interpreter": {
    "hash": "d275ae2dd110ae8ec3aede4c2f3aa121db1a9e4bf32d7fcbeea0ef23bdc3ded4"
   }
  }
 },
 "nbformat": 4,
 "nbformat_minor": 2
}
