{
 "cells": [
  {
   "cell_type": "code",
   "execution_count": 1,
   "metadata": {},
   "outputs": [],
   "source": [
    "import torch\n",
    "import numpy as np\n",
    "import sys; sys.path.append('../src/'); sys.path.append('..')\n",
    "import matplotlib.pyplot as plt"
   ]
  },
  {
   "cell_type": "code",
   "execution_count": 2,
   "metadata": {},
   "outputs": [],
   "source": [
    "from src.model.utils.metrics import l2_loss, explained_reconstruction, mean_correlation, importance_correlation, main_exprec\n",
    "from src.least_volume_image import DCDiscriminator, TrueSNDCGenerator, AutoEncoder, DynamicPruningAE_v2, Adam, read_configs\n",
    "from src.dataset.images import MNISTImages, CIFAR10Images\n",
    "from torch.nn.functional import mse_loss\n",
    "from math import sqrt"
   ]
  },
  {
   "cell_type": "code",
   "execution_count": 3,
   "metadata": {},
   "outputs": [
    {
     "data": {
      "text/plain": [
       "AutoEncoder(\n",
       "  (encoder): DCDiscriminator(\n",
       "    (conv): Sequential(\n",
       "      (0): Conv2DCombo(\n",
       "        (model): Sequential(\n",
       "          (0): Conv2d(1, 32, kernel_size=(4, 4), stride=(2, 2), padding=(1, 1))\n",
       "          (1): LeakyReLU(negative_slope=0.2)\n",
       "        )\n",
       "      )\n",
       "      (1): Conv2DCombo(\n",
       "        (model): Sequential(\n",
       "          (0): Conv2d(32, 32, kernel_size=(4, 4), stride=(2, 2), padding=(1, 1))\n",
       "          (1): LeakyReLU(negative_slope=0.2)\n",
       "        )\n",
       "      )\n",
       "      (2): Flatten(start_dim=1, end_dim=-1)\n",
       "    )\n",
       "    (critics): MLP(\n",
       "      (model): Sequential(\n",
       "        (0): LinearCombo(\n",
       "          (model): Sequential(\n",
       "            (0): Linear(in_features=1568, out_features=128, bias=True)\n",
       "            (1): LeakyReLU(negative_slope=0.2)\n",
       "          )\n",
       "        )\n",
       "        (1): LinearCombo(\n",
       "          (model): Sequential(\n",
       "            (0): Linear(in_features=128, out_features=64, bias=True)\n",
       "            (1): LeakyReLU(negative_slope=0.2)\n",
       "          )\n",
       "        )\n",
       "        (2): Linear(in_features=64, out_features=20, bias=True)\n",
       "      )\n",
       "    )\n",
       "  )\n",
       "  (decoder): TrueSNDCGenerator(\n",
       "    (dense): SNMLP(\n",
       "      (model): Sequential(\n",
       "        (0): SNLinearCombo(\n",
       "          (model): Sequential(\n",
       "            (0): ParametrizedLinear(\n",
       "              in_features=20, out_features=64, bias=True\n",
       "              (parametrizations): ModuleDict(\n",
       "                (weight): ParametrizationList(\n",
       "                  (0): _SpectralNorm()\n",
       "                )\n",
       "              )\n",
       "            )\n",
       "            (1): LeakyReLU(negative_slope=0.2)\n",
       "          )\n",
       "        )\n",
       "        (1): SNLinearCombo(\n",
       "          (model): Sequential(\n",
       "            (0): ParametrizedLinear(\n",
       "              in_features=64, out_features=128, bias=True\n",
       "              (parametrizations): ModuleDict(\n",
       "                (weight): ParametrizationList(\n",
       "                  (0): _SpectralNorm()\n",
       "                )\n",
       "              )\n",
       "            )\n",
       "            (1): LeakyReLU(negative_slope=0.2)\n",
       "          )\n",
       "        )\n",
       "        (2): ParametrizedLinear(\n",
       "          in_features=128, out_features=1568, bias=True\n",
       "          (parametrizations): ModuleDict(\n",
       "            (weight): ParametrizationList(\n",
       "              (0): _SpectralNorm()\n",
       "            )\n",
       "          )\n",
       "        )\n",
       "      )\n",
       "    )\n",
       "    (deconv): Sequential(\n",
       "      (0): TrueSNDeconv2DCombo(\n",
       "        (model): Sequential(\n",
       "          (0): ParametrizedConvTranspose2d(\n",
       "            32, 32, kernel_size=(4, 4), stride=(2, 2), padding=(1, 1)\n",
       "            (parametrizations): ModuleDict(\n",
       "              (weight): ParametrizationList(\n",
       "                (0): _SpectralNormConvTranspose2d()\n",
       "              )\n",
       "            )\n",
       "          )\n",
       "          (1): LeakyReLU(negative_slope=0.2)\n",
       "        )\n",
       "      )\n",
       "      (1): ParametrizedConvTranspose2d(\n",
       "        32, 1, kernel_size=(4, 4), stride=(2, 2), padding=(1, 1)\n",
       "        (parametrizations): ModuleDict(\n",
       "          (weight): ParametrizationList(\n",
       "            (0): _SpectralNormConvTranspose2d()\n",
       "          )\n",
       "        )\n",
       "      )\n",
       "    )\n",
       "  )\n",
       ")"
      ]
     },
     "execution_count": 3,
     "metadata": {},
     "output_type": "execute_result"
    }
   ],
   "source": [
    "mnist_train = MNISTImages(True, device='cuda:5').images.data.unsqueeze(1).to('cuda:5') / 255\n",
    "mnist_test = MNISTImages(False, device='cuda:5').images.data.unsqueeze(1).to('cuda:5') / 255\n",
    "\n",
    "configs = read_configs('mnist', src='../src/')\n",
    "ae = AutoEncoder(configs, DCDiscriminator, TrueSNDCGenerator, Adam).to('cuda:5')\n",
    "ae.load('../saves/image/mnist/non10000.tar')\n",
    "ae.eval()"
   ]
  },
  {
   "cell_type": "code",
   "execution_count": 4,
   "metadata": {},
   "outputs": [
    {
     "data": {
      "text/plain": [
       "tensor(0.0022, device='cuda:5', grad_fn=<DivBackward0>)"
      ]
     },
     "execution_count": 4,
     "metadata": {},
     "output_type": "execute_result"
    }
   ],
   "source": [
    "rec = ae.decode(ae.encode(mnist_train))\n",
    "l2_loss(rec, mnist_train) / 28/28"
   ]
  },
  {
   "attachments": {},
   "cell_type": "markdown",
   "metadata": {},
   "source": [
    "Comment: set epsilon to 0.005"
   ]
  },
  {
   "cell_type": "code",
   "execution_count": 5,
   "metadata": {},
   "outputs": [
    {
     "data": {
      "text/plain": [
       "tensor(0.0041, device='cuda:5', grad_fn=<MseLossBackward0>)"
      ]
     },
     "execution_count": 5,
     "metadata": {},
     "output_type": "execute_result"
    }
   ],
   "source": [
    "mse_loss(rec, mnist_train)"
   ]
  },
  {
   "cell_type": "code",
   "execution_count": 6,
   "metadata": {},
   "outputs": [
    {
     "data": {
      "text/plain": [
       "<matplotlib.image.AxesImage at 0x7f01687ac880>"
      ]
     },
     "execution_count": 6,
     "metadata": {},
     "output_type": "execute_result"
    },
    {
     "data": {
      "image/png": "[encoded data removed]",
      "text/plain": [
       "<Figure size 640x480 with 2 Axes>"
      ]
     },
     "metadata": {},
     "output_type": "display_data"
    }
   ],
   "source": [
    "fig = plt.figure()\n",
    "ax = fig.add_subplot(1, 2, 1)\n",
    "ax.imshow(rec[100, 0].clip(0, 1).detach().cpu())\n",
    "ax = fig.add_subplot(1, 2, 2)\n",
    "ax.imshow(mnist_train[100, 0].detach().cpu())"
   ]
  },
  {
   "cell_type": "code",
   "execution_count": 7,
   "metadata": {},
   "outputs": [
    {
     "data": {
      "text/plain": [
       "tensor(1.8980, device='cuda:5', grad_fn=<MeanBackward0>)"
      ]
     },
     "execution_count": 7,
     "metadata": {},
     "output_type": "execute_result"
    }
   ],
   "source": [
    "rect = ae.decode(ae.encode(mnist_test))\n",
    "l2_loss(rect, mnist_test)"
   ]
  },
  {
   "cell_type": "code",
   "execution_count": 8,
   "metadata": {},
   "outputs": [
    {
     "data": {
      "text/plain": [
       "<matplotlib.image.AxesImage at 0x7f01270fc9d0>"
      ]
     },
     "execution_count": 8,
     "metadata": {},
     "output_type": "execute_result"
    },
    {
     "data": {
      "image/png": "[encoded data removed]",
      "text/plain": [
       "<Figure size 640x480 with 2 Axes>"
      ]
     },
     "metadata": {},
     "output_type": "display_data"
    }
   ],
   "source": [
    "fig = plt.figure()\n",
    "ax = fig.add_subplot(1, 2, 1)\n",
    "ax.imshow(rect[100, 0].clip(0, 1).detach().cpu())\n",
    "ax = fig.add_subplot(1, 2, 2)\n",
    "ax.imshow(mnist_test[100, 0].detach().cpu())"
   ]
  },
  {
   "attachments": {},
   "cell_type": "markdown",
   "metadata": {},
   "source": [
    "# CIFAR10"
   ]
  },
  {
   "cell_type": "code",
   "execution_count": 9,
   "metadata": {},
   "outputs": [
    {
     "name": "stdout",
     "output_type": "stream",
     "text": [
      "Files already downloaded and verified\n",
      "Files already downloaded and verified\n"
     ]
    },
    {
     "data": {
      "text/plain": [
       "AutoEncoder(\n",
       "  (encoder): DCDiscriminator(\n",
       "    (conv): Sequential(\n",
       "      (0): Conv2DCombo(\n",
       "        (model): Sequential(\n",
       "          (0): Conv2d(3, 32, kernel_size=(4, 4), stride=(2, 2), padding=(1, 1))\n",
       "          (1): LeakyReLU(negative_slope=0.2)\n",
       "        )\n",
       "      )\n",
       "      (1): Conv2DCombo(\n",
       "        (model): Sequential(\n",
       "          (0): Conv2d(32, 64, kernel_size=(4, 4), stride=(2, 2), padding=(1, 1))\n",
       "          (1): LeakyReLU(negative_slope=0.2)\n",
       "        )\n",
       "      )\n",
       "      (2): Conv2DCombo(\n",
       "        (model): Sequential(\n",
       "          (0): Conv2d(64, 128, kernel_size=(4, 4), stride=(2, 2), padding=(1, 1))\n",
       "          (1): LeakyReLU(negative_slope=0.2)\n",
       "        )\n",
       "      )\n",
       "      (3): Flatten(start_dim=1, end_dim=-1)\n",
       "    )\n",
       "    (critics): MLP(\n",
       "      (model): Sequential(\n",
       "        (0): LinearCombo(\n",
       "          (model): Sequential(\n",
       "            (0): Linear(in_features=2048, out_features=256, bias=True)\n",
       "            (1): LeakyReLU(negative_slope=0.2)\n",
       "          )\n",
       "        )\n",
       "        (1): LinearCombo(\n",
       "          (model): Sequential(\n",
       "            (0): Linear(in_features=256, out_features=128, bias=True)\n",
       "            (1): LeakyReLU(negative_slope=0.2)\n",
       "          )\n",
       "        )\n",
       "        (2): Linear(in_features=128, out_features=100, bias=True)\n",
       "      )\n",
       "    )\n",
       "  )\n",
       "  (decoder): TrueSNDCGenerator(\n",
       "    (dense): SNMLP(\n",
       "      (model): Sequential(\n",
       "        (0): SNLinearCombo(\n",
       "          (model): Sequential(\n",
       "            (0): ParametrizedLinear(\n",
       "              in_features=100, out_features=128, bias=True\n",
       "              (parametrizations): ModuleDict(\n",
       "                (weight): ParametrizationList(\n",
       "                  (0): _SpectralNorm()\n",
       "                )\n",
       "              )\n",
       "            )\n",
       "            (1): LeakyReLU(negative_slope=0.2)\n",
       "          )\n",
       "        )\n",
       "        (1): SNLinearCombo(\n",
       "          (model): Sequential(\n",
       "            (0): ParametrizedLinear(\n",
       "              in_features=128, out_features=256, bias=True\n",
       "              (parametrizations): ModuleDict(\n",
       "                (weight): ParametrizationList(\n",
       "                  (0): _SpectralNorm()\n",
       "                )\n",
       "              )\n",
       "            )\n",
       "            (1): LeakyReLU(negative_slope=0.2)\n",
       "          )\n",
       "        )\n",
       "        (2): ParametrizedLinear(\n",
       "          in_features=256, out_features=2048, bias=True\n",
       "          (parametrizations): ModuleDict(\n",
       "            (weight): ParametrizationList(\n",
       "              (0): _SpectralNorm()\n",
       "            )\n",
       "          )\n",
       "        )\n",
       "      )\n",
       "    )\n",
       "    (deconv): Sequential(\n",
       "      (0): TrueSNDeconv2DCombo(\n",
       "        (model): Sequential(\n",
       "          (0): ParametrizedConvTranspose2d(\n",
       "            128, 64, kernel_size=(4, 4), stride=(2, 2), padding=(1, 1)\n",
       "            (parametrizations): ModuleDict(\n",
       "              (weight): ParametrizationList(\n",
       "                (0): _SpectralNormConvTranspose2d()\n",
       "              )\n",
       "            )\n",
       "          )\n",
       "          (1): LeakyReLU(negative_slope=0.2)\n",
       "        )\n",
       "      )\n",
       "      (1): TrueSNDeconv2DCombo(\n",
       "        (model): Sequential(\n",
       "          (0): ParametrizedConvTranspose2d(\n",
       "            64, 32, kernel_size=(4, 4), stride=(2, 2), padding=(1, 1)\n",
       "            (parametrizations): ModuleDict(\n",
       "              (weight): ParametrizationList(\n",
       "                (0): _SpectralNormConvTranspose2d()\n",
       "              )\n",
       "            )\n",
       "          )\n",
       "          (1): LeakyReLU(negative_slope=0.2)\n",
       "        )\n",
       "      )\n",
       "      (2): ParametrizedConvTranspose2d(\n",
       "        32, 3, kernel_size=(4, 4), stride=(2, 2), padding=(1, 1)\n",
       "        (parametrizations): ModuleDict(\n",
       "          (weight): ParametrizationList(\n",
       "            (0): _SpectralNormConvTranspose2d()\n",
       "          )\n",
       "        )\n",
       "      )\n",
       "    )\n",
       "  )\n",
       ")"
      ]
     },
     "execution_count": 9,
     "metadata": {},
     "output_type": "execute_result"
    }
   ],
   "source": [
    "cifar_train = torch.as_tensor(CIFAR10Images(True, device='cuda:5').images.data).to('cuda:5') / 255\n",
    "cifar_test = torch.as_tensor(CIFAR10Images(False, device='cuda:5').images.data).to('cuda:5') / 255\n",
    "\n",
    "configs = read_configs('cifar10', src='../src/')\n",
    "ae = AutoEncoder(configs, DCDiscriminator, TrueSNDCGenerator, Adam).to('cuda:5')\n",
    "ae.load('../saves/image/cifar10/non10000.tar')\n",
    "ae.eval()"
   ]
  },
  {
   "cell_type": "code",
   "execution_count": 10,
   "metadata": {},
   "outputs": [
    {
     "data": {
      "text/plain": [
       "tensor(4.3147, device='cuda:5', grad_fn=<MeanBackward0>)"
      ]
     },
     "execution_count": 10,
     "metadata": {},
     "output_type": "execute_result"
    }
   ],
   "source": [
    "rec = ae.decode(ae.encode(cifar_train.permute(0, 3, 2, 1))).permute(0, 3, 2, 1)\n",
    "l2_loss(rec, cifar_train)"
   ]
  },
  {
   "cell_type": "code",
   "execution_count": 23,
   "metadata": {},
   "outputs": [
    {
     "data": {
      "text/plain": [
       "<matplotlib.image.AxesImage at 0x7f01184a9d80>"
      ]
     },
     "execution_count": 23,
     "metadata": {},
     "output_type": "execute_result"
    },
    {
     "data": {
      "image/png": "[encoded data removed]",
      "text/plain": [
       "<Figure size 640x480 with 2 Axes>"
      ]
     },
     "metadata": {},
     "output_type": "display_data"
    }
   ],
   "source": [
    "i=7\n",
    "fig = plt.figure()\n",
    "ax = fig.add_subplot(1, 2, 1)\n",
    "ax.imshow(rec[i].detach().cpu())\n",
    "ax = fig.add_subplot(1, 2, 2)\n",
    "ax.imshow(cifar_train[i].detach().cpu())"
   ]
  },
  {
   "cell_type": "code",
   "execution_count": 12,
   "metadata": {},
   "outputs": [
    {
     "data": {
      "text/plain": [
       "tensor(4.3113, device='cuda:5', grad_fn=<MeanBackward0>)"
      ]
     },
     "execution_count": 12,
     "metadata": {},
     "output_type": "execute_result"
    }
   ],
   "source": [
    "rect = ae.decode(ae.encode(cifar_test.permute(0, 3, 2, 1))).permute(0, 3, 2, 1)\n",
    "l2_loss(rect, cifar_test)"
   ]
  },
  {
   "cell_type": "code",
   "execution_count": 16,
   "metadata": {},
   "outputs": [
    {
     "data": {
      "text/plain": [
       "<matplotlib.image.AxesImage at 0x7f0127216c50>"
      ]
     },
     "execution_count": 16,
     "metadata": {},
     "output_type": "execute_result"
    },
    {
     "data": {
      "image/png": "[encoded data removed]",
      "text/plain": [
       "<Figure size 640x480 with 2 Axes>"
      ]
     },
     "metadata": {},
     "output_type": "display_data"
    }
   ],
   "source": [
    "fig = plt.figure()\n",
    "ax = fig.add_subplot(1, 2, 1)\n",
    "ax.imshow(rect[0].detach().cpu())\n",
    "ax = fig.add_subplot(1, 2, 2)\n",
    "ax.imshow(cifar_test[0].detach().cpu())"
   ]
  },
  {
   "cell_type": "code",
   "execution_count": null,
   "metadata": {},
   "outputs": [],
   "source": []
  }
 ],
 "metadata": {
  "kernelspec": {
   "display_name": "Python 3",
   "language": "python",
   "name": "python3"
  },
  "language_info": {
   "codemirror_mode": {
    "name": "ipython",
    "version": 3
   },
   "file_extension": ".py",
   "mimetype": "text/x-python",
   "name": "python",
   "nbconvert_exporter": "python",
   "pygments_lexer": "ipython3",
   "version": "3.10.10"
  },
  "orig_nbformat": 4
 },
 "nbformat": 4,
 "nbformat_minor": 2
}
