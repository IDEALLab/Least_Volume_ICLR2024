{
 "cells": [
  {
   "cell_type": "code",
   "execution_count": 2,
   "metadata": {},
   "outputs": [],
   "source": [
    "import torch\n",
    "import numpy as np\n",
    "import sys; sys.path.append('../src/')"
   ]
  },
  {
   "cell_type": "code",
   "execution_count": 8,
   "metadata": {},
   "outputs": [],
   "source": [
    "from toy_experiment import DynamicPruningAE, generate_configs, MLP, Adam"
   ]
  },
  {
   "cell_type": "code",
   "execution_count": 5,
   "metadata": {},
   "outputs": [],
   "source": [
    "configs = generate_configs(8, [32, 32], 'dp')"
   ]
  },
  {
   "cell_type": "code",
   "execution_count": 7,
   "metadata": {},
   "outputs": [],
   "source": [
    "configs['r_t'] = 1e-4; configs['z_t'] = 1e-3"
   ]
  },
  {
   "cell_type": "code",
   "execution_count": 17,
   "metadata": {},
   "outputs": [],
   "source": [
    "ae = DynamicPruningAE(configs, MLP, MLP, Adam)\n",
    "ae._p[1] = True"
   ]
  },
  {
   "cell_type": "code",
   "execution_count": 18,
   "metadata": {},
   "outputs": [
    {
     "data": {
      "text/plain": [
       "tensor([[-0.1738,  0.0000, -0.0211, -0.1239,  0.1583, -0.1149,  0.0778, -0.0261],\n",
       "        [-0.2092,  0.0000, -0.0122, -0.1249,  0.1443, -0.0829,  0.0637, -0.0258],\n",
       "        [-0.1616,  0.0000,  0.0127, -0.1281,  0.1723, -0.1315,  0.0767, -0.0497],\n",
       "        [-0.1860,  0.0000, -0.0638, -0.1175,  0.1233, -0.1799,  0.0868, -0.0347],\n",
       "        [-0.1917,  0.0000,  0.0126, -0.1366,  0.1534, -0.1057,  0.0615, -0.0160],\n",
       "        [-0.1858,  0.0000, -0.0406, -0.1091,  0.1233, -0.1143,  0.0801, -0.0183],\n",
       "        [-0.2081,  0.0000, -0.0305, -0.0908,  0.1437, -0.1732,  0.0634, -0.0627],\n",
       "        [-0.2025,  0.0000, -0.0276, -0.1581,  0.1552, -0.1859,  0.0799, -0.0667],\n",
       "        [-0.1836,  0.0000,  0.0143, -0.1541,  0.1566, -0.1108,  0.0738, -0.0239],\n",
       "        [-0.1408,  0.0000,  0.0092, -0.1275,  0.1808, -0.1068,  0.0788, -0.0234]],\n",
       "       grad_fn=<CopySlices>)"
      ]
     },
     "execution_count": 18,
     "metadata": {},
     "output_type": "execute_result"
    }
   ],
   "source": [
    "ae.encode(torch.rand(10, 8))"
   ]
  },
  {
   "cell_type": "code",
   "execution_count": null,
   "metadata": {},
   "outputs": [],
   "source": []
  }
 ],
 "metadata": {
  "kernelspec": {
   "display_name": "base",
   "language": "python",
   "name": "python3"
  },
  "language_info": {
   "codemirror_mode": {
    "name": "ipython",
    "version": 3
   },
   "file_extension": ".py",
   "mimetype": "text/x-python",
   "name": "python",
   "nbconvert_exporter": "python",
   "pygments_lexer": "ipython3",
   "version": "3.8.10"
  },
  "orig_nbformat": 4,
  "vscode": {
   "interpreter": {
    "hash": "d4d1e4263499bec80672ea0156c357c1ee493ec2b1c70f0acce89fc37c4a6abe"
   }
  }
 },
 "nbformat": 4,
 "nbformat_minor": 2
}
